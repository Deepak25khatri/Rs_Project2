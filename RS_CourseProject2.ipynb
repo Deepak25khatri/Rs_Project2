{
  "nbformat": 4,
  "nbformat_minor": 0,
  "metadata": {
    "colab": {
      "provenance": []
    },
    "kernelspec": {
      "name": "python3",
      "display_name": "Python 3"
    },
    "language_info": {
      "name": "python"
    }
  },
  "cells": [
    {
      "cell_type": "code",
      "execution_count": null,
      "metadata": {
        "colab": {
          "base_uri": "https://localhost:8080/",
          "height": 38
        },
        "id": "y6I0V2snyE0Z",
        "outputId": "1a97390e-5e98-42fc-e55c-14f79b1dc818"
      },
      "outputs": [
        {
          "output_type": "display_data",
          "data": {
            "text/plain": [
              "<IPython.core.display.HTML object>"
            ],
            "text/html": [
              "\n",
              "     <input type=\"file\" id=\"files-732e039c-e465-45f4-9057-59cf7ffa5068\" name=\"files[]\" multiple disabled\n",
              "        style=\"border:none\" />\n",
              "     <output id=\"result-732e039c-e465-45f4-9057-59cf7ffa5068\">\n",
              "      Upload widget is only available when the cell has been executed in the\n",
              "      current browser session. Please rerun this cell to enable.\n",
              "      </output>\n",
              "      <script>// Copyright 2017 Google LLC\n",
              "//\n",
              "// Licensed under the Apache License, Version 2.0 (the \"License\");\n",
              "// you may not use this file except in compliance with the License.\n",
              "// You may obtain a copy of the License at\n",
              "//\n",
              "//      http://www.apache.org/licenses/LICENSE-2.0\n",
              "//\n",
              "// Unless required by applicable law or agreed to in writing, software\n",
              "// distributed under the License is distributed on an \"AS IS\" BASIS,\n",
              "// WITHOUT WARRANTIES OR CONDITIONS OF ANY KIND, either express or implied.\n",
              "// See the License for the specific language governing permissions and\n",
              "// limitations under the License.\n",
              "\n",
              "/**\n",
              " * @fileoverview Helpers for google.colab Python module.\n",
              " */\n",
              "(function(scope) {\n",
              "function span(text, styleAttributes = {}) {\n",
              "  const element = document.createElement('span');\n",
              "  element.textContent = text;\n",
              "  for (const key of Object.keys(styleAttributes)) {\n",
              "    element.style[key] = styleAttributes[key];\n",
              "  }\n",
              "  return element;\n",
              "}\n",
              "\n",
              "// Max number of bytes which will be uploaded at a time.\n",
              "const MAX_PAYLOAD_SIZE = 100 * 1024;\n",
              "\n",
              "function _uploadFiles(inputId, outputId) {\n",
              "  const steps = uploadFilesStep(inputId, outputId);\n",
              "  const outputElement = document.getElementById(outputId);\n",
              "  // Cache steps on the outputElement to make it available for the next call\n",
              "  // to uploadFilesContinue from Python.\n",
              "  outputElement.steps = steps;\n",
              "\n",
              "  return _uploadFilesContinue(outputId);\n",
              "}\n",
              "\n",
              "// This is roughly an async generator (not supported in the browser yet),\n",
              "// where there are multiple asynchronous steps and the Python side is going\n",
              "// to poll for completion of each step.\n",
              "// This uses a Promise to block the python side on completion of each step,\n",
              "// then passes the result of the previous step as the input to the next step.\n",
              "function _uploadFilesContinue(outputId) {\n",
              "  const outputElement = document.getElementById(outputId);\n",
              "  const steps = outputElement.steps;\n",
              "\n",
              "  const next = steps.next(outputElement.lastPromiseValue);\n",
              "  return Promise.resolve(next.value.promise).then((value) => {\n",
              "    // Cache the last promise value to make it available to the next\n",
              "    // step of the generator.\n",
              "    outputElement.lastPromiseValue = value;\n",
              "    return next.value.response;\n",
              "  });\n",
              "}\n",
              "\n",
              "/**\n",
              " * Generator function which is called between each async step of the upload\n",
              " * process.\n",
              " * @param {string} inputId Element ID of the input file picker element.\n",
              " * @param {string} outputId Element ID of the output display.\n",
              " * @return {!Iterable<!Object>} Iterable of next steps.\n",
              " */\n",
              "function* uploadFilesStep(inputId, outputId) {\n",
              "  const inputElement = document.getElementById(inputId);\n",
              "  inputElement.disabled = false;\n",
              "\n",
              "  const outputElement = document.getElementById(outputId);\n",
              "  outputElement.innerHTML = '';\n",
              "\n",
              "  const pickedPromise = new Promise((resolve) => {\n",
              "    inputElement.addEventListener('change', (e) => {\n",
              "      resolve(e.target.files);\n",
              "    });\n",
              "  });\n",
              "\n",
              "  const cancel = document.createElement('button');\n",
              "  inputElement.parentElement.appendChild(cancel);\n",
              "  cancel.textContent = 'Cancel upload';\n",
              "  const cancelPromise = new Promise((resolve) => {\n",
              "    cancel.onclick = () => {\n",
              "      resolve(null);\n",
              "    };\n",
              "  });\n",
              "\n",
              "  // Wait for the user to pick the files.\n",
              "  const files = yield {\n",
              "    promise: Promise.race([pickedPromise, cancelPromise]),\n",
              "    response: {\n",
              "      action: 'starting',\n",
              "    }\n",
              "  };\n",
              "\n",
              "  cancel.remove();\n",
              "\n",
              "  // Disable the input element since further picks are not allowed.\n",
              "  inputElement.disabled = true;\n",
              "\n",
              "  if (!files) {\n",
              "    return {\n",
              "      response: {\n",
              "        action: 'complete',\n",
              "      }\n",
              "    };\n",
              "  }\n",
              "\n",
              "  for (const file of files) {\n",
              "    const li = document.createElement('li');\n",
              "    li.append(span(file.name, {fontWeight: 'bold'}));\n",
              "    li.append(span(\n",
              "        `(${file.type || 'n/a'}) - ${file.size} bytes, ` +\n",
              "        `last modified: ${\n",
              "            file.lastModifiedDate ? file.lastModifiedDate.toLocaleDateString() :\n",
              "                                    'n/a'} - `));\n",
              "    const percent = span('0% done');\n",
              "    li.appendChild(percent);\n",
              "\n",
              "    outputElement.appendChild(li);\n",
              "\n",
              "    const fileDataPromise = new Promise((resolve) => {\n",
              "      const reader = new FileReader();\n",
              "      reader.onload = (e) => {\n",
              "        resolve(e.target.result);\n",
              "      };\n",
              "      reader.readAsArrayBuffer(file);\n",
              "    });\n",
              "    // Wait for the data to be ready.\n",
              "    let fileData = yield {\n",
              "      promise: fileDataPromise,\n",
              "      response: {\n",
              "        action: 'continue',\n",
              "      }\n",
              "    };\n",
              "\n",
              "    // Use a chunked sending to avoid message size limits. See b/62115660.\n",
              "    let position = 0;\n",
              "    do {\n",
              "      const length = Math.min(fileData.byteLength - position, MAX_PAYLOAD_SIZE);\n",
              "      const chunk = new Uint8Array(fileData, position, length);\n",
              "      position += length;\n",
              "\n",
              "      const base64 = btoa(String.fromCharCode.apply(null, chunk));\n",
              "      yield {\n",
              "        response: {\n",
              "          action: 'append',\n",
              "          file: file.name,\n",
              "          data: base64,\n",
              "        },\n",
              "      };\n",
              "\n",
              "      let percentDone = fileData.byteLength === 0 ?\n",
              "          100 :\n",
              "          Math.round((position / fileData.byteLength) * 100);\n",
              "      percent.textContent = `${percentDone}% done`;\n",
              "\n",
              "    } while (position < fileData.byteLength);\n",
              "  }\n",
              "\n",
              "  // All done.\n",
              "  yield {\n",
              "    response: {\n",
              "      action: 'complete',\n",
              "    }\n",
              "  };\n",
              "}\n",
              "\n",
              "scope.google = scope.google || {};\n",
              "scope.google.colab = scope.google.colab || {};\n",
              "scope.google.colab._files = {\n",
              "  _uploadFiles,\n",
              "  _uploadFilesContinue,\n",
              "};\n",
              "})(self);\n",
              "</script> "
            ]
          },
          "metadata": {}
        }
      ],
      "source": [
        "from google.colab import files\n",
        "\n",
        "uploaded = files.upload()\n",
        "\n",
        "# Assuming you've uploaded a single ZIP file, get its filename.\n",
        "zip_file_name = next(iter(uploaded.keys()))\n",
        "print(f\"Uploaded file: {zip_file_name}\")\n"
      ]
    },
    {
      "cell_type": "code",
      "source": [
        "!unzip \"$zip_file_name\" -d \"/content/unzipped_contents/\"\n"
      ],
      "metadata": {
        "id": "HDCF62heyhXm",
        "colab": {
          "base_uri": "https://localhost:8080/"
        },
        "outputId": "2712b549-93b9-46ae-ce1b-d0d11b531ca3"
      },
      "execution_count": null,
      "outputs": [
        {
          "output_type": "stream",
          "name": "stdout",
          "text": [
            "Archive:  archive (6).zip\n",
            "  inflating: /content/unzipped_contents/Books.csv  \n",
            "  inflating: /content/unzipped_contents/DeepRec.png  \n",
            "  inflating: /content/unzipped_contents/Ratings.csv  \n",
            "  inflating: /content/unzipped_contents/Users.csv  \n",
            "  inflating: /content/unzipped_contents/classicRec.png  \n",
            "  inflating: /content/unzipped_contents/recsys_taxonomy2.png  \n"
          ]
        }
      ]
    },
    {
      "cell_type": "code",
      "source": [
        "import pandas as pd\n",
        "from sklearn.metrics.pairwise import cosine_similarity\n",
        "from scipy.sparse import csr_matrix"
      ],
      "metadata": {
        "id": "wv9o50N30Mhk"
      },
      "execution_count": null,
      "outputs": []
    },
    {
      "cell_type": "code",
      "source": [
        "from google.colab import drive\n",
        "drive.mount('/content/drive')"
      ],
      "metadata": {
        "colab": {
          "base_uri": "https://localhost:8080/"
        },
        "id": "mVFEiWgmUXDZ",
        "outputId": "c77c2d86-5cf9-415a-e23d-95d18d2c9ec5"
      },
      "execution_count": null,
      "outputs": [
        {
          "output_type": "stream",
          "name": "stdout",
          "text": [
            "Mounted at /content/drive\n"
          ]
        }
      ]
    },
    {
      "cell_type": "code",
      "source": [
        "books_df = pd.read_csv(\"/content/drive/MyDrive/RecSys/Books.csv\")"
      ],
      "metadata": {
        "id": "aMOVFkBeOKPn",
        "colab": {
          "base_uri": "https://localhost:8080/"
        },
        "outputId": "10f5d2e8-457e-4620-a8dc-ccae1340c127"
      },
      "execution_count": null,
      "outputs": [
        {
          "output_type": "stream",
          "name": "stderr",
          "text": [
            "<ipython-input-5-0f93050cf5cb>:1: DtypeWarning: Columns (3) have mixed types. Specify dtype option on import or set low_memory=False.\n",
            "  books_df = pd.read_csv(\"/content/drive/MyDrive/RecSys/Books.csv\")\n"
          ]
        }
      ]
    },
    {
      "cell_type": "code",
      "source": [
        "books_df.head()"
      ],
      "metadata": {
        "colab": {
          "base_uri": "https://localhost:8080/",
          "height": 434
        },
        "id": "IL7bXEp0OWj8",
        "outputId": "a35073d5-d2f0-4170-d1c2-3dea695cc69a"
      },
      "execution_count": null,
      "outputs": [
        {
          "output_type": "execute_result",
          "data": {
            "text/plain": [
              "         ISBN                                         Book-Title  \\\n",
              "0  0195153448                                Classical Mythology   \n",
              "1  0002005018                                       Clara Callan   \n",
              "2  0060973129                               Decision in Normandy   \n",
              "3  0374157065  Flu: The Story of the Great Influenza Pandemic...   \n",
              "4  0393045218                             The Mummies of Urumchi   \n",
              "\n",
              "            Book-Author Year-Of-Publication                   Publisher  \\\n",
              "0    Mark P. O. Morford                2002     Oxford University Press   \n",
              "1  Richard Bruce Wright                2001       HarperFlamingo Canada   \n",
              "2          Carlo D'Este                1991             HarperPerennial   \n",
              "3      Gina Bari Kolata                1999        Farrar Straus Giroux   \n",
              "4       E. J. W. Barber                1999  W. W. Norton &amp; Company   \n",
              "\n",
              "                                         Image-URL-S  \\\n",
              "0  http://images.amazon.com/images/P/0195153448.0...   \n",
              "1  http://images.amazon.com/images/P/0002005018.0...   \n",
              "2  http://images.amazon.com/images/P/0060973129.0...   \n",
              "3  http://images.amazon.com/images/P/0374157065.0...   \n",
              "4  http://images.amazon.com/images/P/0393045218.0...   \n",
              "\n",
              "                                         Image-URL-M  \\\n",
              "0  http://images.amazon.com/images/P/0195153448.0...   \n",
              "1  http://images.amazon.com/images/P/0002005018.0...   \n",
              "2  http://images.amazon.com/images/P/0060973129.0...   \n",
              "3  http://images.amazon.com/images/P/0374157065.0...   \n",
              "4  http://images.amazon.com/images/P/0393045218.0...   \n",
              "\n",
              "                                         Image-URL-L  \n",
              "0  http://images.amazon.com/images/P/0195153448.0...  \n",
              "1  http://images.amazon.com/images/P/0002005018.0...  \n",
              "2  http://images.amazon.com/images/P/0060973129.0...  \n",
              "3  http://images.amazon.com/images/P/0374157065.0...  \n",
              "4  http://images.amazon.com/images/P/0393045218.0...  "
            ],
            "text/html": [
              "\n",
              "  <div id=\"df-694fa848-9ed8-4a3b-bd10-1d6043d5a2a4\" class=\"colab-df-container\">\n",
              "    <div>\n",
              "<style scoped>\n",
              "    .dataframe tbody tr th:only-of-type {\n",
              "        vertical-align: middle;\n",
              "    }\n",
              "\n",
              "    .dataframe tbody tr th {\n",
              "        vertical-align: top;\n",
              "    }\n",
              "\n",
              "    .dataframe thead th {\n",
              "        text-align: right;\n",
              "    }\n",
              "</style>\n",
              "<table border=\"1\" class=\"dataframe\">\n",
              "  <thead>\n",
              "    <tr style=\"text-align: right;\">\n",
              "      <th></th>\n",
              "      <th>ISBN</th>\n",
              "      <th>Book-Title</th>\n",
              "      <th>Book-Author</th>\n",
              "      <th>Year-Of-Publication</th>\n",
              "      <th>Publisher</th>\n",
              "      <th>Image-URL-S</th>\n",
              "      <th>Image-URL-M</th>\n",
              "      <th>Image-URL-L</th>\n",
              "    </tr>\n",
              "  </thead>\n",
              "  <tbody>\n",
              "    <tr>\n",
              "      <th>0</th>\n",
              "      <td>0195153448</td>\n",
              "      <td>Classical Mythology</td>\n",
              "      <td>Mark P. O. Morford</td>\n",
              "      <td>2002</td>\n",
              "      <td>Oxford University Press</td>\n",
              "      <td>http://images.amazon.com/images/P/0195153448.0...</td>\n",
              "      <td>http://images.amazon.com/images/P/0195153448.0...</td>\n",
              "      <td>http://images.amazon.com/images/P/0195153448.0...</td>\n",
              "    </tr>\n",
              "    <tr>\n",
              "      <th>1</th>\n",
              "      <td>0002005018</td>\n",
              "      <td>Clara Callan</td>\n",
              "      <td>Richard Bruce Wright</td>\n",
              "      <td>2001</td>\n",
              "      <td>HarperFlamingo Canada</td>\n",
              "      <td>http://images.amazon.com/images/P/0002005018.0...</td>\n",
              "      <td>http://images.amazon.com/images/P/0002005018.0...</td>\n",
              "      <td>http://images.amazon.com/images/P/0002005018.0...</td>\n",
              "    </tr>\n",
              "    <tr>\n",
              "      <th>2</th>\n",
              "      <td>0060973129</td>\n",
              "      <td>Decision in Normandy</td>\n",
              "      <td>Carlo D'Este</td>\n",
              "      <td>1991</td>\n",
              "      <td>HarperPerennial</td>\n",
              "      <td>http://images.amazon.com/images/P/0060973129.0...</td>\n",
              "      <td>http://images.amazon.com/images/P/0060973129.0...</td>\n",
              "      <td>http://images.amazon.com/images/P/0060973129.0...</td>\n",
              "    </tr>\n",
              "    <tr>\n",
              "      <th>3</th>\n",
              "      <td>0374157065</td>\n",
              "      <td>Flu: The Story of the Great Influenza Pandemic...</td>\n",
              "      <td>Gina Bari Kolata</td>\n",
              "      <td>1999</td>\n",
              "      <td>Farrar Straus Giroux</td>\n",
              "      <td>http://images.amazon.com/images/P/0374157065.0...</td>\n",
              "      <td>http://images.amazon.com/images/P/0374157065.0...</td>\n",
              "      <td>http://images.amazon.com/images/P/0374157065.0...</td>\n",
              "    </tr>\n",
              "    <tr>\n",
              "      <th>4</th>\n",
              "      <td>0393045218</td>\n",
              "      <td>The Mummies of Urumchi</td>\n",
              "      <td>E. J. W. Barber</td>\n",
              "      <td>1999</td>\n",
              "      <td>W. W. Norton &amp;amp; Company</td>\n",
              "      <td>http://images.amazon.com/images/P/0393045218.0...</td>\n",
              "      <td>http://images.amazon.com/images/P/0393045218.0...</td>\n",
              "      <td>http://images.amazon.com/images/P/0393045218.0...</td>\n",
              "    </tr>\n",
              "  </tbody>\n",
              "</table>\n",
              "</div>\n",
              "    <div class=\"colab-df-buttons\">\n",
              "\n",
              "  <div class=\"colab-df-container\">\n",
              "    <button class=\"colab-df-convert\" onclick=\"convertToInteractive('df-694fa848-9ed8-4a3b-bd10-1d6043d5a2a4')\"\n",
              "            title=\"Convert this dataframe to an interactive table.\"\n",
              "            style=\"display:none;\">\n",
              "\n",
              "  <svg xmlns=\"http://www.w3.org/2000/svg\" height=\"24px\" viewBox=\"0 -960 960 960\">\n",
              "    <path d=\"M120-120v-720h720v720H120Zm60-500h600v-160H180v160Zm220 220h160v-160H400v160Zm0 220h160v-160H400v160ZM180-400h160v-160H180v160Zm440 0h160v-160H620v160ZM180-180h160v-160H180v160Zm440 0h160v-160H620v160Z\"/>\n",
              "  </svg>\n",
              "    </button>\n",
              "\n",
              "  <style>\n",
              "    .colab-df-container {\n",
              "      display:flex;\n",
              "      gap: 12px;\n",
              "    }\n",
              "\n",
              "    .colab-df-convert {\n",
              "      background-color: #E8F0FE;\n",
              "      border: none;\n",
              "      border-radius: 50%;\n",
              "      cursor: pointer;\n",
              "      display: none;\n",
              "      fill: #1967D2;\n",
              "      height: 32px;\n",
              "      padding: 0 0 0 0;\n",
              "      width: 32px;\n",
              "    }\n",
              "\n",
              "    .colab-df-convert:hover {\n",
              "      background-color: #E2EBFA;\n",
              "      box-shadow: 0px 1px 2px rgba(60, 64, 67, 0.3), 0px 1px 3px 1px rgba(60, 64, 67, 0.15);\n",
              "      fill: #174EA6;\n",
              "    }\n",
              "\n",
              "    .colab-df-buttons div {\n",
              "      margin-bottom: 4px;\n",
              "    }\n",
              "\n",
              "    [theme=dark] .colab-df-convert {\n",
              "      background-color: #3B4455;\n",
              "      fill: #D2E3FC;\n",
              "    }\n",
              "\n",
              "    [theme=dark] .colab-df-convert:hover {\n",
              "      background-color: #434B5C;\n",
              "      box-shadow: 0px 1px 3px 1px rgba(0, 0, 0, 0.15);\n",
              "      filter: drop-shadow(0px 1px 2px rgba(0, 0, 0, 0.3));\n",
              "      fill: #FFFFFF;\n",
              "    }\n",
              "  </style>\n",
              "\n",
              "    <script>\n",
              "      const buttonEl =\n",
              "        document.querySelector('#df-694fa848-9ed8-4a3b-bd10-1d6043d5a2a4 button.colab-df-convert');\n",
              "      buttonEl.style.display =\n",
              "        google.colab.kernel.accessAllowed ? 'block' : 'none';\n",
              "\n",
              "      async function convertToInteractive(key) {\n",
              "        const element = document.querySelector('#df-694fa848-9ed8-4a3b-bd10-1d6043d5a2a4');\n",
              "        const dataTable =\n",
              "          await google.colab.kernel.invokeFunction('convertToInteractive',\n",
              "                                                    [key], {});\n",
              "        if (!dataTable) return;\n",
              "\n",
              "        const docLinkHtml = 'Like what you see? Visit the ' +\n",
              "          '<a target=\"_blank\" href=https://colab.research.google.com/notebooks/data_table.ipynb>data table notebook</a>'\n",
              "          + ' to learn more about interactive tables.';\n",
              "        element.innerHTML = '';\n",
              "        dataTable['output_type'] = 'display_data';\n",
              "        await google.colab.output.renderOutput(dataTable, element);\n",
              "        const docLink = document.createElement('div');\n",
              "        docLink.innerHTML = docLinkHtml;\n",
              "        element.appendChild(docLink);\n",
              "      }\n",
              "    </script>\n",
              "  </div>\n",
              "\n",
              "\n",
              "<div id=\"df-6f2d7271-2a7d-4e27-b8a1-15444de39a1e\">\n",
              "  <button class=\"colab-df-quickchart\" onclick=\"quickchart('df-6f2d7271-2a7d-4e27-b8a1-15444de39a1e')\"\n",
              "            title=\"Suggest charts\"\n",
              "            style=\"display:none;\">\n",
              "\n",
              "<svg xmlns=\"http://www.w3.org/2000/svg\" height=\"24px\"viewBox=\"0 0 24 24\"\n",
              "     width=\"24px\">\n",
              "    <g>\n",
              "        <path d=\"M19 3H5c-1.1 0-2 .9-2 2v14c0 1.1.9 2 2 2h14c1.1 0 2-.9 2-2V5c0-1.1-.9-2-2-2zM9 17H7v-7h2v7zm4 0h-2V7h2v10zm4 0h-2v-4h2v4z\"/>\n",
              "    </g>\n",
              "</svg>\n",
              "  </button>\n",
              "\n",
              "<style>\n",
              "  .colab-df-quickchart {\n",
              "      --bg-color: #E8F0FE;\n",
              "      --fill-color: #1967D2;\n",
              "      --hover-bg-color: #E2EBFA;\n",
              "      --hover-fill-color: #174EA6;\n",
              "      --disabled-fill-color: #AAA;\n",
              "      --disabled-bg-color: #DDD;\n",
              "  }\n",
              "\n",
              "  [theme=dark] .colab-df-quickchart {\n",
              "      --bg-color: #3B4455;\n",
              "      --fill-color: #D2E3FC;\n",
              "      --hover-bg-color: #434B5C;\n",
              "      --hover-fill-color: #FFFFFF;\n",
              "      --disabled-bg-color: #3B4455;\n",
              "      --disabled-fill-color: #666;\n",
              "  }\n",
              "\n",
              "  .colab-df-quickchart {\n",
              "    background-color: var(--bg-color);\n",
              "    border: none;\n",
              "    border-radius: 50%;\n",
              "    cursor: pointer;\n",
              "    display: none;\n",
              "    fill: var(--fill-color);\n",
              "    height: 32px;\n",
              "    padding: 0;\n",
              "    width: 32px;\n",
              "  }\n",
              "\n",
              "  .colab-df-quickchart:hover {\n",
              "    background-color: var(--hover-bg-color);\n",
              "    box-shadow: 0 1px 2px rgba(60, 64, 67, 0.3), 0 1px 3px 1px rgba(60, 64, 67, 0.15);\n",
              "    fill: var(--button-hover-fill-color);\n",
              "  }\n",
              "\n",
              "  .colab-df-quickchart-complete:disabled,\n",
              "  .colab-df-quickchart-complete:disabled:hover {\n",
              "    background-color: var(--disabled-bg-color);\n",
              "    fill: var(--disabled-fill-color);\n",
              "    box-shadow: none;\n",
              "  }\n",
              "\n",
              "  .colab-df-spinner {\n",
              "    border: 2px solid var(--fill-color);\n",
              "    border-color: transparent;\n",
              "    border-bottom-color: var(--fill-color);\n",
              "    animation:\n",
              "      spin 1s steps(1) infinite;\n",
              "  }\n",
              "\n",
              "  @keyframes spin {\n",
              "    0% {\n",
              "      border-color: transparent;\n",
              "      border-bottom-color: var(--fill-color);\n",
              "      border-left-color: var(--fill-color);\n",
              "    }\n",
              "    20% {\n",
              "      border-color: transparent;\n",
              "      border-left-color: var(--fill-color);\n",
              "      border-top-color: var(--fill-color);\n",
              "    }\n",
              "    30% {\n",
              "      border-color: transparent;\n",
              "      border-left-color: var(--fill-color);\n",
              "      border-top-color: var(--fill-color);\n",
              "      border-right-color: var(--fill-color);\n",
              "    }\n",
              "    40% {\n",
              "      border-color: transparent;\n",
              "      border-right-color: var(--fill-color);\n",
              "      border-top-color: var(--fill-color);\n",
              "    }\n",
              "    60% {\n",
              "      border-color: transparent;\n",
              "      border-right-color: var(--fill-color);\n",
              "    }\n",
              "    80% {\n",
              "      border-color: transparent;\n",
              "      border-right-color: var(--fill-color);\n",
              "      border-bottom-color: var(--fill-color);\n",
              "    }\n",
              "    90% {\n",
              "      border-color: transparent;\n",
              "      border-bottom-color: var(--fill-color);\n",
              "    }\n",
              "  }\n",
              "</style>\n",
              "\n",
              "  <script>\n",
              "    async function quickchart(key) {\n",
              "      const quickchartButtonEl =\n",
              "        document.querySelector('#' + key + ' button');\n",
              "      quickchartButtonEl.disabled = true;  // To prevent multiple clicks.\n",
              "      quickchartButtonEl.classList.add('colab-df-spinner');\n",
              "      try {\n",
              "        const charts = await google.colab.kernel.invokeFunction(\n",
              "            'suggestCharts', [key], {});\n",
              "      } catch (error) {\n",
              "        console.error('Error during call to suggestCharts:', error);\n",
              "      }\n",
              "      quickchartButtonEl.classList.remove('colab-df-spinner');\n",
              "      quickchartButtonEl.classList.add('colab-df-quickchart-complete');\n",
              "    }\n",
              "    (() => {\n",
              "      let quickchartButtonEl =\n",
              "        document.querySelector('#df-6f2d7271-2a7d-4e27-b8a1-15444de39a1e button');\n",
              "      quickchartButtonEl.style.display =\n",
              "        google.colab.kernel.accessAllowed ? 'block' : 'none';\n",
              "    })();\n",
              "  </script>\n",
              "</div>\n",
              "    </div>\n",
              "  </div>\n"
            ],
            "application/vnd.google.colaboratory.intrinsic+json": {
              "type": "dataframe",
              "variable_name": "books_df"
            }
          },
          "metadata": {},
          "execution_count": 6
        }
      ]
    },
    {
      "cell_type": "code",
      "source": [
        "rating_df = pd.read_csv(\"/content/drive/MyDrive/RecSys/Ratings.csv\")"
      ],
      "metadata": {
        "id": "V8mz29md0TDs"
      },
      "execution_count": null,
      "outputs": []
    },
    {
      "cell_type": "code",
      "source": [
        "rating_df.head()"
      ],
      "metadata": {
        "colab": {
          "base_uri": "https://localhost:8080/",
          "height": 206
        },
        "id": "E9PwC7U70YdH",
        "outputId": "bbcc0f17-e15f-45de-a619-2044c2c4d762"
      },
      "execution_count": null,
      "outputs": [
        {
          "output_type": "execute_result",
          "data": {
            "text/plain": [
              "   User-ID        ISBN  Book-Rating\n",
              "0   276725  034545104X            0\n",
              "1   276726  0155061224            5\n",
              "2   276727  0446520802            0\n",
              "3   276729  052165615X            3\n",
              "4   276729  0521795028            6"
            ],
            "text/html": [
              "\n",
              "  <div id=\"df-52bcb794-56a8-417e-b97b-459ca44f83b7\" class=\"colab-df-container\">\n",
              "    <div>\n",
              "<style scoped>\n",
              "    .dataframe tbody tr th:only-of-type {\n",
              "        vertical-align: middle;\n",
              "    }\n",
              "\n",
              "    .dataframe tbody tr th {\n",
              "        vertical-align: top;\n",
              "    }\n",
              "\n",
              "    .dataframe thead th {\n",
              "        text-align: right;\n",
              "    }\n",
              "</style>\n",
              "<table border=\"1\" class=\"dataframe\">\n",
              "  <thead>\n",
              "    <tr style=\"text-align: right;\">\n",
              "      <th></th>\n",
              "      <th>User-ID</th>\n",
              "      <th>ISBN</th>\n",
              "      <th>Book-Rating</th>\n",
              "    </tr>\n",
              "  </thead>\n",
              "  <tbody>\n",
              "    <tr>\n",
              "      <th>0</th>\n",
              "      <td>276725</td>\n",
              "      <td>034545104X</td>\n",
              "      <td>0</td>\n",
              "    </tr>\n",
              "    <tr>\n",
              "      <th>1</th>\n",
              "      <td>276726</td>\n",
              "      <td>0155061224</td>\n",
              "      <td>5</td>\n",
              "    </tr>\n",
              "    <tr>\n",
              "      <th>2</th>\n",
              "      <td>276727</td>\n",
              "      <td>0446520802</td>\n",
              "      <td>0</td>\n",
              "    </tr>\n",
              "    <tr>\n",
              "      <th>3</th>\n",
              "      <td>276729</td>\n",
              "      <td>052165615X</td>\n",
              "      <td>3</td>\n",
              "    </tr>\n",
              "    <tr>\n",
              "      <th>4</th>\n",
              "      <td>276729</td>\n",
              "      <td>0521795028</td>\n",
              "      <td>6</td>\n",
              "    </tr>\n",
              "  </tbody>\n",
              "</table>\n",
              "</div>\n",
              "    <div class=\"colab-df-buttons\">\n",
              "\n",
              "  <div class=\"colab-df-container\">\n",
              "    <button class=\"colab-df-convert\" onclick=\"convertToInteractive('df-52bcb794-56a8-417e-b97b-459ca44f83b7')\"\n",
              "            title=\"Convert this dataframe to an interactive table.\"\n",
              "            style=\"display:none;\">\n",
              "\n",
              "  <svg xmlns=\"http://www.w3.org/2000/svg\" height=\"24px\" viewBox=\"0 -960 960 960\">\n",
              "    <path d=\"M120-120v-720h720v720H120Zm60-500h600v-160H180v160Zm220 220h160v-160H400v160Zm0 220h160v-160H400v160ZM180-400h160v-160H180v160Zm440 0h160v-160H620v160ZM180-180h160v-160H180v160Zm440 0h160v-160H620v160Z\"/>\n",
              "  </svg>\n",
              "    </button>\n",
              "\n",
              "  <style>\n",
              "    .colab-df-container {\n",
              "      display:flex;\n",
              "      gap: 12px;\n",
              "    }\n",
              "\n",
              "    .colab-df-convert {\n",
              "      background-color: #E8F0FE;\n",
              "      border: none;\n",
              "      border-radius: 50%;\n",
              "      cursor: pointer;\n",
              "      display: none;\n",
              "      fill: #1967D2;\n",
              "      height: 32px;\n",
              "      padding: 0 0 0 0;\n",
              "      width: 32px;\n",
              "    }\n",
              "\n",
              "    .colab-df-convert:hover {\n",
              "      background-color: #E2EBFA;\n",
              "      box-shadow: 0px 1px 2px rgba(60, 64, 67, 0.3), 0px 1px 3px 1px rgba(60, 64, 67, 0.15);\n",
              "      fill: #174EA6;\n",
              "    }\n",
              "\n",
              "    .colab-df-buttons div {\n",
              "      margin-bottom: 4px;\n",
              "    }\n",
              "\n",
              "    [theme=dark] .colab-df-convert {\n",
              "      background-color: #3B4455;\n",
              "      fill: #D2E3FC;\n",
              "    }\n",
              "\n",
              "    [theme=dark] .colab-df-convert:hover {\n",
              "      background-color: #434B5C;\n",
              "      box-shadow: 0px 1px 3px 1px rgba(0, 0, 0, 0.15);\n",
              "      filter: drop-shadow(0px 1px 2px rgba(0, 0, 0, 0.3));\n",
              "      fill: #FFFFFF;\n",
              "    }\n",
              "  </style>\n",
              "\n",
              "    <script>\n",
              "      const buttonEl =\n",
              "        document.querySelector('#df-52bcb794-56a8-417e-b97b-459ca44f83b7 button.colab-df-convert');\n",
              "      buttonEl.style.display =\n",
              "        google.colab.kernel.accessAllowed ? 'block' : 'none';\n",
              "\n",
              "      async function convertToInteractive(key) {\n",
              "        const element = document.querySelector('#df-52bcb794-56a8-417e-b97b-459ca44f83b7');\n",
              "        const dataTable =\n",
              "          await google.colab.kernel.invokeFunction('convertToInteractive',\n",
              "                                                    [key], {});\n",
              "        if (!dataTable) return;\n",
              "\n",
              "        const docLinkHtml = 'Like what you see? Visit the ' +\n",
              "          '<a target=\"_blank\" href=https://colab.research.google.com/notebooks/data_table.ipynb>data table notebook</a>'\n",
              "          + ' to learn more about interactive tables.';\n",
              "        element.innerHTML = '';\n",
              "        dataTable['output_type'] = 'display_data';\n",
              "        await google.colab.output.renderOutput(dataTable, element);\n",
              "        const docLink = document.createElement('div');\n",
              "        docLink.innerHTML = docLinkHtml;\n",
              "        element.appendChild(docLink);\n",
              "      }\n",
              "    </script>\n",
              "  </div>\n",
              "\n",
              "\n",
              "<div id=\"df-803fbc05-e72c-4230-b5f9-8869670c78cc\">\n",
              "  <button class=\"colab-df-quickchart\" onclick=\"quickchart('df-803fbc05-e72c-4230-b5f9-8869670c78cc')\"\n",
              "            title=\"Suggest charts\"\n",
              "            style=\"display:none;\">\n",
              "\n",
              "<svg xmlns=\"http://www.w3.org/2000/svg\" height=\"24px\"viewBox=\"0 0 24 24\"\n",
              "     width=\"24px\">\n",
              "    <g>\n",
              "        <path d=\"M19 3H5c-1.1 0-2 .9-2 2v14c0 1.1.9 2 2 2h14c1.1 0 2-.9 2-2V5c0-1.1-.9-2-2-2zM9 17H7v-7h2v7zm4 0h-2V7h2v10zm4 0h-2v-4h2v4z\"/>\n",
              "    </g>\n",
              "</svg>\n",
              "  </button>\n",
              "\n",
              "<style>\n",
              "  .colab-df-quickchart {\n",
              "      --bg-color: #E8F0FE;\n",
              "      --fill-color: #1967D2;\n",
              "      --hover-bg-color: #E2EBFA;\n",
              "      --hover-fill-color: #174EA6;\n",
              "      --disabled-fill-color: #AAA;\n",
              "      --disabled-bg-color: #DDD;\n",
              "  }\n",
              "\n",
              "  [theme=dark] .colab-df-quickchart {\n",
              "      --bg-color: #3B4455;\n",
              "      --fill-color: #D2E3FC;\n",
              "      --hover-bg-color: #434B5C;\n",
              "      --hover-fill-color: #FFFFFF;\n",
              "      --disabled-bg-color: #3B4455;\n",
              "      --disabled-fill-color: #666;\n",
              "  }\n",
              "\n",
              "  .colab-df-quickchart {\n",
              "    background-color: var(--bg-color);\n",
              "    border: none;\n",
              "    border-radius: 50%;\n",
              "    cursor: pointer;\n",
              "    display: none;\n",
              "    fill: var(--fill-color);\n",
              "    height: 32px;\n",
              "    padding: 0;\n",
              "    width: 32px;\n",
              "  }\n",
              "\n",
              "  .colab-df-quickchart:hover {\n",
              "    background-color: var(--hover-bg-color);\n",
              "    box-shadow: 0 1px 2px rgba(60, 64, 67, 0.3), 0 1px 3px 1px rgba(60, 64, 67, 0.15);\n",
              "    fill: var(--button-hover-fill-color);\n",
              "  }\n",
              "\n",
              "  .colab-df-quickchart-complete:disabled,\n",
              "  .colab-df-quickchart-complete:disabled:hover {\n",
              "    background-color: var(--disabled-bg-color);\n",
              "    fill: var(--disabled-fill-color);\n",
              "    box-shadow: none;\n",
              "  }\n",
              "\n",
              "  .colab-df-spinner {\n",
              "    border: 2px solid var(--fill-color);\n",
              "    border-color: transparent;\n",
              "    border-bottom-color: var(--fill-color);\n",
              "    animation:\n",
              "      spin 1s steps(1) infinite;\n",
              "  }\n",
              "\n",
              "  @keyframes spin {\n",
              "    0% {\n",
              "      border-color: transparent;\n",
              "      border-bottom-color: var(--fill-color);\n",
              "      border-left-color: var(--fill-color);\n",
              "    }\n",
              "    20% {\n",
              "      border-color: transparent;\n",
              "      border-left-color: var(--fill-color);\n",
              "      border-top-color: var(--fill-color);\n",
              "    }\n",
              "    30% {\n",
              "      border-color: transparent;\n",
              "      border-left-color: var(--fill-color);\n",
              "      border-top-color: var(--fill-color);\n",
              "      border-right-color: var(--fill-color);\n",
              "    }\n",
              "    40% {\n",
              "      border-color: transparent;\n",
              "      border-right-color: var(--fill-color);\n",
              "      border-top-color: var(--fill-color);\n",
              "    }\n",
              "    60% {\n",
              "      border-color: transparent;\n",
              "      border-right-color: var(--fill-color);\n",
              "    }\n",
              "    80% {\n",
              "      border-color: transparent;\n",
              "      border-right-color: var(--fill-color);\n",
              "      border-bottom-color: var(--fill-color);\n",
              "    }\n",
              "    90% {\n",
              "      border-color: transparent;\n",
              "      border-bottom-color: var(--fill-color);\n",
              "    }\n",
              "  }\n",
              "</style>\n",
              "\n",
              "  <script>\n",
              "    async function quickchart(key) {\n",
              "      const quickchartButtonEl =\n",
              "        document.querySelector('#' + key + ' button');\n",
              "      quickchartButtonEl.disabled = true;  // To prevent multiple clicks.\n",
              "      quickchartButtonEl.classList.add('colab-df-spinner');\n",
              "      try {\n",
              "        const charts = await google.colab.kernel.invokeFunction(\n",
              "            'suggestCharts', [key], {});\n",
              "      } catch (error) {\n",
              "        console.error('Error during call to suggestCharts:', error);\n",
              "      }\n",
              "      quickchartButtonEl.classList.remove('colab-df-spinner');\n",
              "      quickchartButtonEl.classList.add('colab-df-quickchart-complete');\n",
              "    }\n",
              "    (() => {\n",
              "      let quickchartButtonEl =\n",
              "        document.querySelector('#df-803fbc05-e72c-4230-b5f9-8869670c78cc button');\n",
              "      quickchartButtonEl.style.display =\n",
              "        google.colab.kernel.accessAllowed ? 'block' : 'none';\n",
              "    })();\n",
              "  </script>\n",
              "</div>\n",
              "    </div>\n",
              "  </div>\n"
            ],
            "application/vnd.google.colaboratory.intrinsic+json": {
              "type": "dataframe",
              "variable_name": "rating_df"
            }
          },
          "metadata": {},
          "execution_count": 8
        }
      ]
    },
    {
      "cell_type": "code",
      "source": [
        "merged_df = pd.merge(books_df[['ISBN', 'Book-Title', 'Book-Author', 'Year-Of-Publication', 'Publisher', 'Image-URL-S', 'Image-URL-M', 'Image-URL-L']], rating_df, on='ISBN', how='inner')[['User-ID', 'ISBN', 'Book-Title', 'Book-Author', 'Year-Of-Publication', 'Publisher', 'Image-URL-S', 'Image-URL-M', 'Image-URL-L', 'Book-Rating']]\n",
        "\n",
        "merged_df.head(), merged_df.shape"
      ],
      "metadata": {
        "colab": {
          "base_uri": "https://localhost:8080/"
        },
        "id": "wr4SJ7VuSMis",
        "outputId": "ee47495a-ca30-4481-c65f-dfc4f30daf50"
      },
      "execution_count": null,
      "outputs": [
        {
          "output_type": "execute_result",
          "data": {
            "text/plain": [
              "(   User-ID        ISBN           Book-Title           Book-Author  \\\n",
              " 0        2  0195153448  Classical Mythology    Mark P. O. Morford   \n",
              " 1        8  0002005018         Clara Callan  Richard Bruce Wright   \n",
              " 2    11400  0002005018         Clara Callan  Richard Bruce Wright   \n",
              " 3    11676  0002005018         Clara Callan  Richard Bruce Wright   \n",
              " 4    41385  0002005018         Clara Callan  Richard Bruce Wright   \n",
              " \n",
              "   Year-Of-Publication                Publisher  \\\n",
              " 0                2002  Oxford University Press   \n",
              " 1                2001    HarperFlamingo Canada   \n",
              " 2                2001    HarperFlamingo Canada   \n",
              " 3                2001    HarperFlamingo Canada   \n",
              " 4                2001    HarperFlamingo Canada   \n",
              " \n",
              "                                          Image-URL-S  \\\n",
              " 0  http://images.amazon.com/images/P/0195153448.0...   \n",
              " 1  http://images.amazon.com/images/P/0002005018.0...   \n",
              " 2  http://images.amazon.com/images/P/0002005018.0...   \n",
              " 3  http://images.amazon.com/images/P/0002005018.0...   \n",
              " 4  http://images.amazon.com/images/P/0002005018.0...   \n",
              " \n",
              "                                          Image-URL-M  \\\n",
              " 0  http://images.amazon.com/images/P/0195153448.0...   \n",
              " 1  http://images.amazon.com/images/P/0002005018.0...   \n",
              " 2  http://images.amazon.com/images/P/0002005018.0...   \n",
              " 3  http://images.amazon.com/images/P/0002005018.0...   \n",
              " 4  http://images.amazon.com/images/P/0002005018.0...   \n",
              " \n",
              "                                          Image-URL-L  Book-Rating  \n",
              " 0  http://images.amazon.com/images/P/0195153448.0...            0  \n",
              " 1  http://images.amazon.com/images/P/0002005018.0...            5  \n",
              " 2  http://images.amazon.com/images/P/0002005018.0...            0  \n",
              " 3  http://images.amazon.com/images/P/0002005018.0...            8  \n",
              " 4  http://images.amazon.com/images/P/0002005018.0...            0  ,\n",
              " (1031136, 10))"
            ]
          },
          "metadata": {},
          "execution_count": 9
        }
      ]
    },
    {
      "cell_type": "code",
      "source": [
        "merged_csv_path = '/content/drive/MyDrive/RecSys/merged_books_ratings.csv'\n",
        "# merged_df.to_csv(merged_csv_path, index=False)\n",
        "\n",
        "merged_csv_path"
      ],
      "metadata": {
        "colab": {
          "base_uri": "https://localhost:8080/",
          "height": 36
        },
        "id": "MmKSpMcISthX",
        "outputId": "dd5a7d8c-43c4-4b2a-e44b-8b28e8fb11e6"
      },
      "execution_count": null,
      "outputs": [
        {
          "output_type": "execute_result",
          "data": {
            "text/plain": [
              "'/content/drive/MyDrive/RecSys/merged_books_ratings.csv'"
            ],
            "application/vnd.google.colaboratory.intrinsic+json": {
              "type": "string"
            }
          },
          "metadata": {},
          "execution_count": 10
        }
      ]
    },
    {
      "cell_type": "code",
      "source": [
        "rating_df = pd.read_csv(merged_csv_path)"
      ],
      "metadata": {
        "id": "c0thukfnUYJx",
        "colab": {
          "base_uri": "https://localhost:8080/"
        },
        "outputId": "8bb7b4ce-3775-4140-fbff-1cdf0cb7e669"
      },
      "execution_count": null,
      "outputs": [
        {
          "output_type": "stream",
          "name": "stderr",
          "text": [
            "<ipython-input-11-eda9a4e816fd>:1: DtypeWarning: Columns (4) have mixed types. Specify dtype option on import or set low_memory=False.\n",
            "  rating_df = pd.read_csv(merged_csv_path)\n"
          ]
        }
      ]
    },
    {
      "cell_type": "code",
      "source": [
        "rating_df.shape"
      ],
      "metadata": {
        "colab": {
          "base_uri": "https://localhost:8080/"
        },
        "id": "aroOy_5dUwKW",
        "outputId": "546e5c77-a517-4a6c-b12f-610246deeece"
      },
      "execution_count": null,
      "outputs": [
        {
          "output_type": "execute_result",
          "data": {
            "text/plain": [
              "(1031136, 10)"
            ]
          },
          "metadata": {},
          "execution_count": 12
        }
      ]
    },
    {
      "cell_type": "code",
      "source": [
        "rating_df.isnull().sum()"
      ],
      "metadata": {
        "colab": {
          "base_uri": "https://localhost:8080/"
        },
        "id": "6e34Pl6IUy8j",
        "outputId": "9b1f6a02-d0ae-4473-ac65-1ef5249177b5"
      },
      "execution_count": null,
      "outputs": [
        {
          "output_type": "execute_result",
          "data": {
            "text/plain": [
              "User-ID                0\n",
              "ISBN                   0\n",
              "Book-Title             0\n",
              "Book-Author            1\n",
              "Year-Of-Publication    0\n",
              "Publisher              2\n",
              "Image-URL-S            0\n",
              "Image-URL-M            0\n",
              "Image-URL-L            4\n",
              "Book-Rating            0\n",
              "dtype: int64"
            ]
          },
          "metadata": {},
          "execution_count": 13
        }
      ]
    },
    {
      "cell_type": "code",
      "source": [
        "rating_df = rating_df.dropna()"
      ],
      "metadata": {
        "id": "sToyXh3WflU1"
      },
      "execution_count": null,
      "outputs": []
    },
    {
      "cell_type": "code",
      "source": [
        "rating_df.isnull().sum()"
      ],
      "metadata": {
        "colab": {
          "base_uri": "https://localhost:8080/"
        },
        "id": "mzIZ77cUftOv",
        "outputId": "e82730e9-913d-432c-d016-a7a334e0d1dd"
      },
      "execution_count": null,
      "outputs": [
        {
          "output_type": "execute_result",
          "data": {
            "text/plain": [
              "User-ID                0\n",
              "ISBN                   0\n",
              "Book-Title             0\n",
              "Book-Author            0\n",
              "Year-Of-Publication    0\n",
              "Publisher              0\n",
              "Image-URL-S            0\n",
              "Image-URL-M            0\n",
              "Image-URL-L            0\n",
              "Book-Rating            0\n",
              "dtype: int64"
            ]
          },
          "metadata": {},
          "execution_count": 15
        }
      ]
    },
    {
      "cell_type": "code",
      "source": [
        "rating_df.duplicated().sum()"
      ],
      "metadata": {
        "colab": {
          "base_uri": "https://localhost:8080/"
        },
        "id": "4O1dFTqEUy5K",
        "outputId": "f5af40df-7b9a-4b4b-a2e3-63b0ada13c83"
      },
      "execution_count": null,
      "outputs": [
        {
          "output_type": "execute_result",
          "data": {
            "text/plain": [
              "0"
            ]
          },
          "metadata": {},
          "execution_count": 16
        }
      ]
    },
    {
      "cell_type": "code",
      "source": [
        "zero_ratings = rating_df['Book-Rating'].value_counts()[0]\n",
        "zero_ratings"
      ],
      "metadata": {
        "colab": {
          "base_uri": "https://localhost:8080/"
        },
        "id": "kf06y2MDUy1P",
        "outputId": "9f3b6e22-7dd2-411c-b1e4-1773d10af696"
      },
      "execution_count": null,
      "outputs": [
        {
          "output_type": "execute_result",
          "data": {
            "text/plain": [
              "647291"
            ]
          },
          "metadata": {},
          "execution_count": 17
        }
      ]
    },
    {
      "cell_type": "code",
      "source": [
        "unique_users = rating_df['User-ID'].nunique()\n",
        "unique_users"
      ],
      "metadata": {
        "colab": {
          "base_uri": "https://localhost:8080/"
        },
        "id": "Jo1dwSgyUyy5",
        "outputId": "fe58e0f6-8f6f-4683-be99-8916ad484934"
      },
      "execution_count": null,
      "outputs": [
        {
          "output_type": "execute_result",
          "data": {
            "text/plain": [
              "92106"
            ]
          },
          "metadata": {},
          "execution_count": 18
        }
      ]
    },
    {
      "cell_type": "code",
      "source": [
        "unique_books = rating_df['ISBN'].nunique()\n",
        "unique_books"
      ],
      "metadata": {
        "colab": {
          "base_uri": "https://localhost:8080/"
        },
        "id": "W7VdBNARVAKx",
        "outputId": "8c7a2364-527c-4655-8afd-17c6cdc34e69"
      },
      "execution_count": null,
      "outputs": [
        {
          "output_type": "execute_result",
          "data": {
            "text/plain": [
              "270145"
            ]
          },
          "metadata": {},
          "execution_count": 19
        }
      ]
    },
    {
      "cell_type": "code",
      "source": [
        "import matplotlib.pyplot as plt\n",
        "\n",
        "ratings_distribution = rating_df['Book-Rating'].value_counts().sort_index()\n",
        "ratings_distribution"
      ],
      "metadata": {
        "colab": {
          "base_uri": "https://localhost:8080/"
        },
        "id": "CM0Fh1-TVAHX",
        "outputId": "0e463509-cfbd-4466-aac4-a79f14b2c292"
      },
      "execution_count": null,
      "outputs": [
        {
          "output_type": "execute_result",
          "data": {
            "text/plain": [
              "0     647291\n",
              "1       1481\n",
              "2       2375\n",
              "3       5118\n",
              "4       7617\n",
              "5      45355\n",
              "6      31687\n",
              "7      66401\n",
              "8      91803\n",
              "9      60776\n",
              "10     71225\n",
              "Name: Book-Rating, dtype: int64"
            ]
          },
          "metadata": {},
          "execution_count": 20
        }
      ]
    },
    {
      "cell_type": "code",
      "source": [
        "plt.figure(figsize=(10, 6))\n",
        "ratings_distribution.plot(kind='bar', color = 'violet')\n",
        "plt.title('Ratings Distribution')\n",
        "plt.xlabel('Rating')\n",
        "plt.ylabel('Frequency')\n",
        "plt.show()"
      ],
      "metadata": {
        "colab": {
          "base_uri": "https://localhost:8080/",
          "height": 568
        },
        "id": "K1BwAKNFVAFd",
        "outputId": "847eeef2-ddda-4fd2-b43d-b0acd861881f"
      },
      "execution_count": null,
      "outputs": [
        {
          "output_type": "display_data",
          "data": {
            "text/plain": [
              "<Figure size 1000x600 with 1 Axes>"
            ],
            "image/png": "[encoded data removed]"
          },
          "metadata": {}
        }
      ]
    },
    {
      "cell_type": "code",
      "source": [
        "ratings_per_user = rating_df.groupby('User-ID')['Book-Rating'].count().sort_index()\n",
        "ratings_per_user"
      ],
      "metadata": {
        "colab": {
          "base_uri": "https://localhost:8080/"
        },
        "id": "lqJFIju3VADb",
        "outputId": "580d3440-abc9-45de-a2aa-3df5dbe95366"
      },
      "execution_count": null,
      "outputs": [
        {
          "output_type": "execute_result",
          "data": {
            "text/plain": [
              "User-ID\n",
              "2          1\n",
              "8         17\n",
              "9          3\n",
              "10         1\n",
              "12         1\n",
              "          ..\n",
              "278846     1\n",
              "278849     4\n",
              "278851    23\n",
              "278852     1\n",
              "278854     8\n",
              "Name: Book-Rating, Length: 92106, dtype: int64"
            ]
          },
          "metadata": {},
          "execution_count": 22
        }
      ]
    },
    {
      "cell_type": "code",
      "source": [
        "plt.figure(figsize=(10, 6))\n",
        "plt.hist(ratings_per_user.values, bins=30, log=True, color = 'red')\n",
        "plt.title('Ratings per User')\n",
        "plt.xlabel('Number of Ratings')\n",
        "plt.ylabel('Count of Users')\n",
        "plt.show()"
      ],
      "metadata": {
        "colab": {
          "base_uri": "https://localhost:8080/",
          "height": 564
        },
        "id": "WDJhmVx8VjFb",
        "outputId": "f39e21cb-ed02-42fc-f44e-c8dffefac30e"
      },
      "execution_count": null,
      "outputs": [
        {
          "output_type": "display_data",
          "data": {
            "text/plain": [
              "<Figure size 1000x600 with 1 Axes>"
            ],
            "image/png": "[encoded data removed]"
          },
          "metadata": {}
        }
      ]
    },
    {
      "cell_type": "code",
      "source": [
        "ratings_per_book = rating_df.groupby('ISBN')['Book-Rating'].count().sort_index()\n",
        "ratings_per_book.head()"
      ],
      "metadata": {
        "colab": {
          "base_uri": "https://localhost:8080/"
        },
        "id": "DWiPOzZaVjCB",
        "outputId": "e17d2624-3938-4e51-adc1-144451bfd8c2"
      },
      "execution_count": null,
      "outputs": [
        {
          "output_type": "execute_result",
          "data": {
            "text/plain": [
              "ISBN\n",
              "0000913154    1\n",
              "0001010565    2\n",
              "0001046438    1\n",
              "0001046713    1\n",
              "000104687X    1\n",
              "Name: Book-Rating, dtype: int64"
            ]
          },
          "metadata": {},
          "execution_count": 24
        }
      ]
    },
    {
      "cell_type": "code",
      "source": [
        "plt.figure(figsize=(10, 6))\n",
        "plt.hist(ratings_per_book.values, bins=30, log=True)\n",
        "plt.title('Ratings per Book')\n",
        "plt.xlabel('Number of Ratings')\n",
        "plt.ylabel('Count of Books')\n",
        "plt.show()"
      ],
      "metadata": {
        "colab": {
          "base_uri": "https://localhost:8080/",
          "height": 564
        },
        "id": "QTwkmdoVVjAZ",
        "outputId": "163dbf39-d209-44d1-b122-ba703374f190"
      },
      "execution_count": null,
      "outputs": [
        {
          "output_type": "display_data",
          "data": {
            "text/plain": [
              "<Figure size 1000x600 with 1 Axes>"
            ],
            "image/png": "[encoded data removed]"
          },
          "metadata": {}
        }
      ]
    },
    {
      "cell_type": "code",
      "source": [
        "u_r_counts = pd.DataFrame(rating_df['User-ID'].value_counts()).reset_index().head(10)\n",
        "u_r_counts['index'] = u_r_counts['index'].astype(str)\n",
        "plt.figure(figsize = (8,8))\n",
        "plt.bar(x='index', height='User-ID', data=u_r_counts, color='red')\n",
        "plt.xlabel('User-ID')\n",
        "plt.ylabel('Number of Ratings')\n",
        "plt.title('Top 10 users who give ratings to books')\n",
        "plt.show()"
      ],
      "metadata": {
        "colab": {
          "base_uri": "https://localhost:8080/",
          "height": 718
        },
        "id": "K7i-tBn1m24B",
        "outputId": "db702b42-7c2a-4c3a-ca00-6821db2416bd"
      },
      "execution_count": null,
      "outputs": [
        {
          "output_type": "display_data",
          "data": {
            "text/plain": [
              "<Figure size 800x800 with 1 Axes>"
            ],
            "image/png": "[encoded data removed]"
          },
          "metadata": {}
        }
      ]
    },
    {
      "cell_type": "code",
      "source": [
        "users_df = pd.read_csv(\"/content/drive/MyDrive/RecSys/Users.csv\")"
      ],
      "metadata": {
        "id": "VWDqZwiKod34"
      },
      "execution_count": null,
      "outputs": []
    },
    {
      "cell_type": "code",
      "source": [
        "users_df.isnull().sum()"
      ],
      "metadata": {
        "colab": {
          "base_uri": "https://localhost:8080/"
        },
        "id": "rMPAZ786ovFM",
        "outputId": "6a655832-b0ac-4060-880e-2b89bb28bd77"
      },
      "execution_count": null,
      "outputs": [
        {
          "output_type": "execute_result",
          "data": {
            "text/plain": [
              "User-ID          0\n",
              "Location         0\n",
              "Age         110762\n",
              "dtype: int64"
            ]
          },
          "metadata": {},
          "execution_count": 28
        }
      ]
    },
    {
      "cell_type": "markdown",
      "source": [
        "Since this is a numeric column, we could fill the values with the average of the column, but that would lead to a majority of values with only 1 value, therefore we could add some variability to this, by assuming age is normally distributed around the mean. We can then take a range of one standard deviation below and above the mean and generate random values for the null cells."
      ],
      "metadata": {
        "id": "M-easG8cpxd7"
      }
    },
    {
      "cell_type": "code",
      "source": [
        "import numpy as np\n",
        "\n",
        "std = np.floor(users_df['Age'].std())\n",
        "mean_age = np.floor(users_df['Age'].mean())\n",
        "print(std, mean_age)"
      ],
      "metadata": {
        "colab": {
          "base_uri": "https://localhost:8080/"
        },
        "id": "7MKRu8ofovBq",
        "outputId": "00ab293c-3a1e-47b9-b6e7-38042a82c0e2"
      },
      "execution_count": null,
      "outputs": [
        {
          "output_type": "stream",
          "name": "stdout",
          "text": [
            "14.0 34.0\n"
          ]
        }
      ]
    },
    {
      "cell_type": "code",
      "source": [
        "age_dist =  np.random.randint(mean_age-std, mean_age+std+1, users_df['Age'].isnull().sum())\n",
        "users_df.loc[users_df['Age'].isna(), 'Age'] = age_dist\n",
        "users_df.isna().sum()"
      ],
      "metadata": {
        "colab": {
          "base_uri": "https://localhost:8080/"
        },
        "id": "b_q1dMesou-i",
        "outputId": "6128181c-f061-4572-a5f8-17edc605ba40"
      },
      "execution_count": null,
      "outputs": [
        {
          "output_type": "execute_result",
          "data": {
            "text/plain": [
              "User-ID     0\n",
              "Location    0\n",
              "Age         0\n",
              "dtype: int64"
            ]
          },
          "metadata": {},
          "execution_count": 30
        }
      ]
    },
    {
      "cell_type": "code",
      "source": [
        "rated_users = users_df[users_df['User-ID'].isin(rating_df['User-ID'])]\n",
        "rated_users.reset_index(inplace=True)\n",
        "rated_users.head()"
      ],
      "metadata": {
        "colab": {
          "base_uri": "https://localhost:8080/",
          "height": 206
        },
        "id": "j8Jz8WEim2z7",
        "outputId": "6b2910f4-bc67-4144-e60c-7257ec850847"
      },
      "execution_count": null,
      "outputs": [
        {
          "output_type": "execute_result",
          "data": {
            "text/plain": [
              "   index  User-ID                     Location   Age\n",
              "0      1        2    stockton, california, usa  18.0\n",
              "1      7        8     timmins, ontario, canada  32.0\n",
              "2      8        9   germantown, tennessee, usa  41.0\n",
              "3      9       10   albacete, wisconsin, spain  26.0\n",
              "4     11       12  fort bragg, california, usa  28.0"
            ],
            "text/html": [
              "\n",
              "  <div id=\"df-db473f7a-ec27-4a55-a52d-5e2be9e8c15a\" class=\"colab-df-container\">\n",
              "    <div>\n",
              "<style scoped>\n",
              "    .dataframe tbody tr th:only-of-type {\n",
              "        vertical-align: middle;\n",
              "    }\n",
              "\n",
              "    .dataframe tbody tr th {\n",
              "        vertical-align: top;\n",
              "    }\n",
              "\n",
              "    .dataframe thead th {\n",
              "        text-align: right;\n",
              "    }\n",
              "</style>\n",
              "<table border=\"1\" class=\"dataframe\">\n",
              "  <thead>\n",
              "    <tr style=\"text-align: right;\">\n",
              "      <th></th>\n",
              "      <th>index</th>\n",
              "      <th>User-ID</th>\n",
              "      <th>Location</th>\n",
              "      <th>Age</th>\n",
              "    </tr>\n",
              "  </thead>\n",
              "  <tbody>\n",
              "    <tr>\n",
              "      <th>0</th>\n",
              "      <td>1</td>\n",
              "      <td>2</td>\n",
              "      <td>stockton, california, usa</td>\n",
              "      <td>18.0</td>\n",
              "    </tr>\n",
              "    <tr>\n",
              "      <th>1</th>\n",
              "      <td>7</td>\n",
              "      <td>8</td>\n",
              "      <td>timmins, ontario, canada</td>\n",
              "      <td>32.0</td>\n",
              "    </tr>\n",
              "    <tr>\n",
              "      <th>2</th>\n",
              "      <td>8</td>\n",
              "      <td>9</td>\n",
              "      <td>germantown, tennessee, usa</td>\n",
              "      <td>41.0</td>\n",
              "    </tr>\n",
              "    <tr>\n",
              "      <th>3</th>\n",
              "      <td>9</td>\n",
              "      <td>10</td>\n",
              "      <td>albacete, wisconsin, spain</td>\n",
              "      <td>26.0</td>\n",
              "    </tr>\n",
              "    <tr>\n",
              "      <th>4</th>\n",
              "      <td>11</td>\n",
              "      <td>12</td>\n",
              "      <td>fort bragg, california, usa</td>\n",
              "      <td>28.0</td>\n",
              "    </tr>\n",
              "  </tbody>\n",
              "</table>\n",
              "</div>\n",
              "    <div class=\"colab-df-buttons\">\n",
              "\n",
              "  <div class=\"colab-df-container\">\n",
              "    <button class=\"colab-df-convert\" onclick=\"convertToInteractive('df-db473f7a-ec27-4a55-a52d-5e2be9e8c15a')\"\n",
              "            title=\"Convert this dataframe to an interactive table.\"\n",
              "            style=\"display:none;\">\n",
              "\n",
              "  <svg xmlns=\"http://www.w3.org/2000/svg\" height=\"24px\" viewBox=\"0 -960 960 960\">\n",
              "    <path d=\"M120-120v-720h720v720H120Zm60-500h600v-160H180v160Zm220 220h160v-160H400v160Zm0 220h160v-160H400v160ZM180-400h160v-160H180v160Zm440 0h160v-160H620v160ZM180-180h160v-160H180v160Zm440 0h160v-160H620v160Z\"/>\n",
              "  </svg>\n",
              "    </button>\n",
              "\n",
              "  <style>\n",
              "    .colab-df-container {\n",
              "      display:flex;\n",
              "      gap: 12px;\n",
              "    }\n",
              "\n",
              "    .colab-df-convert {\n",
              "      background-color: #E8F0FE;\n",
              "      border: none;\n",
              "      border-radius: 50%;\n",
              "      cursor: pointer;\n",
              "      display: none;\n",
              "      fill: #1967D2;\n",
              "      height: 32px;\n",
              "      padding: 0 0 0 0;\n",
              "      width: 32px;\n",
              "    }\n",
              "\n",
              "    .colab-df-convert:hover {\n",
              "      background-color: #E2EBFA;\n",
              "      box-shadow: 0px 1px 2px rgba(60, 64, 67, 0.3), 0px 1px 3px 1px rgba(60, 64, 67, 0.15);\n",
              "      fill: #174EA6;\n",
              "    }\n",
              "\n",
              "    .colab-df-buttons div {\n",
              "      margin-bottom: 4px;\n",
              "    }\n",
              "\n",
              "    [theme=dark] .colab-df-convert {\n",
              "      background-color: #3B4455;\n",
              "      fill: #D2E3FC;\n",
              "    }\n",
              "\n",
              "    [theme=dark] .colab-df-convert:hover {\n",
              "      background-color: #434B5C;\n",
              "      box-shadow: 0px 1px 3px 1px rgba(0, 0, 0, 0.15);\n",
              "      filter: drop-shadow(0px 1px 2px rgba(0, 0, 0, 0.3));\n",
              "      fill: #FFFFFF;\n",
              "    }\n",
              "  </style>\n",
              "\n",
              "    <script>\n",
              "      const buttonEl =\n",
              "        document.querySelector('#df-db473f7a-ec27-4a55-a52d-5e2be9e8c15a button.colab-df-convert');\n",
              "      buttonEl.style.display =\n",
              "        google.colab.kernel.accessAllowed ? 'block' : 'none';\n",
              "\n",
              "      async function convertToInteractive(key) {\n",
              "        const element = document.querySelector('#df-db473f7a-ec27-4a55-a52d-5e2be9e8c15a');\n",
              "        const dataTable =\n",
              "          await google.colab.kernel.invokeFunction('convertToInteractive',\n",
              "                                                    [key], {});\n",
              "        if (!dataTable) return;\n",
              "\n",
              "        const docLinkHtml = 'Like what you see? Visit the ' +\n",
              "          '<a target=\"_blank\" href=https://colab.research.google.com/notebooks/data_table.ipynb>data table notebook</a>'\n",
              "          + ' to learn more about interactive tables.';\n",
              "        element.innerHTML = '';\n",
              "        dataTable['output_type'] = 'display_data';\n",
              "        await google.colab.output.renderOutput(dataTable, element);\n",
              "        const docLink = document.createElement('div');\n",
              "        docLink.innerHTML = docLinkHtml;\n",
              "        element.appendChild(docLink);\n",
              "      }\n",
              "    </script>\n",
              "  </div>\n",
              "\n",
              "\n",
              "<div id=\"df-fa7e51b1-eee7-484f-9b33-508ad6ccc622\">\n",
              "  <button class=\"colab-df-quickchart\" onclick=\"quickchart('df-fa7e51b1-eee7-484f-9b33-508ad6ccc622')\"\n",
              "            title=\"Suggest charts\"\n",
              "            style=\"display:none;\">\n",
              "\n",
              "<svg xmlns=\"http://www.w3.org/2000/svg\" height=\"24px\"viewBox=\"0 0 24 24\"\n",
              "     width=\"24px\">\n",
              "    <g>\n",
              "        <path d=\"M19 3H5c-1.1 0-2 .9-2 2v14c0 1.1.9 2 2 2h14c1.1 0 2-.9 2-2V5c0-1.1-.9-2-2-2zM9 17H7v-7h2v7zm4 0h-2V7h2v10zm4 0h-2v-4h2v4z\"/>\n",
              "    </g>\n",
              "</svg>\n",
              "  </button>\n",
              "\n",
              "<style>\n",
              "  .colab-df-quickchart {\n",
              "      --bg-color: #E8F0FE;\n",
              "      --fill-color: #1967D2;\n",
              "      --hover-bg-color: #E2EBFA;\n",
              "      --hover-fill-color: #174EA6;\n",
              "      --disabled-fill-color: #AAA;\n",
              "      --disabled-bg-color: #DDD;\n",
              "  }\n",
              "\n",
              "  [theme=dark] .colab-df-quickchart {\n",
              "      --bg-color: #3B4455;\n",
              "      --fill-color: #D2E3FC;\n",
              "      --hover-bg-color: #434B5C;\n",
              "      --hover-fill-color: #FFFFFF;\n",
              "      --disabled-bg-color: #3B4455;\n",
              "      --disabled-fill-color: #666;\n",
              "  }\n",
              "\n",
              "  .colab-df-quickchart {\n",
              "    background-color: var(--bg-color);\n",
              "    border: none;\n",
              "    border-radius: 50%;\n",
              "    cursor: pointer;\n",
              "    display: none;\n",
              "    fill: var(--fill-color);\n",
              "    height: 32px;\n",
              "    padding: 0;\n",
              "    width: 32px;\n",
              "  }\n",
              "\n",
              "  .colab-df-quickchart:hover {\n",
              "    background-color: var(--hover-bg-color);\n",
              "    box-shadow: 0 1px 2px rgba(60, 64, 67, 0.3), 0 1px 3px 1px rgba(60, 64, 67, 0.15);\n",
              "    fill: var(--button-hover-fill-color);\n",
              "  }\n",
              "\n",
              "  .colab-df-quickchart-complete:disabled,\n",
              "  .colab-df-quickchart-complete:disabled:hover {\n",
              "    background-color: var(--disabled-bg-color);\n",
              "    fill: var(--disabled-fill-color);\n",
              "    box-shadow: none;\n",
              "  }\n",
              "\n",
              "  .colab-df-spinner {\n",
              "    border: 2px solid var(--fill-color);\n",
              "    border-color: transparent;\n",
              "    border-bottom-color: var(--fill-color);\n",
              "    animation:\n",
              "      spin 1s steps(1) infinite;\n",
              "  }\n",
              "\n",
              "  @keyframes spin {\n",
              "    0% {\n",
              "      border-color: transparent;\n",
              "      border-bottom-color: var(--fill-color);\n",
              "      border-left-color: var(--fill-color);\n",
              "    }\n",
              "    20% {\n",
              "      border-color: transparent;\n",
              "      border-left-color: var(--fill-color);\n",
              "      border-top-color: var(--fill-color);\n",
              "    }\n",
              "    30% {\n",
              "      border-color: transparent;\n",
              "      border-left-color: var(--fill-color);\n",
              "      border-top-color: var(--fill-color);\n",
              "      border-right-color: var(--fill-color);\n",
              "    }\n",
              "    40% {\n",
              "      border-color: transparent;\n",
              "      border-right-color: var(--fill-color);\n",
              "      border-top-color: var(--fill-color);\n",
              "    }\n",
              "    60% {\n",
              "      border-color: transparent;\n",
              "      border-right-color: var(--fill-color);\n",
              "    }\n",
              "    80% {\n",
              "      border-color: transparent;\n",
              "      border-right-color: var(--fill-color);\n",
              "      border-bottom-color: var(--fill-color);\n",
              "    }\n",
              "    90% {\n",
              "      border-color: transparent;\n",
              "      border-bottom-color: var(--fill-color);\n",
              "    }\n",
              "  }\n",
              "</style>\n",
              "\n",
              "  <script>\n",
              "    async function quickchart(key) {\n",
              "      const quickchartButtonEl =\n",
              "        document.querySelector('#' + key + ' button');\n",
              "      quickchartButtonEl.disabled = true;  // To prevent multiple clicks.\n",
              "      quickchartButtonEl.classList.add('colab-df-spinner');\n",
              "      try {\n",
              "        const charts = await google.colab.kernel.invokeFunction(\n",
              "            'suggestCharts', [key], {});\n",
              "      } catch (error) {\n",
              "        console.error('Error during call to suggestCharts:', error);\n",
              "      }\n",
              "      quickchartButtonEl.classList.remove('colab-df-spinner');\n",
              "      quickchartButtonEl.classList.add('colab-df-quickchart-complete');\n",
              "    }\n",
              "    (() => {\n",
              "      let quickchartButtonEl =\n",
              "        document.querySelector('#df-fa7e51b1-eee7-484f-9b33-508ad6ccc622 button');\n",
              "      quickchartButtonEl.style.display =\n",
              "        google.colab.kernel.accessAllowed ? 'block' : 'none';\n",
              "    })();\n",
              "  </script>\n",
              "</div>\n",
              "    </div>\n",
              "  </div>\n"
            ],
            "application/vnd.google.colaboratory.intrinsic+json": {
              "type": "dataframe",
              "variable_name": "rated_users",
              "summary": "{\n  \"name\": \"rated_users\",\n  \"rows\": 92106,\n  \"fields\": [\n    {\n      \"column\": \"index\",\n      \"properties\": {\n        \"dtype\": \"number\",\n        \"std\": 80543,\n        \"min\": 1,\n        \"max\": 278853,\n        \"num_unique_values\": 92106,\n        \"samples\": [\n          24932,\n          18427,\n          271557\n        ],\n        \"semantic_type\": \"\",\n        \"description\": \"\"\n      }\n    },\n    {\n      \"column\": \"User-ID\",\n      \"properties\": {\n        \"dtype\": \"number\",\n        \"std\": 80543,\n        \"min\": 2,\n        \"max\": 278854,\n        \"num_unique_values\": 92106,\n        \"samples\": [\n          24933,\n          18428,\n          271558\n        ],\n        \"semantic_type\": \"\",\n        \"description\": \"\"\n      }\n    },\n    {\n      \"column\": \"Location\",\n      \"properties\": {\n        \"dtype\": \"category\",\n        \"num_unique_values\": 22480,\n        \"samples\": [\n          \"pictou, nova scotia, canada\",\n          \"algonquin park, ontario, canada\",\n          \"medford, new york, usa\"\n        ],\n        \"semantic_type\": \"\",\n        \"description\": \"\"\n      }\n    },\n    {\n      \"column\": \"Age\",\n      \"properties\": {\n        \"dtype\": \"number\",\n        \"std\": 12.581225176478434,\n        \"min\": 0.0,\n        \"max\": 244.0,\n        \"num_unique_values\": 141,\n        \"samples\": [\n          65.0,\n          92.0,\n          38.0\n        ],\n        \"semantic_type\": \"\",\n        \"description\": \"\"\n      }\n    }\n  ]\n}"
            }
          },
          "metadata": {},
          "execution_count": 31
        }
      ]
    },
    {
      "cell_type": "code",
      "source": [
        "for i in rated_users.index:\n",
        "  rated_users.loc[i, 'country'] = rated_users.loc[i, 'Location'].split(',')[-1].strip()\n",
        "\n",
        "rated_users"
      ],
      "metadata": {
        "colab": {
          "base_uri": "https://localhost:8080/",
          "height": 527
        },
        "id": "LNm6BKK6m2vi",
        "outputId": "045ca326-b929-44e8-a8cf-d30e25c5d06f"
      },
      "execution_count": null,
      "outputs": [
        {
          "output_type": "stream",
          "name": "stderr",
          "text": [
            "<ipython-input-32-da8ab35d41fe>:2: SettingWithCopyWarning: \n",
            "A value is trying to be set on a copy of a slice from a DataFrame.\n",
            "Try using .loc[row_indexer,col_indexer] = value instead\n",
            "\n",
            "See the caveats in the documentation: https://pandas.pydata.org/pandas-docs/stable/user_guide/indexing.html#returning-a-view-versus-a-copy\n",
            "  rated_users.loc[i, 'country'] = rated_users.loc[i, 'Location'].split(',')[-1].strip()\n"
          ]
        },
        {
          "output_type": "execute_result",
          "data": {
            "text/plain": [
              "        index  User-ID                         Location   Age    country\n",
              "0           1        2        stockton, california, usa  18.0        usa\n",
              "1           7        8         timmins, ontario, canada  32.0     canada\n",
              "2           8        9       germantown, tennessee, usa  41.0        usa\n",
              "3           9       10       albacete, wisconsin, spain  26.0      spain\n",
              "4          11       12      fort bragg, california, usa  28.0        usa\n",
              "...       ...      ...                              ...   ...        ...\n",
              "92101  278845   278846         toronto, ontario, canada  23.0     canada\n",
              "92102  278848   278849      georgetown, ontario, canada  23.0     canada\n",
              "92103  278850   278851               dallas, texas, usa  33.0        usa\n",
              "92104  278851   278852  brisbane, queensland, australia  32.0  australia\n",
              "92105  278853   278854            portland, oregon, usa  42.0        usa\n",
              "\n",
              "[92106 rows x 5 columns]"
            ],
            "text/html": [
              "\n",
              "  <div id=\"df-7075e616-35df-4d04-a275-1524f5cab64f\" class=\"colab-df-container\">\n",
              "    <div>\n",
              "<style scoped>\n",
              "    .dataframe tbody tr th:only-of-type {\n",
              "        vertical-align: middle;\n",
              "    }\n",
              "\n",
              "    .dataframe tbody tr th {\n",
              "        vertical-align: top;\n",
              "    }\n",
              "\n",
              "    .dataframe thead th {\n",
              "        text-align: right;\n",
              "    }\n",
              "</style>\n",
              "<table border=\"1\" class=\"dataframe\">\n",
              "  <thead>\n",
              "    <tr style=\"text-align: right;\">\n",
              "      <th></th>\n",
              "      <th>index</th>\n",
              "      <th>User-ID</th>\n",
              "      <th>Location</th>\n",
              "      <th>Age</th>\n",
              "      <th>country</th>\n",
              "    </tr>\n",
              "  </thead>\n",
              "  <tbody>\n",
              "    <tr>\n",
              "      <th>0</th>\n",
              "      <td>1</td>\n",
              "      <td>2</td>\n",
              "      <td>stockton, california, usa</td>\n",
              "      <td>18.0</td>\n",
              "      <td>usa</td>\n",
              "    </tr>\n",
              "    <tr>\n",
              "      <th>1</th>\n",
              "      <td>7</td>\n",
              "      <td>8</td>\n",
              "      <td>timmins, ontario, canada</td>\n",
              "      <td>32.0</td>\n",
              "      <td>canada</td>\n",
              "    </tr>\n",
              "    <tr>\n",
              "      <th>2</th>\n",
              "      <td>8</td>\n",
              "      <td>9</td>\n",
              "      <td>germantown, tennessee, usa</td>\n",
              "      <td>41.0</td>\n",
              "      <td>usa</td>\n",
              "    </tr>\n",
              "    <tr>\n",
              "      <th>3</th>\n",
              "      <td>9</td>\n",
              "      <td>10</td>\n",
              "      <td>albacete, wisconsin, spain</td>\n",
              "      <td>26.0</td>\n",
              "      <td>spain</td>\n",
              "    </tr>\n",
              "    <tr>\n",
              "      <th>4</th>\n",
              "      <td>11</td>\n",
              "      <td>12</td>\n",
              "      <td>fort bragg, california, usa</td>\n",
              "      <td>28.0</td>\n",
              "      <td>usa</td>\n",
              "    </tr>\n",
              "    <tr>\n",
              "      <th>...</th>\n",
              "      <td>...</td>\n",
              "      <td>...</td>\n",
              "      <td>...</td>\n",
              "      <td>...</td>\n",
              "      <td>...</td>\n",
              "    </tr>\n",
              "    <tr>\n",
              "      <th>92101</th>\n",
              "      <td>278845</td>\n",
              "      <td>278846</td>\n",
              "      <td>toronto, ontario, canada</td>\n",
              "      <td>23.0</td>\n",
              "      <td>canada</td>\n",
              "    </tr>\n",
              "    <tr>\n",
              "      <th>92102</th>\n",
              "      <td>278848</td>\n",
              "      <td>278849</td>\n",
              "      <td>georgetown, ontario, canada</td>\n",
              "      <td>23.0</td>\n",
              "      <td>canada</td>\n",
              "    </tr>\n",
              "    <tr>\n",
              "      <th>92103</th>\n",
              "      <td>278850</td>\n",
              "      <td>278851</td>\n",
              "      <td>dallas, texas, usa</td>\n",
              "      <td>33.0</td>\n",
              "      <td>usa</td>\n",
              "    </tr>\n",
              "    <tr>\n",
              "      <th>92104</th>\n",
              "      <td>278851</td>\n",
              "      <td>278852</td>\n",
              "      <td>brisbane, queensland, australia</td>\n",
              "      <td>32.0</td>\n",
              "      <td>australia</td>\n",
              "    </tr>\n",
              "    <tr>\n",
              "      <th>92105</th>\n",
              "      <td>278853</td>\n",
              "      <td>278854</td>\n",
              "      <td>portland, oregon, usa</td>\n",
              "      <td>42.0</td>\n",
              "      <td>usa</td>\n",
              "    </tr>\n",
              "  </tbody>\n",
              "</table>\n",
              "<p>92106 rows × 5 columns</p>\n",
              "</div>\n",
              "    <div class=\"colab-df-buttons\">\n",
              "\n",
              "  <div class=\"colab-df-container\">\n",
              "    <button class=\"colab-df-convert\" onclick=\"convertToInteractive('df-7075e616-35df-4d04-a275-1524f5cab64f')\"\n",
              "            title=\"Convert this dataframe to an interactive table.\"\n",
              "            style=\"display:none;\">\n",
              "\n",
              "  <svg xmlns=\"http://www.w3.org/2000/svg\" height=\"24px\" viewBox=\"0 -960 960 960\">\n",
              "    <path d=\"M120-120v-720h720v720H120Zm60-500h600v-160H180v160Zm220 220h160v-160H400v160Zm0 220h160v-160H400v160ZM180-400h160v-160H180v160Zm440 0h160v-160H620v160ZM180-180h160v-160H180v160Zm440 0h160v-160H620v160Z\"/>\n",
              "  </svg>\n",
              "    </button>\n",
              "\n",
              "  <style>\n",
              "    .colab-df-container {\n",
              "      display:flex;\n",
              "      gap: 12px;\n",
              "    }\n",
              "\n",
              "    .colab-df-convert {\n",
              "      background-color: #E8F0FE;\n",
              "      border: none;\n",
              "      border-radius: 50%;\n",
              "      cursor: pointer;\n",
              "      display: none;\n",
              "      fill: #1967D2;\n",
              "      height: 32px;\n",
              "      padding: 0 0 0 0;\n",
              "      width: 32px;\n",
              "    }\n",
              "\n",
              "    .colab-df-convert:hover {\n",
              "      background-color: #E2EBFA;\n",
              "      box-shadow: 0px 1px 2px rgba(60, 64, 67, 0.3), 0px 1px 3px 1px rgba(60, 64, 67, 0.15);\n",
              "      fill: #174EA6;\n",
              "    }\n",
              "\n",
              "    .colab-df-buttons div {\n",
              "      margin-bottom: 4px;\n",
              "    }\n",
              "\n",
              "    [theme=dark] .colab-df-convert {\n",
              "      background-color: #3B4455;\n",
              "      fill: #D2E3FC;\n",
              "    }\n",
              "\n",
              "    [theme=dark] .colab-df-convert:hover {\n",
              "      background-color: #434B5C;\n",
              "      box-shadow: 0px 1px 3px 1px rgba(0, 0, 0, 0.15);\n",
              "      filter: drop-shadow(0px 1px 2px rgba(0, 0, 0, 0.3));\n",
              "      fill: #FFFFFF;\n",
              "    }\n",
              "  </style>\n",
              "\n",
              "    <script>\n",
              "      const buttonEl =\n",
              "        document.querySelector('#df-7075e616-35df-4d04-a275-1524f5cab64f button.colab-df-convert');\n",
              "      buttonEl.style.display =\n",
              "        google.colab.kernel.accessAllowed ? 'block' : 'none';\n",
              "\n",
              "      async function convertToInteractive(key) {\n",
              "        const element = document.querySelector('#df-7075e616-35df-4d04-a275-1524f5cab64f');\n",
              "        const dataTable =\n",
              "          await google.colab.kernel.invokeFunction('convertToInteractive',\n",
              "                                                    [key], {});\n",
              "        if (!dataTable) return;\n",
              "\n",
              "        const docLinkHtml = 'Like what you see? Visit the ' +\n",
              "          '<a target=\"_blank\" href=https://colab.research.google.com/notebooks/data_table.ipynb>data table notebook</a>'\n",
              "          + ' to learn more about interactive tables.';\n",
              "        element.innerHTML = '';\n",
              "        dataTable['output_type'] = 'display_data';\n",
              "        await google.colab.output.renderOutput(dataTable, element);\n",
              "        const docLink = document.createElement('div');\n",
              "        docLink.innerHTML = docLinkHtml;\n",
              "        element.appendChild(docLink);\n",
              "      }\n",
              "    </script>\n",
              "  </div>\n",
              "\n",
              "\n",
              "<div id=\"df-a3b33896-96d7-4fd8-b576-60911d516068\">\n",
              "  <button class=\"colab-df-quickchart\" onclick=\"quickchart('df-a3b33896-96d7-4fd8-b576-60911d516068')\"\n",
              "            title=\"Suggest charts\"\n",
              "            style=\"display:none;\">\n",
              "\n",
              "<svg xmlns=\"http://www.w3.org/2000/svg\" height=\"24px\"viewBox=\"0 0 24 24\"\n",
              "     width=\"24px\">\n",
              "    <g>\n",
              "        <path d=\"M19 3H5c-1.1 0-2 .9-2 2v14c0 1.1.9 2 2 2h14c1.1 0 2-.9 2-2V5c0-1.1-.9-2-2-2zM9 17H7v-7h2v7zm4 0h-2V7h2v10zm4 0h-2v-4h2v4z\"/>\n",
              "    </g>\n",
              "</svg>\n",
              "  </button>\n",
              "\n",
              "<style>\n",
              "  .colab-df-quickchart {\n",
              "      --bg-color: #E8F0FE;\n",
              "      --fill-color: #1967D2;\n",
              "      --hover-bg-color: #E2EBFA;\n",
              "      --hover-fill-color: #174EA6;\n",
              "      --disabled-fill-color: #AAA;\n",
              "      --disabled-bg-color: #DDD;\n",
              "  }\n",
              "\n",
              "  [theme=dark] .colab-df-quickchart {\n",
              "      --bg-color: #3B4455;\n",
              "      --fill-color: #D2E3FC;\n",
              "      --hover-bg-color: #434B5C;\n",
              "      --hover-fill-color: #FFFFFF;\n",
              "      --disabled-bg-color: #3B4455;\n",
              "      --disabled-fill-color: #666;\n",
              "  }\n",
              "\n",
              "  .colab-df-quickchart {\n",
              "    background-color: var(--bg-color);\n",
              "    border: none;\n",
              "    border-radius: 50%;\n",
              "    cursor: pointer;\n",
              "    display: none;\n",
              "    fill: var(--fill-color);\n",
              "    height: 32px;\n",
              "    padding: 0;\n",
              "    width: 32px;\n",
              "  }\n",
              "\n",
              "  .colab-df-quickchart:hover {\n",
              "    background-color: var(--hover-bg-color);\n",
              "    box-shadow: 0 1px 2px rgba(60, 64, 67, 0.3), 0 1px 3px 1px rgba(60, 64, 67, 0.15);\n",
              "    fill: var(--button-hover-fill-color);\n",
              "  }\n",
              "\n",
              "  .colab-df-quickchart-complete:disabled,\n",
              "  .colab-df-quickchart-complete:disabled:hover {\n",
              "    background-color: var(--disabled-bg-color);\n",
              "    fill: var(--disabled-fill-color);\n",
              "    box-shadow: none;\n",
              "  }\n",
              "\n",
              "  .colab-df-spinner {\n",
              "    border: 2px solid var(--fill-color);\n",
              "    border-color: transparent;\n",
              "    border-bottom-color: var(--fill-color);\n",
              "    animation:\n",
              "      spin 1s steps(1) infinite;\n",
              "  }\n",
              "\n",
              "  @keyframes spin {\n",
              "    0% {\n",
              "      border-color: transparent;\n",
              "      border-bottom-color: var(--fill-color);\n",
              "      border-left-color: var(--fill-color);\n",
              "    }\n",
              "    20% {\n",
              "      border-color: transparent;\n",
              "      border-left-color: var(--fill-color);\n",
              "      border-top-color: var(--fill-color);\n",
              "    }\n",
              "    30% {\n",
              "      border-color: transparent;\n",
              "      border-left-color: var(--fill-color);\n",
              "      border-top-color: var(--fill-color);\n",
              "      border-right-color: var(--fill-color);\n",
              "    }\n",
              "    40% {\n",
              "      border-color: transparent;\n",
              "      border-right-color: var(--fill-color);\n",
              "      border-top-color: var(--fill-color);\n",
              "    }\n",
              "    60% {\n",
              "      border-color: transparent;\n",
              "      border-right-color: var(--fill-color);\n",
              "    }\n",
              "    80% {\n",
              "      border-color: transparent;\n",
              "      border-right-color: var(--fill-color);\n",
              "      border-bottom-color: var(--fill-color);\n",
              "    }\n",
              "    90% {\n",
              "      border-color: transparent;\n",
              "      border-bottom-color: var(--fill-color);\n",
              "    }\n",
              "  }\n",
              "</style>\n",
              "\n",
              "  <script>\n",
              "    async function quickchart(key) {\n",
              "      const quickchartButtonEl =\n",
              "        document.querySelector('#' + key + ' button');\n",
              "      quickchartButtonEl.disabled = true;  // To prevent multiple clicks.\n",
              "      quickchartButtonEl.classList.add('colab-df-spinner');\n",
              "      try {\n",
              "        const charts = await google.colab.kernel.invokeFunction(\n",
              "            'suggestCharts', [key], {});\n",
              "      } catch (error) {\n",
              "        console.error('Error during call to suggestCharts:', error);\n",
              "      }\n",
              "      quickchartButtonEl.classList.remove('colab-df-spinner');\n",
              "      quickchartButtonEl.classList.add('colab-df-quickchart-complete');\n",
              "    }\n",
              "    (() => {\n",
              "      let quickchartButtonEl =\n",
              "        document.querySelector('#df-a3b33896-96d7-4fd8-b576-60911d516068 button');\n",
              "      quickchartButtonEl.style.display =\n",
              "        google.colab.kernel.accessAllowed ? 'block' : 'none';\n",
              "    })();\n",
              "  </script>\n",
              "</div>\n",
              "    </div>\n",
              "  </div>\n"
            ],
            "application/vnd.google.colaboratory.intrinsic+json": {
              "type": "dataframe",
              "variable_name": "rated_users",
              "summary": "{\n  \"name\": \"rated_users\",\n  \"rows\": 92106,\n  \"fields\": [\n    {\n      \"column\": \"index\",\n      \"properties\": {\n        \"dtype\": \"number\",\n        \"std\": 80543,\n        \"min\": 1,\n        \"max\": 278853,\n        \"num_unique_values\": 92106,\n        \"samples\": [\n          24932,\n          18427,\n          271557\n        ],\n        \"semantic_type\": \"\",\n        \"description\": \"\"\n      }\n    },\n    {\n      \"column\": \"User-ID\",\n      \"properties\": {\n        \"dtype\": \"number\",\n        \"std\": 80543,\n        \"min\": 2,\n        \"max\": 278854,\n        \"num_unique_values\": 92106,\n        \"samples\": [\n          24933,\n          18428,\n          271558\n        ],\n        \"semantic_type\": \"\",\n        \"description\": \"\"\n      }\n    },\n    {\n      \"column\": \"Location\",\n      \"properties\": {\n        \"dtype\": \"category\",\n        \"num_unique_values\": 22480,\n        \"samples\": [\n          \"pictou, nova scotia, canada\",\n          \"algonquin park, ontario, canada\",\n          \"medford, new york, usa\"\n        ],\n        \"semantic_type\": \"\",\n        \"description\": \"\"\n      }\n    },\n    {\n      \"column\": \"Age\",\n      \"properties\": {\n        \"dtype\": \"number\",\n        \"std\": 12.581225176478434,\n        \"min\": 0.0,\n        \"max\": 244.0,\n        \"num_unique_values\": 141,\n        \"samples\": [\n          65.0,\n          92.0,\n          38.0\n        ],\n        \"semantic_type\": \"\",\n        \"description\": \"\"\n      }\n    },\n    {\n      \"column\": \"country\",\n      \"properties\": {\n        \"dtype\": \"category\",\n        \"num_unique_values\": 288,\n        \"samples\": [\n          \"hong kong\",\n          \"united kindgonm\",\n          \"los estados unidos de norte america\"\n        ],\n        \"semantic_type\": \"\",\n        \"description\": \"\"\n      }\n    }\n  ]\n}"
            }
          },
          "metadata": {},
          "execution_count": 32
        }
      ]
    },
    {
      "cell_type": "code",
      "source": [
        "countries = pd.DataFrame(rated_users['country'].value_counts()).reset_index().head(11)\n",
        "countries['index'].replace('', np.nan, inplace=True)\n",
        "countries.dropna(inplace=True)\n",
        "plt.figure(figsize=(10,5))\n",
        "plt.bar(x='index', height='country', data=countries, color = 'yellow')\n",
        "plt.title('Count of users based on their country (top 10)')\n",
        "plt.xticks(rotation=45, ha='right')\n",
        "plt.show()"
      ],
      "metadata": {
        "colab": {
          "base_uri": "https://localhost:8080/",
          "height": 541
        },
        "id": "28odJ397qXeh",
        "outputId": "16bc0024-01d9-48e6-94c0-6612361dae4f"
      },
      "execution_count": null,
      "outputs": [
        {
          "output_type": "display_data",
          "data": {
            "text/plain": [
              "<Figure size 1000x500 with 1 Axes>"
            ],
            "image/png": "[encoded data removed]"
          },
          "metadata": {}
        }
      ]
    },
    {
      "cell_type": "code",
      "source": [
        "from scipy.sparse import csr_matrix\n",
        "\n",
        "user_ids = rating_df['User-ID'].astype(\"category\").cat.codes\n",
        "item_ids = rating_df['ISBN'].astype(\"category\").cat.codes\n",
        "ratings = rating_df['Book-Rating']\n",
        "\n",
        "user_item_matrix_sparse = csr_matrix((ratings, (user_ids, item_ids)), shape=(user_ids.max() + 1, item_ids.max() + 1))\n",
        "\n",
        "print(user_item_matrix_sparse)\n"
      ],
      "metadata": {
        "colab": {
          "base_uri": "https://localhost:8080/"
        },
        "id": "pzv0RZWx0Z7x",
        "outputId": "f22c697a-ca3b-4687-835d-e88bb93ddfae"
      },
      "execution_count": null,
      "outputs": [
        {
          "output_type": "stream",
          "name": "stdout",
          "text": [
            "  (0, 24927)\t0\n",
            "  (1, 73)\t5\n",
            "  (1, 8175)\t0\n",
            "  (1, 59963)\t0\n",
            "  (1, 71447)\t0\n",
            "  (1, 77555)\t0\n",
            "  (1, 82278)\t0\n",
            "  (1, 141124)\t0\n",
            "  (1, 143074)\t0\n",
            "  (1, 157286)\t5\n",
            "  (1, 166205)\t0\n",
            "  (1, 176656)\t0\n",
            "  (1, 202760)\t5\n",
            "  (1, 218666)\t5\n",
            "  (1, 221772)\t0\n",
            "  (1, 227000)\t6\n",
            "  (1, 230854)\t6\n",
            "  (1, 241536)\t7\n",
            "  (2, 87241)\t0\n",
            "  (2, 103362)\t6\n",
            "  (2, 129457)\t0\n",
            "  (3, 236547)\t0\n",
            "  (4, 241114)\t10\n",
            "  (5, 9807)\t5\n",
            "  (5, 83699)\t5\n",
            "  :\t:\n",
            "  (92103, 88332)\t5\n",
            "  (92103, 115631)\t0\n",
            "  (92103, 118105)\t0\n",
            "  (92103, 136632)\t7\n",
            "  (92103, 156891)\t0\n",
            "  (92103, 165573)\t5\n",
            "  (92103, 171397)\t5\n",
            "  (92103, 190666)\t7\n",
            "  (92103, 201534)\t7\n",
            "  (92103, 205167)\t5\n",
            "  (92103, 207838)\t7\n",
            "  (92103, 208284)\t8\n",
            "  (92103, 221371)\t8\n",
            "  (92103, 226514)\t0\n",
            "  (92103, 228174)\t10\n",
            "  (92103, 242207)\t7\n",
            "  (92104, 97747)\t8\n",
            "  (92105, 37984)\t7\n",
            "  (92105, 61716)\t7\n",
            "  (92105, 81712)\t7\n",
            "  (92105, 81798)\t7\n",
            "  (92105, 107646)\t0\n",
            "  (92105, 118016)\t6\n",
            "  (92105, 121631)\t0\n",
            "  (92105, 121696)\t8\n"
          ]
        }
      ]
    },
    {
      "cell_type": "code",
      "source": [
        "from sklearn.metrics.pairwise import cosine_similarity\n",
        "\n",
        "user_similarity = cosine_similarity(user_item_matrix_sparse, dense_output=False)\n",
        "item_similarity = cosine_similarity(user_item_matrix_sparse.T, dense_output=False)\n"
      ],
      "metadata": {
        "id": "heH6FCLI0zch"
      },
      "execution_count": null,
      "outputs": []
    },
    {
      "cell_type": "code",
      "source": [
        "print(user_similarity)"
      ],
      "metadata": {
        "colab": {
          "base_uri": "https://localhost:8080/"
        },
        "id": "zguGY7Xs2ubq",
        "outputId": "005101c3-02ea-4968-f417-98d1170219d1"
      },
      "execution_count": null,
      "outputs": [
        {
          "output_type": "stream",
          "name": "stdout",
          "text": [
            "  (1, 74675)\t0.06598795479344474\n",
            "  (1, 87044)\t0.03784080109036774\n",
            "  (1, 72126)\t0.05898804727117089\n",
            "  (1, 69462)\t0.14823417800568506\n",
            "  (1, 65830)\t0.2852126942296184\n",
            "  (1, 40854)\t0.3363363969981562\n",
            "  (1, 38623)\t0.048873909204594515\n",
            "  (1, 22455)\t0.12655946698124634\n",
            "  (1, 3629)\t0.004234516427955321\n",
            "  (1, 1)\t0.9999999999999999\n",
            "  (2, 89662)\t0.14488189694993617\n",
            "  (2, 89655)\t0.5598925109558544\n",
            "  (2, 89200)\t0.23863697995167382\n",
            "  (2, 87944)\t0.17908612711114455\n",
            "  (2, 87390)\t0.14436106547701633\n",
            "  (2, 85410)\t0.27146264489895156\n",
            "  (2, 84057)\t0.27934688485989034\n",
            "  (2, 83556)\t0.3606678538669729\n",
            "  (2, 82895)\t0.4691574316284183\n",
            "  (2, 82854)\t0.2564682254550006\n",
            "  (2, 79618)\t0.3862269678805871\n",
            "  (2, 79333)\t0.11717917486340808\n",
            "  (2, 79311)\t0.8320502943378436\n",
            "  (2, 76437)\t0.43726946944662604\n",
            "  (2, 73843)\t0.10375027518676229\n",
            "  :\t:\n",
            "  (92105, 24595)\t0.05642226451917658\n",
            "  (92105, 22832)\t0.4068667356033675\n",
            "  (92105, 22102)\t0.12938336315540333\n",
            "  (92105, 21524)\t0.04348208197492612\n",
            "  (92105, 21249)\t0.19735935605211033\n",
            "  (92105, 20271)\t0.32549338848269405\n",
            "  (92105, 19987)\t0.4068667356033675\n",
            "  (92105, 18492)\t0.0790666237244296\n",
            "  (92105, 15370)\t0.018741351451440413\n",
            "  (92105, 14859)\t0.08238843851176633\n",
            "  (92105, 14428)\t0.04458428705299415\n",
            "  (92105, 12171)\t0.4037248605099307\n",
            "  (92105, 11847)\t0.022817388676291836\n",
            "  (92105, 10238)\t0.06188526380753408\n",
            "  (92105, 9756)\t0.16808406305254597\n",
            "  (92105, 8742)\t0.24412004136202048\n",
            "  (92105, 8317)\t0.4068667356033675\n",
            "  (92105, 7561)\t0.027923149554213603\n",
            "  (92105, 6104)\t0.05898462718239675\n",
            "  (92105, 5253)\t0.014412383027208929\n",
            "  (92105, 3629)\t0.0032015637678488797\n",
            "  (92105, 3603)\t0.05227853365141338\n",
            "  (92105, 2643)\t0.08144974208081358\n",
            "  (92105, 92105)\t1.0\n",
            "  (92105, 31603)\t0.03936969321472819\n"
          ]
        }
      ]
    },
    {
      "cell_type": "code",
      "source": [
        "print(item_similarity)"
      ],
      "metadata": {
        "colab": {
          "base_uri": "https://localhost:8080/"
        },
        "id": "RraAahix3ZV1",
        "outputId": "65c25e81-cd97-4ee3-c1d4-47fb75981cc5"
      },
      "execution_count": null,
      "outputs": [
        {
          "output_type": "stream",
          "name": "stdout",
          "text": [
            "  (0, 262466)\t1.0\n",
            "  (0, 261956)\t1.0\n",
            "  (0, 243726)\t0.7682212795973759\n",
            "  (0, 241197)\t1.0\n",
            "  (0, 240750)\t0.3866945956182654\n",
            "  (0, 239794)\t0.375\n",
            "  (0, 239674)\t1.0\n",
            "  (0, 239449)\t1.0\n",
            "  (0, 239059)\t0.554700196225229\n",
            "  (0, 238463)\t1.0\n",
            "  (0, 237969)\t1.0\n",
            "  (0, 237717)\t0.21925149171034317\n",
            "  (0, 237697)\t1.0\n",
            "  (0, 237691)\t0.5832118435198043\n",
            "  (0, 235747)\t0.12469593727770992\n",
            "  (0, 235667)\t1.0\n",
            "  (0, 234613)\t1.0\n",
            "  (0, 234234)\t0.5185629788417315\n",
            "  (0, 234228)\t0.5261522196019802\n",
            "  (0, 234227)\t0.5734623443633283\n",
            "  (0, 234164)\t1.0\n",
            "  (0, 233237)\t1.0\n",
            "  (0, 232885)\t1.0\n",
            "  (0, 232608)\t1.0\n",
            "  (0, 232251)\t1.0\n",
            "  :\t:\n",
            "  (270139, 11210)\t0.1938736881594737\n",
            "  (270139, 11151)\t0.8320502943378436\n",
            "  (270139, 10765)\t0.423999152002544\n",
            "  (270139, 10527)\t0.4142242984627982\n",
            "  (270139, 9794)\t0.6246950475544243\n",
            "  (270139, 9353)\t0.48686449556014766\n",
            "  (270139, 9332)\t1.0\n",
            "  (270139, 9319)\t0.4437601569801833\n",
            "  (270139, 9312)\t0.5397841295136605\n",
            "  (270139, 9296)\t0.2656844656620286\n",
            "  (270139, 9207)\t0.4472135954999579\n",
            "  (270139, 8436)\t0.5059644256269407\n",
            "  (270139, 8399)\t0.2414022747926338\n",
            "  (270139, 8130)\t0.2546428056316921\n",
            "  (270139, 7756)\t0.6137949055234262\n",
            "  (270139, 7715)\t0.443079020497369\n",
            "  (270139, 7546)\t1.0\n",
            "  (270139, 7350)\t0.4437601569801833\n",
            "  (270139, 6616)\t1.0\n",
            "  (270139, 5114)\t0.46188021535170054\n",
            "  (270139, 4689)\t0.3853373177942262\n",
            "  (270139, 4553)\t0.5025707110324167\n",
            "  (270139, 4203)\t0.2075689697621009\n",
            "  (270139, 3948)\t1.0\n",
            "  (270139, 1843)\t0.49424165057217234\n"
          ]
        }
      ]
    },
    {
      "cell_type": "markdown",
      "source": [
        "# **USER-USER COLABORATIVE FILTERING SYSTEM**"
      ],
      "metadata": {
        "id": "LTw-nQatyVWg"
      }
    },
    {
      "cell_type": "code",
      "source": [
        "# Convert ISBN to category and obtain category codes\n",
        "rating_df['ISBN_code'] = rating_df['ISBN'].astype('category').cat.codes\n",
        "\n",
        "# Create item mapping from indices to original ISBNs\n",
        "item_mapping = dict(enumerate(rating_df['ISBN'].astype('category').cat.categories))\n",
        "\n",
        "# Now, item_mapping is a dictionary where keys are numerical indices and values are the original ISBNs\n",
        "\n",
        "def user_user_recommendations_sparse(user_id, user_similarity, user_item_matrix, item_mapping, top_n=5):\n",
        "    # Ensure the user_item_matrix is in CSR format for efficient row querying\n",
        "    if not isinstance(user_item_matrix, csr_matrix):\n",
        "        user_item_matrix = csr_matrix(user_item_matrix)\n",
        "\n",
        "    # Get the similarity scores for the target user directly from the sparse matrix\n",
        "    similarity_scores = user_similarity.getrow(user_id).toarray().flatten()\n",
        "\n",
        "    # Predict scores by multiplying the similarity scores with the user-item matrix\n",
        "    pred_scores = user_item_matrix.T.dot(similarity_scores).flatten()\n",
        "\n",
        "    # Get indices of already rated items to filter them out from recommendations\n",
        "    rated_items = user_item_matrix.getrow(user_id).nonzero()[1]\n",
        "\n",
        "    # Recommend items that the user hasn't rated yet\n",
        "    recommendations = [(item, score) for item, score in enumerate(pred_scores) if item not in rated_items]\n",
        "\n",
        "    # Sort the recommendations based on scores and return the top N\n",
        "    recommendations.sort(key=lambda x: x[1], reverse=True)\n",
        "\n",
        "    # Map indices to original ISBN numbers\n",
        "    recommended_isbns = [item_mapping[item] for item, score in recommendations[:top_n]]\n",
        "\n",
        "    return recommended_isbns\n",
        "\n",
        "user_recommendations = user_user_recommendations_sparse(10, user_similarity, user_item_matrix_sparse,item_mapping, top_n=5)\n",
        "print(user_recommendations)\n"
      ],
      "metadata": {
        "colab": {
          "base_uri": "https://localhost:8080/"
        },
        "id": "pckm_xxn3eA0",
        "outputId": "366a761e-2630-4d55-a4b8-cebd8bc61be1"
      },
      "execution_count": null,
      "outputs": [
        {
          "output_type": "stream",
          "name": "stdout",
          "text": [
            "['0000913154', '0001010565', '0001046438', '0001046713', '000104687X']\n"
          ]
        }
      ]
    },
    {
      "cell_type": "code",
      "source": [
        "ratings_filtered_df = rating_df[['User-ID', 'ISBN', 'Book-Rating']]\n",
        "\n",
        "ratings_filtered_df.head(), ratings_filtered_df.shape"
      ],
      "metadata": {
        "colab": {
          "base_uri": "https://localhost:8080/"
        },
        "id": "fgfOkpnTyZ0P",
        "outputId": "40879253-52c3-4e0d-bde0-9c8def46b870"
      },
      "execution_count": null,
      "outputs": [
        {
          "output_type": "execute_result",
          "data": {
            "text/plain": [
              "(   User-ID        ISBN  Book-Rating\n",
              " 0        2  0195153448            0\n",
              " 1        8  0002005018            5\n",
              " 2    11400  0002005018            0\n",
              " 3    11676  0002005018            8\n",
              " 4    41385  0002005018            0,\n",
              " (1031129, 3))"
            ]
          },
          "metadata": {},
          "execution_count": 39
        }
      ]
    },
    {
      "cell_type": "code",
      "source": [
        "import numpy as np\n",
        "\n",
        "def train_test_split(ratings, test_size=0.2):\n",
        "    np.random.seed(42)\n",
        "\n",
        "    # Create a mask of the same size as the ratings dataset, initially set to False\n",
        "    test_mask = np.zeros(len(ratings), dtype=bool)\n",
        "\n",
        "    # For each user, randomly select test_size percentage of ratings to be included in the test set\n",
        "    for user_id in ratings['User-ID'].unique():\n",
        "        user_ratings = ratings[ratings['User-ID'] == user_id]\n",
        "        test_indices = np.random.choice(user_ratings.index, size=int(len(user_ratings) * test_size), replace=False)\n",
        "        test_mask[test_indices] = True\n",
        "\n",
        "    # Split the dataset\n",
        "    test_ratings = ratings[test_mask]\n",
        "    train_ratings = ratings[~test_mask]\n",
        "\n",
        "    return train_ratings, test_ratings\n",
        "\n",
        "train_df, test_df = train_test_split(ratings_filtered_df, test_size=0.2)\n",
        "\n",
        "train_df.head(), test_df.head(), train_df.shape, test_df.shape\n"
      ],
      "metadata": {
        "colab": {
          "base_uri": "https://localhost:8080/"
        },
        "id": "44inP8q6yZw0",
        "outputId": "ddc20938-bfb6-48e0-ff54-fb0c359d4c19"
      },
      "execution_count": null,
      "outputs": [
        {
          "output_type": "execute_result",
          "data": {
            "text/plain": [
              "(   User-ID        ISBN  Book-Rating\n",
              " 0        2  0195153448            0\n",
              " 4    41385  0002005018            0\n",
              " 5    67544  0002005018            8\n",
              " 6    85526  0002005018            0\n",
              " 7    96054  0002005018            0,\n",
              "     User-ID        ISBN  Book-Rating\n",
              " 1         8  0002005018            5\n",
              " 2     11400  0002005018            0\n",
              " 3     11676  0002005018            8\n",
              " 10   177458  0002005018            0\n",
              " 15        8  0060973129            0,\n",
              " (852952, 3),\n",
              " (178177, 3))"
            ]
          },
          "metadata": {},
          "execution_count": 41
        }
      ]
    },
    {
      "cell_type": "code",
      "source": [
        "# Create a sparse user-item matrix for the training set\n",
        "# Map User-ID and ISBN to categorical codes to work with sparse matrix\n",
        "user_ids = train_df['User-ID'].astype(\"category\").cat.codes\n",
        "isbn_codes = train_df['ISBN'].astype(\"category\").cat.codes\n",
        "\n",
        "train_matrix = csr_matrix((train_df['Book-Rating'], (user_ids, isbn_codes)))\n",
        "\n",
        "users_similarity = cosine_similarity(train_matrix, dense_output=False)"
      ],
      "metadata": {
        "id": "uxXLIJ55yZqa"
      },
      "execution_count": null,
      "outputs": []
    },
    {
      "cell_type": "code",
      "source": [
        "users_similarity.shape"
      ],
      "metadata": {
        "colab": {
          "base_uri": "https://localhost:8080/"
        },
        "id": "bJfSzW-x1CnB",
        "outputId": "8d50e13e-7728-45e4-f1f0-798daaa0c67a"
      },
      "execution_count": null,
      "outputs": [
        {
          "output_type": "execute_result",
          "data": {
            "text/plain": [
              "(90762, 90762)"
            ]
          },
          "metadata": {},
          "execution_count": 43
        }
      ]
    },
    {
      "cell_type": "code",
      "source": [
        "user_mapping = dict(enumerate(train_df['User-ID'].astype(\"category\").cat.categories))"
      ],
      "metadata": {
        "id": "yARkxKgh3Tkz"
      },
      "execution_count": null,
      "outputs": []
    },
    {
      "cell_type": "code",
      "source": [
        "# Create item mapping from indices (categorical codes) to original ISBNs\n",
        "item_mapping_train = dict(enumerate(train_df['ISBN'].astype('category').cat.categories))"
      ],
      "metadata": {
        "id": "_nTC_ytp0oEZ"
      },
      "execution_count": null,
      "outputs": []
    },
    {
      "cell_type": "code",
      "source": [
        "import numpy as np\n",
        "\n",
        "def predict_user_rating(user_id, isbn, users_similarity, train_matrix, user_mapping, item_mapping):\n",
        "\n",
        "    # Convert the user_id and isbn to indices in the matrix\n",
        "    user_index = {v: k for k, v in user_mapping.items()}.get(user_id, None)\n",
        "    item_index = {v: k for k, v in item_mapping.items()}.get(isbn, None)\n",
        "\n",
        "    if user_index is None or item_index is None:\n",
        "        return 0\n",
        "\n",
        "    # Fetch the similarity scores row in sparse format\n",
        "    similarity_scores = users_similarity[user_index]\n",
        "\n",
        "    # Fetch the item ratings column in sparse format\n",
        "    item_ratings = train_matrix.getcol(item_index)\n",
        "\n",
        "    # Calculate the weighted sum of ratings\n",
        "    weighted_sum = similarity_scores.multiply(item_ratings).sum()\n",
        "\n",
        "    # Calculate the sum of similarity scores for users who have rated the item\n",
        "    nonzero_similarity_scores = similarity_scores.multiply(item_ratings > 0)\n",
        "    sum_similarity_scores = nonzero_similarity_scores.sum()\n",
        "\n",
        "    if sum_similarity_scores > 0:\n",
        "        predicted_rating = weighted_sum / sum_similarity_scores\n",
        "    else:\n",
        "        predicted_rating = 0\n",
        "\n",
        "    return predicted_rating\n"
      ],
      "metadata": {
        "id": "BLbjCBu73Tha"
      },
      "execution_count": null,
      "outputs": []
    },
    {
      "cell_type": "code",
      "source": [
        "test_few = test_df.head(10000)"
      ],
      "metadata": {
        "id": "B3JBSwcwTSAG"
      },
      "execution_count": null,
      "outputs": []
    },
    {
      "cell_type": "code",
      "source": [
        "def predict_ratings_chunkwise(test_df, users_similarity, train_matrix, user_mapping, item_mapping, chunk_size=1000):\n",
        "    all_predicted_ratings = []\n",
        "\n",
        "    # Process the DataFrame in chunks\n",
        "    for start in range(0, test_df.shape[0], chunk_size):\n",
        "        end = start + chunk_size\n",
        "        chunk = test_df.iloc[start:end]\n",
        "        predicted_ratings = []\n",
        "\n",
        "        for index, row in chunk.iterrows():\n",
        "            user_id = row['User-ID']\n",
        "            isbn = row['ISBN']\n",
        "            predicted_rating = predict_user_rating(user_id, isbn, users_similarity, train_matrix, user_mapping, item_mapping)\n",
        "            predicted_ratings.append(predicted_rating)\n",
        "\n",
        "        all_predicted_ratings.extend(predicted_ratings)\n",
        "\n",
        "    return all_predicted_ratings\n",
        "\n",
        "predicted_ratings = predict_ratings_chunkwise(test_few, users_similarity, train_matrix, user_mapping, item_mapping_train, chunk_size=1000)\n",
        "actual_ratings = test_few['Book-Rating'].tolist()"
      ],
      "metadata": {
        "id": "HkJjSBIr3Tfu"
      },
      "execution_count": 50,
      "outputs": []
    },
    {
      "cell_type": "code",
      "source": [
        "from sklearn.metrics import mean_squared_error, mean_absolute_error\n",
        "from math import sqrt\n",
        "\n",
        "rmse = sqrt(mean_squared_error(actual_ratings, predicted_ratings))\n",
        "print(f\"RMSE: {rmse}\")\n",
        "\n",
        "mae = mean_absolute_error(actual_ratings, predicted_ratings)\n",
        "print(f\"MAE: {mae}\")\n"
      ],
      "metadata": {
        "id": "JEq_poVD3Tdu",
        "colab": {
          "base_uri": "https://localhost:8080/"
        },
        "outputId": "925d0e03-777b-4391-f61f-b1f338f97dc2"
      },
      "execution_count": 51,
      "outputs": [
        {
          "output_type": "stream",
          "name": "stdout",
          "text": [
            "RMSE: 6.069553281068029\n",
            "MAE: 5.143116930674517\n"
          ]
        }
      ]
    },
    {
      "cell_type": "markdown",
      "source": [
        "# **ITEM-ITEM COLABORATIVE FILTERING SYSTEM**\n"
      ],
      "metadata": {
        "id": "2xbDEg6Py6Ek"
      }
    },
    {
      "cell_type": "code",
      "source": [
        "# Create a mapping from book titles to ISBNs\n",
        "title_to_isbn_mapping = pd.Series(books_df['ISBN'].values, index=books_df['Book-Title']).to_dict()"
      ],
      "metadata": {
        "id": "hm2A3w4ZtJmJ"
      },
      "execution_count": 52,
      "outputs": []
    },
    {
      "cell_type": "code",
      "source": [
        "isbn_to_index_mapping = {v: k for k, v in item_mapping.items()}"
      ],
      "metadata": {
        "id": "EnodqFU0v3co"
      },
      "execution_count": 53,
      "outputs": []
    },
    {
      "cell_type": "code",
      "source": [
        "def item_item_recommendations_sparse_by_title(book_title, title_to_isbn_mapping, item_similarity, user_item_matrix, isbn_to_index_mapping, item_mapping, top_n=5):\n",
        "    # Convert book title to ISBN\n",
        "    isbn = title_to_isbn_mapping.get(book_title)\n",
        "    if isbn is None:\n",
        "        return []\n",
        "\n",
        "    # Convert ISBN to item index\n",
        "    item_index = isbn_to_index_mapping.get(isbn)\n",
        "    if item_index is None:\n",
        "        return []\n",
        "\n",
        "    # Get the similarity scores for the target item directly from the sparse matrix\n",
        "    similarity_scores = item_similarity.getcol(item_index).toarray().flatten()\n",
        "\n",
        "    # Recommend items that are most similar\n",
        "    recommendations = [(item, score) for item, score in enumerate(similarity_scores) if item != item_index]\n",
        "\n",
        "    # Sort the recommendations based on scores and return the top N\n",
        "    recommendations.sort(key=lambda x: x[1], reverse=True)\n",
        "\n",
        "    # Map indices to original ISBN numbers\n",
        "    recommended_isbns = [item_mapping[item] for item, score in recommendations[:top_n]]\n",
        "\n",
        "    return recommended_isbns"
      ],
      "metadata": {
        "id": "PJObA15MtJjR"
      },
      "execution_count": 54,
      "outputs": []
    },
    {
      "cell_type": "code",
      "source": [
        "example_title = 'Forms of Devotion: Stories and Pictures'\n",
        "recommended_isbns = item_item_recommendations_sparse_by_title(\n",
        "    example_title,\n",
        "    title_to_isbn_mapping,\n",
        "    item_similarity,\n",
        "    user_item_matrix_sparse,\n",
        "    isbn_to_index_mapping,\n",
        "    item_mapping,\n",
        "    top_n=5\n",
        ")\n",
        "\n",
        "print(f\"Recommended items for book title '{example_title}': {recommended_isbns}\")"
      ],
      "metadata": {
        "id": "6RTqg7_Ataqi",
        "colab": {
          "base_uri": "https://localhost:8080/"
        },
        "outputId": "8cf9127c-def7-4110-d714-7935a0acda6e"
      },
      "execution_count": 55,
      "outputs": [
        {
          "output_type": "stream",
          "name": "stdout",
          "text": [
            "Recommended items for book title 'Forms of Devotion: Stories and Pictures': ['0000913154', '0001010565', '0001046438', '0001046713', '000104687X']\n"
          ]
        }
      ]
    },
    {
      "cell_type": "code",
      "source": [
        "import pickle\n",
        "\n",
        "recommendation_functions = {\n",
        "    'user_similarity': user_similarity,\n",
        "    'item_similarity':item_similarity,\n",
        "    'rating_df':rating_df,\n",
        "    'top_n':5,\n",
        "    'user_item_matrix_sparse':user_item_matrix_sparse,\n",
        "    'item_mapping':item_mapping,\n",
        "    'title_to_isbn_mapping':title_to_isbn_mapping,\n",
        "    'isbn_to_index_mapping':isbn_to_index_mapping\n",
        "\n",
        "}\n",
        "\n",
        "with open(\"recommendation.pkl\", \"wb\") as pickle_out:\n",
        "    pickle.dump(recommendation_functions, pickle_out)"
      ],
      "metadata": {
        "id": "9HTy1o1Ftjjx"
      },
      "execution_count": 56,
      "outputs": []
    },
    {
      "cell_type": "code",
      "source": [
        "item_user_matrix = train_matrix.T\n",
        "\n",
        "items_similarity = cosine_similarity(item_user_matrix, dense_output=False)"
      ],
      "metadata": {
        "id": "I4iJOZIe3Tbt"
      },
      "execution_count": 57,
      "outputs": []
    },
    {
      "cell_type": "code",
      "source": [
        "items_similarity.shape"
      ],
      "metadata": {
        "id": "XRD8PK9jzKRy",
        "colab": {
          "base_uri": "https://localhost:8080/"
        },
        "outputId": "661aa46a-85ab-4296-c5c8-9abafbfdca6c"
      },
      "execution_count": 58,
      "outputs": [
        {
          "output_type": "execute_result",
          "data": {
            "text/plain": [
              "(242539, 242539)"
            ]
          },
          "metadata": {},
          "execution_count": 58
        }
      ]
    },
    {
      "cell_type": "code",
      "source": [
        "def predict_user_rating_item_item(user_id, isbn, items_similarity, item_user_matrix, user_mapping, item_mapping):\n",
        "    user_index = {v: k for k, v in user_mapping.items()}.get(user_id, None)\n",
        "    item_index = {v: k for k, v in item_mapping.items()}.get(isbn, None)\n",
        "\n",
        "    if user_index is None or item_index is None:\n",
        "        return 0\n",
        "\n",
        "    # Get the similarity scores for the target item\n",
        "    item_similarity_scores = items_similarity[item_index]\n",
        "\n",
        "    # Get the ratings given by the target user\n",
        "    user_ratings = item_user_matrix[:, user_index]\n",
        "\n",
        "    # Calculate the weighted sum of ratings\n",
        "    weighted_sum = item_similarity_scores.multiply(user_ratings).sum()\n",
        "\n",
        "    # Calculate the sum of similarity scores for items rated by the user\n",
        "    nonzero_similarity_scores = item_similarity_scores.multiply(user_ratings > 0)\n",
        "    sum_similarity_scores = nonzero_similarity_scores.sum()\n",
        "\n",
        "    if sum_similarity_scores > 0:\n",
        "        predicted_rating = weighted_sum / sum_similarity_scores\n",
        "    else:\n",
        "        predicted_rating = 0\n",
        "\n",
        "    return predicted_rating"
      ],
      "metadata": {
        "id": "rRoZnKYYzKPO"
      },
      "execution_count": 59,
      "outputs": []
    },
    {
      "cell_type": "code",
      "source": [
        "def predict_ratings_chunkwise_item_item(test_df, items_similarity, item_user_matrix, user_mapping, item_mapping, chunk_size=1000):\n",
        "    all_predicted_ratings = []\n",
        "\n",
        "    for start in range(0, test_df.shape[0], chunk_size):\n",
        "        end = start + chunk_size\n",
        "        chunk = test_df.iloc[start:end]\n",
        "        predicted_ratings = []\n",
        "\n",
        "        for index, row in chunk.iterrows():\n",
        "            user_id = row['User-ID']\n",
        "            isbn = row['ISBN']\n",
        "            predicted_rating = predict_user_rating_item_item(user_id, isbn, items_similarity, item_user_matrix, user_mapping, item_mapping)\n",
        "            predicted_ratings.append(predicted_rating)\n",
        "\n",
        "        all_predicted_ratings.extend(predicted_ratings)\n",
        "\n",
        "    return all_predicted_ratings\n",
        "\n",
        "\n",
        "predicted_ratings_item_item = predict_ratings_chunkwise_item_item(test_few, items_similarity, item_user_matrix, user_mapping, item_mapping_train, chunk_size=1000)\n",
        "actual_ratings_item_item = test_df.head(10000)['Book-Rating'].tolist()\n"
      ],
      "metadata": {
        "id": "zZ9RThNYzKMv"
      },
      "execution_count": 60,
      "outputs": []
    },
    {
      "cell_type": "code",
      "source": [
        "rmse_item_item = sqrt(mean_squared_error(actual_ratings_item_item, predicted_ratings_item_item))\n",
        "print(f\"Item-Item RMSE: {rmse_item_item}\")\n",
        "\n",
        "mae_item_item = mean_absolute_error(actual_ratings_item_item, predicted_ratings_item_item)\n",
        "print(f\"Item-Item MAE: {mae_item_item}\")\n"
      ],
      "metadata": {
        "id": "IjgfLx-B8Ehp",
        "colab": {
          "base_uri": "https://localhost:8080/"
        },
        "outputId": "fef83774-926a-448f-cefb-96b2c2c6f6aa"
      },
      "execution_count": 61,
      "outputs": [
        {
          "output_type": "stream",
          "name": "stdout",
          "text": [
            "Item-Item RMSE: 6.14767026124551\n",
            "Item-Item MAE: 5.183524246693682\n"
          ]
        }
      ]
    },
    {
      "cell_type": "code",
      "source": [
        "import pickle\n",
        "recommendation_functions = {\n",
        "    'user_user_recommendations_sparse': user_user_recommendations_sparse,\n",
        "    'item_item_recommendations_sparse': item_item_recommendations_sparse,\n",
        "    'get_book_details':get_books_details,\n",
        "}\n",
        "with open(\"recommendation.pkl\", \"wb\") as pickle_out:\n",
        "    pickle.dump(recommendation_functions, pickle_out)"
      ],
      "metadata": {
        "id": "xKGxSLFKvwY_"
      },
      "execution_count": null,
      "outputs": []
    },
    {
      "cell_type": "markdown",
      "source": [
        "# **Popularity Based**\n"
      ],
      "metadata": {
        "id": "2n_EMkM5EhoQ"
      }
    },
    {
      "cell_type": "code",
      "source": [
        "!pip install scikit-surprise"
      ],
      "metadata": {
        "colab": {
          "base_uri": "https://localhost:8080/"
        },
        "id": "eR5oy_hiX4ER",
        "outputId": "d03d73d2-10f4-43c1-8889-23c41b2421f2"
      },
      "execution_count": 62,
      "outputs": [
        {
          "output_type": "stream",
          "name": "stdout",
          "text": [
            "Collecting scikit-surprise\n",
            "  Downloading scikit-surprise-1.1.3.tar.gz (771 kB)\n",
            "\u001b[?25l     \u001b[90m━━━━━━━━━━━━━━━━━━━━━━━━━━━━━━━━━━━━━━━━\u001b[0m \u001b[32m0.0/772.0 kB\u001b[0m \u001b[31m?\u001b[0m eta \u001b[36m-:--:--\u001b[0m\r\u001b[2K     \u001b[91m━━━━\u001b[0m\u001b[91m╸\u001b[0m\u001b[90m━━━━━━━━━━━━━━━━━━━━━━━━━━━━━━━━━━━\u001b[0m \u001b[32m92.2/772.0 kB\u001b[0m \u001b[31m2.6 MB/s\u001b[0m eta \u001b[36m0:00:01\u001b[0m\r\u001b[2K     \u001b[91m━━━━━━━━━━━━━━━━━━━━\u001b[0m\u001b[91m╸\u001b[0m\u001b[90m━━━━━━━━━━━━━━━━━━━\u001b[0m \u001b[32m399.4/772.0 kB\u001b[0m \u001b[31m5.6 MB/s\u001b[0m eta \u001b[36m0:00:01\u001b[0m\r\u001b[2K     \u001b[91m━━━━━━━━━━━━━━━━━━━━━━━━━━━━━━━━━━━━━━━\u001b[0m\u001b[91m╸\u001b[0m \u001b[32m768.0/772.0 kB\u001b[0m \u001b[31m7.3 MB/s\u001b[0m eta \u001b[36m0:00:01\u001b[0m\r\u001b[2K     \u001b[90m━━━━━━━━━━━━━━━━━━━━━━━━━━━━━━━━━━━━━━━━\u001b[0m \u001b[32m772.0/772.0 kB\u001b[0m \u001b[31m6.3 MB/s\u001b[0m eta \u001b[36m0:00:00\u001b[0m\n",
            "\u001b[?25h  Preparing metadata (setup.py) ... \u001b[?25l\u001b[?25hdone\n",
            "Requirement already satisfied: joblib>=1.0.0 in /usr/local/lib/python3.10/dist-packages (from scikit-surprise) (1.3.2)\n",
            "Requirement already satisfied: numpy>=1.17.3 in /usr/local/lib/python3.10/dist-packages (from scikit-surprise) (1.25.2)\n",
            "Requirement already satisfied: scipy>=1.3.2 in /usr/local/lib/python3.10/dist-packages (from scikit-surprise) (1.11.4)\n",
            "Building wheels for collected packages: scikit-surprise\n",
            "  Building wheel for scikit-surprise (setup.py) ... \u001b[?25l\u001b[?25hdone\n",
            "  Created wheel for scikit-surprise: filename=scikit_surprise-1.1.3-cp310-cp310-linux_x86_64.whl size=3162733 sha256=09411940fb22d7c13d6a25d4beff2c3f81a43622a5ba7fa65789283c02d2f73c\n",
            "  Stored in directory: /root/.cache/pip/wheels/a5/ca/a8/4e28def53797fdc4363ca4af740db15a9c2f1595ebc51fb445\n",
            "Successfully built scikit-surprise\n",
            "Installing collected packages: scikit-surprise\n",
            "Successfully installed scikit-surprise-1.1.3\n"
          ]
        }
      ]
    },
    {
      "cell_type": "code",
      "source": [
        "df = rating_df.copy()\n",
        "df.dropna(inplace=True)\n",
        "df.reset_index(drop=True,inplace=True)\n",
        "# df.drop(columns=[\"ISBN\",\"Year-Of-Publication\",\"Image-URL-S\",\"Image-URL-M\"],axis=1,inplace=True)\n",
        "df.drop(index=df[df[\"Book-Rating\"]==0].index,inplace=True)"
      ],
      "metadata": {
        "id": "fQq09qnoaBp4"
      },
      "execution_count": 63,
      "outputs": []
    },
    {
      "cell_type": "code",
      "source": [
        "df"
      ],
      "metadata": {
        "colab": {
          "base_uri": "https://localhost:8080/",
          "height": 808
        },
        "id": "iLQcQ4DyFJhJ",
        "outputId": "b1ebc43c-f3e8-4bc4-cd88-9b0c30a27444"
      },
      "execution_count": 64,
      "outputs": [
        {
          "output_type": "execute_result",
          "data": {
            "text/plain": [
              "         User-ID        ISBN                                     Book-Title  \\\n",
              "1              8  0002005018                                   Clara Callan   \n",
              "3          11676  0002005018                                   Clara Callan   \n",
              "5          67544  0002005018                                   Clara Callan   \n",
              "8         116866  0002005018                                   Clara Callan   \n",
              "9         123629  0002005018                                   Clara Callan   \n",
              "...          ...         ...                                            ...   \n",
              "1031116   275318  0395264707                                     Dreamsnake   \n",
              "1031121   275970  1845170423                              Cocktail Classics   \n",
              "1031123   276313  0449906736  Flashpoints: Promise and Peril in a New World   \n",
              "1031124   276463  0440400988                     There's a Bat in Bunk Five   \n",
              "1031125   276579  0525447644                        From One to One Hundred   \n",
              "\n",
              "                  Book-Author Year-Of-Publication  \\\n",
              "1        Richard Bruce Wright                2001   \n",
              "3        Richard Bruce Wright                2001   \n",
              "5        Richard Bruce Wright                2001   \n",
              "8        Richard Bruce Wright                2001   \n",
              "9        Richard Bruce Wright                2001   \n",
              "...                       ...                 ...   \n",
              "1031116     Vonda N. McIntyre                1978   \n",
              "1031121           David Biggs                2004   \n",
              "1031123          Robin Wright                1993   \n",
              "1031124        Paula Danziger                1988   \n",
              "1031125            Teri Sloat                1991   \n",
              "\n",
              "                               Publisher  \\\n",
              "1                  HarperFlamingo Canada   \n",
              "3                  HarperFlamingo Canada   \n",
              "5                  HarperFlamingo Canada   \n",
              "8                  HarperFlamingo Canada   \n",
              "9                  HarperFlamingo Canada   \n",
              "...                                  ...   \n",
              "1031116                 Houghton Mifflin   \n",
              "1031121                        Connaught   \n",
              "1031123                 Ballantine Books   \n",
              "1031124  Random House Childrens Pub (Mm)   \n",
              "1031125                     Dutton Books   \n",
              "\n",
              "                                               Image-URL-S  \\\n",
              "1        http://images.amazon.com/images/P/0002005018.0...   \n",
              "3        http://images.amazon.com/images/P/0002005018.0...   \n",
              "5        http://images.amazon.com/images/P/0002005018.0...   \n",
              "8        http://images.amazon.com/images/P/0002005018.0...   \n",
              "9        http://images.amazon.com/images/P/0002005018.0...   \n",
              "...                                                    ...   \n",
              "1031116  http://images.amazon.com/images/P/0395264707.0...   \n",
              "1031121  http://images.amazon.com/images/P/1845170423.0...   \n",
              "1031123  http://images.amazon.com/images/P/0449906736.0...   \n",
              "1031124  http://images.amazon.com/images/P/0440400988.0...   \n",
              "1031125  http://images.amazon.com/images/P/0525447644.0...   \n",
              "\n",
              "                                               Image-URL-M  \\\n",
              "1        http://images.amazon.com/images/P/0002005018.0...   \n",
              "3        http://images.amazon.com/images/P/0002005018.0...   \n",
              "5        http://images.amazon.com/images/P/0002005018.0...   \n",
              "8        http://images.amazon.com/images/P/0002005018.0...   \n",
              "9        http://images.amazon.com/images/P/0002005018.0...   \n",
              "...                                                    ...   \n",
              "1031116  http://images.amazon.com/images/P/0395264707.0...   \n",
              "1031121  http://images.amazon.com/images/P/1845170423.0...   \n",
              "1031123  http://images.amazon.com/images/P/0449906736.0...   \n",
              "1031124  http://images.amazon.com/images/P/0440400988.0...   \n",
              "1031125  http://images.amazon.com/images/P/0525447644.0...   \n",
              "\n",
              "                                               Image-URL-L  Book-Rating  \\\n",
              "1        http://images.amazon.com/images/P/0002005018.0...            5   \n",
              "3        http://images.amazon.com/images/P/0002005018.0...            8   \n",
              "5        http://images.amazon.com/images/P/0002005018.0...            8   \n",
              "8        http://images.amazon.com/images/P/0002005018.0...            9   \n",
              "9        http://images.amazon.com/images/P/0002005018.0...            9   \n",
              "...                                                    ...          ...   \n",
              "1031116  http://images.amazon.com/images/P/0395264707.0...           10   \n",
              "1031121  http://images.amazon.com/images/P/1845170423.0...            7   \n",
              "1031123  http://images.amazon.com/images/P/0449906736.0...            5   \n",
              "1031124  http://images.amazon.com/images/P/0440400988.0...            7   \n",
              "1031125  http://images.amazon.com/images/P/0525447644.0...            4   \n",
              "\n",
              "         ISBN_code  \n",
              "1               73  \n",
              "3               73  \n",
              "5               73  \n",
              "8               73  \n",
              "9               73  \n",
              "...            ...  \n",
              "1031116      75732  \n",
              "1031121     236929  \n",
              "1031123      97709  \n",
              "1031124      87631  \n",
              "1031125     112039  \n",
              "\n",
              "[383838 rows x 11 columns]"
            ],
            "text/html": [
              "\n",
              "  <div id=\"df-1b481c6d-8640-4ee0-8c63-e59c22c6e6da\" class=\"colab-df-container\">\n",
              "    <div>\n",
              "<style scoped>\n",
              "    .dataframe tbody tr th:only-of-type {\n",
              "        vertical-align: middle;\n",
              "    }\n",
              "\n",
              "    .dataframe tbody tr th {\n",
              "        vertical-align: top;\n",
              "    }\n",
              "\n",
              "    .dataframe thead th {\n",
              "        text-align: right;\n",
              "    }\n",
              "</style>\n",
              "<table border=\"1\" class=\"dataframe\">\n",
              "  <thead>\n",
              "    <tr style=\"text-align: right;\">\n",
              "      <th></th>\n",
              "      <th>User-ID</th>\n",
              "      <th>ISBN</th>\n",
              "      <th>Book-Title</th>\n",
              "      <th>Book-Author</th>\n",
              "      <th>Year-Of-Publication</th>\n",
              "      <th>Publisher</th>\n",
              "      <th>Image-URL-S</th>\n",
              "      <th>Image-URL-M</th>\n",
              "      <th>Image-URL-L</th>\n",
              "      <th>Book-Rating</th>\n",
              "      <th>ISBN_code</th>\n",
              "    </tr>\n",
              "  </thead>\n",
              "  <tbody>\n",
              "    <tr>\n",
              "      <th>1</th>\n",
              "      <td>8</td>\n",
              "      <td>0002005018</td>\n",
              "      <td>Clara Callan</td>\n",
              "      <td>Richard Bruce Wright</td>\n",
              "      <td>2001</td>\n",
              "      <td>HarperFlamingo Canada</td>\n",
              "      <td>http://images.amazon.com/images/P/0002005018.0...</td>\n",
              "      <td>http://images.amazon.com/images/P/0002005018.0...</td>\n",
              "      <td>http://images.amazon.com/images/P/0002005018.0...</td>\n",
              "      <td>5</td>\n",
              "      <td>73</td>\n",
              "    </tr>\n",
              "    <tr>\n",
              "      <th>3</th>\n",
              "      <td>11676</td>\n",
              "      <td>0002005018</td>\n",
              "      <td>Clara Callan</td>\n",
              "      <td>Richard Bruce Wright</td>\n",
              "      <td>2001</td>\n",
              "      <td>HarperFlamingo Canada</td>\n",
              "      <td>http://images.amazon.com/images/P/0002005018.0...</td>\n",
              "      <td>http://images.amazon.com/images/P/0002005018.0...</td>\n",
              "      <td>http://images.amazon.com/images/P/0002005018.0...</td>\n",
              "      <td>8</td>\n",
              "      <td>73</td>\n",
              "    </tr>\n",
              "    <tr>\n",
              "      <th>5</th>\n",
              "      <td>67544</td>\n",
              "      <td>0002005018</td>\n",
              "      <td>Clara Callan</td>\n",
              "      <td>Richard Bruce Wright</td>\n",
              "      <td>2001</td>\n",
              "      <td>HarperFlamingo Canada</td>\n",
              "      <td>http://images.amazon.com/images/P/0002005018.0...</td>\n",
              "      <td>http://images.amazon.com/images/P/0002005018.0...</td>\n",
              "      <td>http://images.amazon.com/images/P/0002005018.0...</td>\n",
              "      <td>8</td>\n",
              "      <td>73</td>\n",
              "    </tr>\n",
              "    <tr>\n",
              "      <th>8</th>\n",
              "      <td>116866</td>\n",
              "      <td>0002005018</td>\n",
              "      <td>Clara Callan</td>\n",
              "      <td>Richard Bruce Wright</td>\n",
              "      <td>2001</td>\n",
              "      <td>HarperFlamingo Canada</td>\n",
              "      <td>http://images.amazon.com/images/P/0002005018.0...</td>\n",
              "      <td>http://images.amazon.com/images/P/0002005018.0...</td>\n",
              "      <td>http://images.amazon.com/images/P/0002005018.0...</td>\n",
              "      <td>9</td>\n",
              "      <td>73</td>\n",
              "    </tr>\n",
              "    <tr>\n",
              "      <th>9</th>\n",
              "      <td>123629</td>\n",
              "      <td>0002005018</td>\n",
              "      <td>Clara Callan</td>\n",
              "      <td>Richard Bruce Wright</td>\n",
              "      <td>2001</td>\n",
              "      <td>HarperFlamingo Canada</td>\n",
              "      <td>http://images.amazon.com/images/P/0002005018.0...</td>\n",
              "      <td>http://images.amazon.com/images/P/0002005018.0...</td>\n",
              "      <td>http://images.amazon.com/images/P/0002005018.0...</td>\n",
              "      <td>9</td>\n",
              "      <td>73</td>\n",
              "    </tr>\n",
              "    <tr>\n",
              "      <th>...</th>\n",
              "      <td>...</td>\n",
              "      <td>...</td>\n",
              "      <td>...</td>\n",
              "      <td>...</td>\n",
              "      <td>...</td>\n",
              "      <td>...</td>\n",
              "      <td>...</td>\n",
              "      <td>...</td>\n",
              "      <td>...</td>\n",
              "      <td>...</td>\n",
              "      <td>...</td>\n",
              "    </tr>\n",
              "    <tr>\n",
              "      <th>1031116</th>\n",
              "      <td>275318</td>\n",
              "      <td>0395264707</td>\n",
              "      <td>Dreamsnake</td>\n",
              "      <td>Vonda N. McIntyre</td>\n",
              "      <td>1978</td>\n",
              "      <td>Houghton Mifflin</td>\n",
              "      <td>http://images.amazon.com/images/P/0395264707.0...</td>\n",
              "      <td>http://images.amazon.com/images/P/0395264707.0...</td>\n",
              "      <td>http://images.amazon.com/images/P/0395264707.0...</td>\n",
              "      <td>10</td>\n",
              "      <td>75732</td>\n",
              "    </tr>\n",
              "    <tr>\n",
              "      <th>1031121</th>\n",
              "      <td>275970</td>\n",
              "      <td>1845170423</td>\n",
              "      <td>Cocktail Classics</td>\n",
              "      <td>David Biggs</td>\n",
              "      <td>2004</td>\n",
              "      <td>Connaught</td>\n",
              "      <td>http://images.amazon.com/images/P/1845170423.0...</td>\n",
              "      <td>http://images.amazon.com/images/P/1845170423.0...</td>\n",
              "      <td>http://images.amazon.com/images/P/1845170423.0...</td>\n",
              "      <td>7</td>\n",
              "      <td>236929</td>\n",
              "    </tr>\n",
              "    <tr>\n",
              "      <th>1031123</th>\n",
              "      <td>276313</td>\n",
              "      <td>0449906736</td>\n",
              "      <td>Flashpoints: Promise and Peril in a New World</td>\n",
              "      <td>Robin Wright</td>\n",
              "      <td>1993</td>\n",
              "      <td>Ballantine Books</td>\n",
              "      <td>http://images.amazon.com/images/P/0449906736.0...</td>\n",
              "      <td>http://images.amazon.com/images/P/0449906736.0...</td>\n",
              "      <td>http://images.amazon.com/images/P/0449906736.0...</td>\n",
              "      <td>5</td>\n",
              "      <td>97709</td>\n",
              "    </tr>\n",
              "    <tr>\n",
              "      <th>1031124</th>\n",
              "      <td>276463</td>\n",
              "      <td>0440400988</td>\n",
              "      <td>There's a Bat in Bunk Five</td>\n",
              "      <td>Paula Danziger</td>\n",
              "      <td>1988</td>\n",
              "      <td>Random House Childrens Pub (Mm)</td>\n",
              "      <td>http://images.amazon.com/images/P/0440400988.0...</td>\n",
              "      <td>http://images.amazon.com/images/P/0440400988.0...</td>\n",
              "      <td>http://images.amazon.com/images/P/0440400988.0...</td>\n",
              "      <td>7</td>\n",
              "      <td>87631</td>\n",
              "    </tr>\n",
              "    <tr>\n",
              "      <th>1031125</th>\n",
              "      <td>276579</td>\n",
              "      <td>0525447644</td>\n",
              "      <td>From One to One Hundred</td>\n",
              "      <td>Teri Sloat</td>\n",
              "      <td>1991</td>\n",
              "      <td>Dutton Books</td>\n",
              "      <td>http://images.amazon.com/images/P/0525447644.0...</td>\n",
              "      <td>http://images.amazon.com/images/P/0525447644.0...</td>\n",
              "      <td>http://images.amazon.com/images/P/0525447644.0...</td>\n",
              "      <td>4</td>\n",
              "      <td>112039</td>\n",
              "    </tr>\n",
              "  </tbody>\n",
              "</table>\n",
              "<p>383838 rows × 11 columns</p>\n",
              "</div>\n",
              "    <div class=\"colab-df-buttons\">\n",
              "\n",
              "  <div class=\"colab-df-container\">\n",
              "    <button class=\"colab-df-convert\" onclick=\"convertToInteractive('df-1b481c6d-8640-4ee0-8c63-e59c22c6e6da')\"\n",
              "            title=\"Convert this dataframe to an interactive table.\"\n",
              "            style=\"display:none;\">\n",
              "\n",
              "  <svg xmlns=\"http://www.w3.org/2000/svg\" height=\"24px\" viewBox=\"0 -960 960 960\">\n",
              "    <path d=\"M120-120v-720h720v720H120Zm60-500h600v-160H180v160Zm220 220h160v-160H400v160Zm0 220h160v-160H400v160ZM180-400h160v-160H180v160Zm440 0h160v-160H620v160ZM180-180h160v-160H180v160Zm440 0h160v-160H620v160Z\"/>\n",
              "  </svg>\n",
              "    </button>\n",
              "\n",
              "  <style>\n",
              "    .colab-df-container {\n",
              "      display:flex;\n",
              "      gap: 12px;\n",
              "    }\n",
              "\n",
              "    .colab-df-convert {\n",
              "      background-color: #E8F0FE;\n",
              "      border: none;\n",
              "      border-radius: 50%;\n",
              "      cursor: pointer;\n",
              "      display: none;\n",
              "      fill: #1967D2;\n",
              "      height: 32px;\n",
              "      padding: 0 0 0 0;\n",
              "      width: 32px;\n",
              "    }\n",
              "\n",
              "    .colab-df-convert:hover {\n",
              "      background-color: #E2EBFA;\n",
              "      box-shadow: 0px 1px 2px rgba(60, 64, 67, 0.3), 0px 1px 3px 1px rgba(60, 64, 67, 0.15);\n",
              "      fill: #174EA6;\n",
              "    }\n",
              "\n",
              "    .colab-df-buttons div {\n",
              "      margin-bottom: 4px;\n",
              "    }\n",
              "\n",
              "    [theme=dark] .colab-df-convert {\n",
              "      background-color: #3B4455;\n",
              "      fill: #D2E3FC;\n",
              "    }\n",
              "\n",
              "    [theme=dark] .colab-df-convert:hover {\n",
              "      background-color: #434B5C;\n",
              "      box-shadow: 0px 1px 3px 1px rgba(0, 0, 0, 0.15);\n",
              "      filter: drop-shadow(0px 1px 2px rgba(0, 0, 0, 0.3));\n",
              "      fill: #FFFFFF;\n",
              "    }\n",
              "  </style>\n",
              "\n",
              "    <script>\n",
              "      const buttonEl =\n",
              "        document.querySelector('#df-1b481c6d-8640-4ee0-8c63-e59c22c6e6da button.colab-df-convert');\n",
              "      buttonEl.style.display =\n",
              "        google.colab.kernel.accessAllowed ? 'block' : 'none';\n",
              "\n",
              "      async function convertToInteractive(key) {\n",
              "        const element = document.querySelector('#df-1b481c6d-8640-4ee0-8c63-e59c22c6e6da');\n",
              "        const dataTable =\n",
              "          await google.colab.kernel.invokeFunction('convertToInteractive',\n",
              "                                                    [key], {});\n",
              "        if (!dataTable) return;\n",
              "\n",
              "        const docLinkHtml = 'Like what you see? Visit the ' +\n",
              "          '<a target=\"_blank\" href=https://colab.research.google.com/notebooks/data_table.ipynb>data table notebook</a>'\n",
              "          + ' to learn more about interactive tables.';\n",
              "        element.innerHTML = '';\n",
              "        dataTable['output_type'] = 'display_data';\n",
              "        await google.colab.output.renderOutput(dataTable, element);\n",
              "        const docLink = document.createElement('div');\n",
              "        docLink.innerHTML = docLinkHtml;\n",
              "        element.appendChild(docLink);\n",
              "      }\n",
              "    </script>\n",
              "  </div>\n",
              "\n",
              "\n",
              "<div id=\"df-d4614277-2852-41e8-9dba-e2305d0031ac\">\n",
              "  <button class=\"colab-df-quickchart\" onclick=\"quickchart('df-d4614277-2852-41e8-9dba-e2305d0031ac')\"\n",
              "            title=\"Suggest charts\"\n",
              "            style=\"display:none;\">\n",
              "\n",
              "<svg xmlns=\"http://www.w3.org/2000/svg\" height=\"24px\"viewBox=\"0 0 24 24\"\n",
              "     width=\"24px\">\n",
              "    <g>\n",
              "        <path d=\"M19 3H5c-1.1 0-2 .9-2 2v14c0 1.1.9 2 2 2h14c1.1 0 2-.9 2-2V5c0-1.1-.9-2-2-2zM9 17H7v-7h2v7zm4 0h-2V7h2v10zm4 0h-2v-4h2v4z\"/>\n",
              "    </g>\n",
              "</svg>\n",
              "  </button>\n",
              "\n",
              "<style>\n",
              "  .colab-df-quickchart {\n",
              "      --bg-color: #E8F0FE;\n",
              "      --fill-color: #1967D2;\n",
              "      --hover-bg-color: #E2EBFA;\n",
              "      --hover-fill-color: #174EA6;\n",
              "      --disabled-fill-color: #AAA;\n",
              "      --disabled-bg-color: #DDD;\n",
              "  }\n",
              "\n",
              "  [theme=dark] .colab-df-quickchart {\n",
              "      --bg-color: #3B4455;\n",
              "      --fill-color: #D2E3FC;\n",
              "      --hover-bg-color: #434B5C;\n",
              "      --hover-fill-color: #FFFFFF;\n",
              "      --disabled-bg-color: #3B4455;\n",
              "      --disabled-fill-color: #666;\n",
              "  }\n",
              "\n",
              "  .colab-df-quickchart {\n",
              "    background-color: var(--bg-color);\n",
              "    border: none;\n",
              "    border-radius: 50%;\n",
              "    cursor: pointer;\n",
              "    display: none;\n",
              "    fill: var(--fill-color);\n",
              "    height: 32px;\n",
              "    padding: 0;\n",
              "    width: 32px;\n",
              "  }\n",
              "\n",
              "  .colab-df-quickchart:hover {\n",
              "    background-color: var(--hover-bg-color);\n",
              "    box-shadow: 0 1px 2px rgba(60, 64, 67, 0.3), 0 1px 3px 1px rgba(60, 64, 67, 0.15);\n",
              "    fill: var(--button-hover-fill-color);\n",
              "  }\n",
              "\n",
              "  .colab-df-quickchart-complete:disabled,\n",
              "  .colab-df-quickchart-complete:disabled:hover {\n",
              "    background-color: var(--disabled-bg-color);\n",
              "    fill: var(--disabled-fill-color);\n",
              "    box-shadow: none;\n",
              "  }\n",
              "\n",
              "  .colab-df-spinner {\n",
              "    border: 2px solid var(--fill-color);\n",
              "    border-color: transparent;\n",
              "    border-bottom-color: var(--fill-color);\n",
              "    animation:\n",
              "      spin 1s steps(1) infinite;\n",
              "  }\n",
              "\n",
              "  @keyframes spin {\n",
              "    0% {\n",
              "      border-color: transparent;\n",
              "      border-bottom-color: var(--fill-color);\n",
              "      border-left-color: var(--fill-color);\n",
              "    }\n",
              "    20% {\n",
              "      border-color: transparent;\n",
              "      border-left-color: var(--fill-color);\n",
              "      border-top-color: var(--fill-color);\n",
              "    }\n",
              "    30% {\n",
              "      border-color: transparent;\n",
              "      border-left-color: var(--fill-color);\n",
              "      border-top-color: var(--fill-color);\n",
              "      border-right-color: var(--fill-color);\n",
              "    }\n",
              "    40% {\n",
              "      border-color: transparent;\n",
              "      border-right-color: var(--fill-color);\n",
              "      border-top-color: var(--fill-color);\n",
              "    }\n",
              "    60% {\n",
              "      border-color: transparent;\n",
              "      border-right-color: var(--fill-color);\n",
              "    }\n",
              "    80% {\n",
              "      border-color: transparent;\n",
              "      border-right-color: var(--fill-color);\n",
              "      border-bottom-color: var(--fill-color);\n",
              "    }\n",
              "    90% {\n",
              "      border-color: transparent;\n",
              "      border-bottom-color: var(--fill-color);\n",
              "    }\n",
              "  }\n",
              "</style>\n",
              "\n",
              "  <script>\n",
              "    async function quickchart(key) {\n",
              "      const quickchartButtonEl =\n",
              "        document.querySelector('#' + key + ' button');\n",
              "      quickchartButtonEl.disabled = true;  // To prevent multiple clicks.\n",
              "      quickchartButtonEl.classList.add('colab-df-spinner');\n",
              "      try {\n",
              "        const charts = await google.colab.kernel.invokeFunction(\n",
              "            'suggestCharts', [key], {});\n",
              "      } catch (error) {\n",
              "        console.error('Error during call to suggestCharts:', error);\n",
              "      }\n",
              "      quickchartButtonEl.classList.remove('colab-df-spinner');\n",
              "      quickchartButtonEl.classList.add('colab-df-quickchart-complete');\n",
              "    }\n",
              "    (() => {\n",
              "      let quickchartButtonEl =\n",
              "        document.querySelector('#df-d4614277-2852-41e8-9dba-e2305d0031ac button');\n",
              "      quickchartButtonEl.style.display =\n",
              "        google.colab.kernel.accessAllowed ? 'block' : 'none';\n",
              "    })();\n",
              "  </script>\n",
              "</div>\n",
              "    </div>\n",
              "  </div>\n"
            ],
            "application/vnd.google.colaboratory.intrinsic+json": {
              "type": "dataframe",
              "variable_name": "df"
            }
          },
          "metadata": {},
          "execution_count": 64
        }
      ]
    },
    {
      "cell_type": "code",
      "source": [
        "df.drop(columns=['ISBN_code'], inplace=True)"
      ],
      "metadata": {
        "id": "d5ktU0iIFJdX"
      },
      "execution_count": 65,
      "outputs": []
    },
    {
      "cell_type": "code",
      "source": [
        "def popular_books(df, n=10):\n",
        "    rating_count = df.groupby(\"Book-Title\").agg({'Book-Rating': 'count', 'Image-URL-L': 'first'}).reset_index()\n",
        "    rating_count.rename(columns={\"Book-Rating\": \"NumberOfVotes\"}, inplace=True)\n",
        "\n",
        "    rating_average = df.groupby(\"Book-Title\").agg({'Book-Rating': 'mean'}).reset_index()\n",
        "    rating_average.rename(columns={\"Book-Rating\": \"AverageRatings\"}, inplace=True)\n",
        "\n",
        "    popularBooks = rating_count.merge(rating_average, on=\"Book-Title\")\n",
        "\n",
        "    def weighted_rate(x):\n",
        "        v = x[\"NumberOfVotes\"]\n",
        "        R = x[\"AverageRatings\"]\n",
        "        return ((v * R) + (m * C)) / (v + m)\n",
        "\n",
        "    C = popularBooks[\"AverageRatings\"].mean()\n",
        "    m = popularBooks[\"NumberOfVotes\"].quantile(0.90)\n",
        "\n",
        "    popularBooks = popularBooks[popularBooks[\"NumberOfVotes\"] >= 250]\n",
        "    popularBooks[\"Popularity\"] = popularBooks.apply(weighted_rate, axis=1)\n",
        "    popularBooks = popularBooks.sort_values(by=\"Popularity\", ascending=False)\n",
        "    return popularBooks[[\"Book-Title\", \"NumberOfVotes\", \"AverageRatings\", \"Popularity\", \"Image-URL-L\"]].reset_index(drop=True).head(n)\n"
      ],
      "metadata": {
        "id": "ncdKvWv1FJaw"
      },
      "execution_count": 71,
      "outputs": []
    },
    {
      "cell_type": "code",
      "source": [
        "n = 10\n",
        "top_ten = pd.DataFrame(popular_books(df, n))\n",
        "\n",
        "print(\"MOST POPULAR 10 BOOKS\\n\")\n",
        "for i, row in top_ten.iterrows():\n",
        "    book_title = row[\"Book-Title\"]\n",
        "    image = row[\"Image-URL-L\"]\n",
        "    average_rating = round(df[df[\"Book-Title\"] == book_title][\"Book-Rating\"].mean(), 1)\n",
        "    print(f\"{i+1}. {book_title} - Rating: {average_rating} -Link:{image}\")\n"
      ],
      "metadata": {
        "colab": {
          "base_uri": "https://localhost:8080/"
        },
        "id": "qjk79ZMFGdzn",
        "outputId": "4c414132-20b0-4026-c219-74fede98c542"
      },
      "execution_count": 67,
      "outputs": [
        {
          "output_type": "stream",
          "name": "stderr",
          "text": [
            "<ipython-input-66-bea844151040>:19: SettingWithCopyWarning: \n",
            "A value is trying to be set on a copy of a slice from a DataFrame.\n",
            "Try using .loc[row_indexer,col_indexer] = value instead\n",
            "\n",
            "See the caveats in the documentation: https://pandas.pydata.org/pandas-docs/stable/user_guide/indexing.html#returning-a-view-versus-a-copy\n",
            "  popularBooks[\"Popularity\"] = popularBooks.apply(weighted_rate, axis=1)\n"
          ]
        },
        {
          "output_type": "stream",
          "name": "stdout",
          "text": [
            "MOST POPULAR 10 BOOKS\n",
            "\n",
            "1. Harry Potter and the Prisoner of Azkaban (Book 3) - Rating: 9.0 -Link:http://images.amazon.com/images/P/0439136350.01.LZZZZZZZ.jpg\n",
            "2. To Kill a Mockingbird - Rating: 9.0 -Link:http://images.amazon.com/images/P/0446310786.01.LZZZZZZZ.jpg\n",
            "3. Harry Potter and the Sorcerer's Stone (Harry Potter (Paperback)) - Rating: 8.9 -Link:http://images.amazon.com/images/P/059035342X.01.LZZZZZZZ.jpg\n",
            "4. Harry Potter and the Chamber of Secrets (Book 2) - Rating: 8.8 -Link:http://images.amazon.com/images/P/0439064872.01.LZZZZZZZ.jpg\n",
            "5. Tuesdays with Morrie: An Old Man, a Young Man, and Life's Greatest Lesson - Rating: 8.6 -Link:http://images.amazon.com/images/P/0385484518.01.LZZZZZZZ.jpg\n",
            "6. The Secret Life of Bees - Rating: 8.5 -Link:http://images.amazon.com/images/P/0142001740.01.LZZZZZZZ.jpg\n",
            "7. The Da Vinci Code - Rating: 8.4 -Link:http://images.amazon.com/images/P/0385504209.01.LZZZZZZZ.jpg\n",
            "8. The Lovely Bones: A Novel - Rating: 8.2 -Link:http://images.amazon.com/images/P/0316666343.01.LZZZZZZZ.jpg\n",
            "9. The Red Tent (Bestselling Backlist) - Rating: 8.2 -Link:http://images.amazon.com/images/P/0312195516.01.LZZZZZZZ.jpg\n",
            "10. Where the Heart Is (Oprah's Book Club (Paperback)) - Rating: 8.1 -Link:http://images.amazon.com/images/P/0446672211.01.LZZZZZZZ.jpg\n"
          ]
        }
      ]
    },
    {
      "cell_type": "markdown",
      "source": [
        "# **MATRIX FACTORIZATION**"
      ],
      "metadata": {
        "id": "VkpkgiA4GvhS"
      }
    },
    {
      "cell_type": "code",
      "source": [
        "import pandas as pd\n",
        "from surprise import Dataset, Reader, SVD, accuracy\n",
        "from surprise.model_selection import train_test_split\n",
        "\n",
        "def matrix_factorization_recommendation(df, user_id, n=10):\n",
        "\n",
        "    reader = Reader(rating_scale=(1, 10))\n",
        "    data = Dataset.load_from_df(df[['User-ID', 'Book-Title', 'Book-Rating']], reader)\n",
        "    trainset, testset = train_test_split(data, test_size=0.2, random_state=42)\n",
        "\n",
        "    svd = SVD()\n",
        "    svd.fit(trainset)\n",
        "\n",
        "    test_predictions = svd.test(testset)\n",
        "\n",
        "    rmse_mf = accuracy.rmse(test_predictions)\n",
        "    mae_mf = accuracy.mae(test_predictions)\n",
        "\n",
        "    user_unrated_books = df.loc[~df['Book-Title'].isin(df[df['User-ID'] == user_id]['Book-Title'].unique())]['Book-Title']\n",
        "\n",
        "    user_testset = [(user_id, book_title, 0) for book_title in user_unrated_books]\n",
        "    user_predictions = svd.test(user_testset)\n",
        "\n",
        "    pred_df = pd.DataFrame(user_predictions, columns=['User-ID', 'Book-Title', 'Actual-Rating', 'Predicted-Rating', 'Details'])\n",
        "    pred_df = pred_df.sort_values(by='Predicted-Rating', ascending=False)\n",
        "\n",
        "    top_books = pred_df[['Book-Title', 'Predicted-Rating']].drop_duplicates().head(n)\n",
        "\n",
        "    return top_books, rmse_mf, mae_mf\n"
      ],
      "metadata": {
        "id": "6u6C3KnLGdwu"
      },
      "execution_count": 68,
      "outputs": []
    },
    {
      "cell_type": "code",
      "source": [
        "user_id_input = input(\"Enter a User-ID for personalized recommendations: \")\n",
        "user_id_input = int(user_id_input)\n",
        "top_books_user, rmse, mae = matrix_factorization_recommendation(df, user_id_input)\n",
        "print(top_books_user)"
      ],
      "metadata": {
        "colab": {
          "base_uri": "https://localhost:8080/"
        },
        "id": "r6R21cQ2Gdtu",
        "outputId": "e57c38f0-03a9-4a23-80e5-cf9f68378333"
      },
      "execution_count": 69,
      "outputs": [
        {
          "output_type": "stream",
          "name": "stdout",
          "text": [
            "Enter a User-ID for personalized recommendations: 8\n",
            "RMSE: 1.6387\n",
            "MAE:  1.2625\n",
            "                                               Book-Title  Predicted-Rating\n",
            "258534  Harry Potter and the Sorcerer's Stone (Harry P...          8.606620\n",
            "83424   Harry Potter and the Prisoner of Azkaban (Book 3)          8.549656\n",
            "88172        Harry Potter and the Goblet of Fire (Book 4)          8.534137\n",
            "22766        Where the Sidewalk Ends : Poems and Drawings          8.404670\n",
            "55206    Harry Potter and the Chamber of Secrets (Book 2)          8.396783\n",
            "223407  The Return of the King (The Lord of the Rings,...          8.390714\n",
            "123663     The Two Towers (The Lord of the Rings, Part 2)          8.371468\n",
            "1485                       Seabiscuit: An American Legend          8.342550\n",
            "101682                              84 Charing Cross Road          8.336691\n",
            "236913                                      Lonesome Dove          8.333660\n"
          ]
        }
      ]
    },
    {
      "cell_type": "code",
      "source": [
        "data = {\n",
        "    \"Model\": [\"User-User\", \"Item-Item\", \"Matrix Factorization\"],\n",
        "    \"RMSE\": [6.0696, 6.1477, 1.6377],\n",
        "    \"MAE\": [5.1431, 5.1835, 1.2607]\n",
        "}\n",
        "\n",
        "comparison_df = pd.DataFrame(data)\n",
        "\n",
        "print(comparison_df)"
      ],
      "metadata": {
        "colab": {
          "base_uri": "https://localhost:8080/"
        },
        "id": "o53AY2DFJjsZ",
        "outputId": "1e294b5f-9659-4ad9-fbec-e7b45508560e"
      },
      "execution_count": 70,
      "outputs": [
        {
          "output_type": "stream",
          "name": "stdout",
          "text": [
            "                  Model    RMSE     MAE\n",
            "0             User-User  6.0696  5.1431\n",
            "1             Item-Item  6.1477  5.1835\n",
            "2  Matrix Factorization  1.6377  1.2607\n"
          ]
        }
      ]
    },
    {
      "cell_type": "markdown",
      "source": [
        "**Insights**"
      ],
      "metadata": {
        "id": "avTkCQWRJC9K"
      }
    },
    {
      "cell_type": "markdown",
      "source": [
        "**Lower RMSE and MAE:** The Matrix Factorization model has significantly lower RMSE (1.6377) and MAE (1.2607) values compared to both the User-User and Item-Item models. Lower RMSE and MAE values indicate that the model's predictions are closer to the actual ratings, demonstrating higher accuracy in predicting user preferences.\n",
        "\n",
        "**Efficiency in Handling Sparse Data:** Collaborative filtering approaches, particularly User-User and Item-Item, can struggle with sparse datasets where many users have rated only a few items. Matrix Factorization techniques, however, are particularly adept at uncovering latent factors in the data, which helps them make more accurate predictions even when the available data is sparse."
      ],
      "metadata": {
        "id": "B9vho2oELG-V"
      }
    }
  ]
}