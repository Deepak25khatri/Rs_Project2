{
  "nbformat": 4,
  "nbformat_minor": 0,
  "metadata": {
    "colab": {
      "provenance": []
    },
    "kernelspec": {
      "name": "python3",
      "display_name": "Python 3"
    },
    "language_info": {
      "name": "python"
    }
  },
  "cells": [
    {
      "cell_type": "code",
      "execution_count": null,
      "metadata": {
        "id": "y6I0V2snyE0Z"
      },
      "outputs": [],
      "source": [
        "from google.colab import files\n",
        "\n",
        "uploaded = files.upload()\n",
        "\n",
        "# Assuming you've uploaded a single ZIP file, get its filename.\n",
        "zip_file_name = next(iter(uploaded.keys()))\n",
        "print(f\"Uploaded file: {zip_file_name}\")\n"
      ]
    },
    {
      "cell_type": "code",
      "source": [
        "!unzip \"$zip_file_name\" -d \"/content/unzipped_contents/\"\n"
      ],
      "metadata": {
        "id": "HDCF62heyhXm"
      },
      "execution_count": null,
      "outputs": []
    },
    {
      "cell_type": "code",
      "source": [
        "import pandas as pd\n",
        "from sklearn.metrics.pairwise import cosine_similarity\n",
        "from scipy.sparse import csr_matrix"
      ],
      "metadata": {
        "id": "wv9o50N30Mhk"
      },
      "execution_count": 71,
      "outputs": []
    },
    {
      "cell_type": "code",
      "source": [
        "from google.colab import drive\n",
        "drive.mount('/content/drive')"
      ],
      "metadata": {
        "id": "mVFEiWgmUXDZ"
      },
      "execution_count": null,
      "outputs": []
    },
    {
      "cell_type": "code",
      "source": [
        "books_df = pd.read_csv(\"/content/Books.csv\")"
      ],
      "metadata": {
        "id": "aMOVFkBeOKPn",
        "colab": {
          "base_uri": "https://localhost:8080/"
        },
        "outputId": "713fd77e-afcb-4063-d4f1-0e089027a388"
      },
      "execution_count": 133,
      "outputs": [
        {
          "output_type": "stream",
          "name": "stderr",
          "text": [
            "<ipython-input-133-2a9229550283>:1: DtypeWarning: Columns (3) have mixed types. Specify dtype option on import or set low_memory=False.\n",
            "  books_df = pd.read_csv(\"/content/Books.csv\")\n"
          ]
        }
      ]
    },
    {
      "cell_type": "code",
      "source": [
        "books_df.head()"
      ],
      "metadata": {
        "colab": {
          "base_uri": "https://localhost:8080/",
          "height": 434
        },
        "id": "IL7bXEp0OWj8",
        "outputId": "cb19a7fa-5832-478b-b002-7ef448aa8c81"
      },
      "execution_count": 134,
      "outputs": [
        {
          "output_type": "execute_result",
          "data": {
            "text/plain": [
              "         ISBN                                         Book-Title  \\\n",
              "0  0195153448                                Classical Mythology   \n",
              "1  0002005018                                       Clara Callan   \n",
              "2  0060973129                               Decision in Normandy   \n",
              "3  0374157065  Flu: The Story of the Great Influenza Pandemic...   \n",
              "4  0393045218                             The Mummies of Urumchi   \n",
              "\n",
              "            Book-Author Year-Of-Publication                   Publisher  \\\n",
              "0    Mark P. O. Morford                2002     Oxford University Press   \n",
              "1  Richard Bruce Wright                2001       HarperFlamingo Canada   \n",
              "2          Carlo D'Este                1991             HarperPerennial   \n",
              "3      Gina Bari Kolata                1999        Farrar Straus Giroux   \n",
              "4       E. J. W. Barber                1999  W. W. Norton &amp; Company   \n",
              "\n",
              "                                         Image-URL-S  \\\n",
              "0  http://images.amazon.com/images/P/0195153448.0...   \n",
              "1  http://images.amazon.com/images/P/0002005018.0...   \n",
              "2  http://images.amazon.com/images/P/0060973129.0...   \n",
              "3  http://images.amazon.com/images/P/0374157065.0...   \n",
              "4  http://images.amazon.com/images/P/0393045218.0...   \n",
              "\n",
              "                                         Image-URL-M  \\\n",
              "0  http://images.amazon.com/images/P/0195153448.0...   \n",
              "1  http://images.amazon.com/images/P/0002005018.0...   \n",
              "2  http://images.amazon.com/images/P/0060973129.0...   \n",
              "3  http://images.amazon.com/images/P/0374157065.0...   \n",
              "4  http://images.amazon.com/images/P/0393045218.0...   \n",
              "\n",
              "                                         Image-URL-L  \n",
              "0  http://images.amazon.com/images/P/0195153448.0...  \n",
              "1  http://images.amazon.com/images/P/0002005018.0...  \n",
              "2  http://images.amazon.com/images/P/0060973129.0...  \n",
              "3  http://images.amazon.com/images/P/0374157065.0...  \n",
              "4  http://images.amazon.com/images/P/0393045218.0...  "
            ],
            "text/html": [
              "\n",
              "  <div id=\"df-23557301-6bd3-4568-b76e-40220519dd66\" class=\"colab-df-container\">\n",
              "    <div>\n",
              "<style scoped>\n",
              "    .dataframe tbody tr th:only-of-type {\n",
              "        vertical-align: middle;\n",
              "    }\n",
              "\n",
              "    .dataframe tbody tr th {\n",
              "        vertical-align: top;\n",
              "    }\n",
              "\n",
              "    .dataframe thead th {\n",
              "        text-align: right;\n",
              "    }\n",
              "</style>\n",
              "<table border=\"1\" class=\"dataframe\">\n",
              "  <thead>\n",
              "    <tr style=\"text-align: right;\">\n",
              "      <th></th>\n",
              "      <th>ISBN</th>\n",
              "      <th>Book-Title</th>\n",
              "      <th>Book-Author</th>\n",
              "      <th>Year-Of-Publication</th>\n",
              "      <th>Publisher</th>\n",
              "      <th>Image-URL-S</th>\n",
              "      <th>Image-URL-M</th>\n",
              "      <th>Image-URL-L</th>\n",
              "    </tr>\n",
              "  </thead>\n",
              "  <tbody>\n",
              "    <tr>\n",
              "      <th>0</th>\n",
              "      <td>0195153448</td>\n",
              "      <td>Classical Mythology</td>\n",
              "      <td>Mark P. O. Morford</td>\n",
              "      <td>2002</td>\n",
              "      <td>Oxford University Press</td>\n",
              "      <td>http://images.amazon.com/images/P/0195153448.0...</td>\n",
              "      <td>http://images.amazon.com/images/P/0195153448.0...</td>\n",
              "      <td>http://images.amazon.com/images/P/0195153448.0...</td>\n",
              "    </tr>\n",
              "    <tr>\n",
              "      <th>1</th>\n",
              "      <td>0002005018</td>\n",
              "      <td>Clara Callan</td>\n",
              "      <td>Richard Bruce Wright</td>\n",
              "      <td>2001</td>\n",
              "      <td>HarperFlamingo Canada</td>\n",
              "      <td>http://images.amazon.com/images/P/0002005018.0...</td>\n",
              "      <td>http://images.amazon.com/images/P/0002005018.0...</td>\n",
              "      <td>http://images.amazon.com/images/P/0002005018.0...</td>\n",
              "    </tr>\n",
              "    <tr>\n",
              "      <th>2</th>\n",
              "      <td>0060973129</td>\n",
              "      <td>Decision in Normandy</td>\n",
              "      <td>Carlo D'Este</td>\n",
              "      <td>1991</td>\n",
              "      <td>HarperPerennial</td>\n",
              "      <td>http://images.amazon.com/images/P/0060973129.0...</td>\n",
              "      <td>http://images.amazon.com/images/P/0060973129.0...</td>\n",
              "      <td>http://images.amazon.com/images/P/0060973129.0...</td>\n",
              "    </tr>\n",
              "    <tr>\n",
              "      <th>3</th>\n",
              "      <td>0374157065</td>\n",
              "      <td>Flu: The Story of the Great Influenza Pandemic...</td>\n",
              "      <td>Gina Bari Kolata</td>\n",
              "      <td>1999</td>\n",
              "      <td>Farrar Straus Giroux</td>\n",
              "      <td>http://images.amazon.com/images/P/0374157065.0...</td>\n",
              "      <td>http://images.amazon.com/images/P/0374157065.0...</td>\n",
              "      <td>http://images.amazon.com/images/P/0374157065.0...</td>\n",
              "    </tr>\n",
              "    <tr>\n",
              "      <th>4</th>\n",
              "      <td>0393045218</td>\n",
              "      <td>The Mummies of Urumchi</td>\n",
              "      <td>E. J. W. Barber</td>\n",
              "      <td>1999</td>\n",
              "      <td>W. W. Norton &amp;amp; Company</td>\n",
              "      <td>http://images.amazon.com/images/P/0393045218.0...</td>\n",
              "      <td>http://images.amazon.com/images/P/0393045218.0...</td>\n",
              "      <td>http://images.amazon.com/images/P/0393045218.0...</td>\n",
              "    </tr>\n",
              "  </tbody>\n",
              "</table>\n",
              "</div>\n",
              "    <div class=\"colab-df-buttons\">\n",
              "\n",
              "  <div class=\"colab-df-container\">\n",
              "    <button class=\"colab-df-convert\" onclick=\"convertToInteractive('df-23557301-6bd3-4568-b76e-40220519dd66')\"\n",
              "            title=\"Convert this dataframe to an interactive table.\"\n",
              "            style=\"display:none;\">\n",
              "\n",
              "  <svg xmlns=\"http://www.w3.org/2000/svg\" height=\"24px\" viewBox=\"0 -960 960 960\">\n",
              "    <path d=\"M120-120v-720h720v720H120Zm60-500h600v-160H180v160Zm220 220h160v-160H400v160Zm0 220h160v-160H400v160ZM180-400h160v-160H180v160Zm440 0h160v-160H620v160ZM180-180h160v-160H180v160Zm440 0h160v-160H620v160Z\"/>\n",
              "  </svg>\n",
              "    </button>\n",
              "\n",
              "  <style>\n",
              "    .colab-df-container {\n",
              "      display:flex;\n",
              "      gap: 12px;\n",
              "    }\n",
              "\n",
              "    .colab-df-convert {\n",
              "      background-color: #E8F0FE;\n",
              "      border: none;\n",
              "      border-radius: 50%;\n",
              "      cursor: pointer;\n",
              "      display: none;\n",
              "      fill: #1967D2;\n",
              "      height: 32px;\n",
              "      padding: 0 0 0 0;\n",
              "      width: 32px;\n",
              "    }\n",
              "\n",
              "    .colab-df-convert:hover {\n",
              "      background-color: #E2EBFA;\n",
              "      box-shadow: 0px 1px 2px rgba(60, 64, 67, 0.3), 0px 1px 3px 1px rgba(60, 64, 67, 0.15);\n",
              "      fill: #174EA6;\n",
              "    }\n",
              "\n",
              "    .colab-df-buttons div {\n",
              "      margin-bottom: 4px;\n",
              "    }\n",
              "\n",
              "    [theme=dark] .colab-df-convert {\n",
              "      background-color: #3B4455;\n",
              "      fill: #D2E3FC;\n",
              "    }\n",
              "\n",
              "    [theme=dark] .colab-df-convert:hover {\n",
              "      background-color: #434B5C;\n",
              "      box-shadow: 0px 1px 3px 1px rgba(0, 0, 0, 0.15);\n",
              "      filter: drop-shadow(0px 1px 2px rgba(0, 0, 0, 0.3));\n",
              "      fill: #FFFFFF;\n",
              "    }\n",
              "  </style>\n",
              "\n",
              "    <script>\n",
              "      const buttonEl =\n",
              "        document.querySelector('#df-23557301-6bd3-4568-b76e-40220519dd66 button.colab-df-convert');\n",
              "      buttonEl.style.display =\n",
              "        google.colab.kernel.accessAllowed ? 'block' : 'none';\n",
              "\n",
              "      async function convertToInteractive(key) {\n",
              "        const element = document.querySelector('#df-23557301-6bd3-4568-b76e-40220519dd66');\n",
              "        const dataTable =\n",
              "          await google.colab.kernel.invokeFunction('convertToInteractive',\n",
              "                                                    [key], {});\n",
              "        if (!dataTable) return;\n",
              "\n",
              "        const docLinkHtml = 'Like what you see? Visit the ' +\n",
              "          '<a target=\"_blank\" href=https://colab.research.google.com/notebooks/data_table.ipynb>data table notebook</a>'\n",
              "          + ' to learn more about interactive tables.';\n",
              "        element.innerHTML = '';\n",
              "        dataTable['output_type'] = 'display_data';\n",
              "        await google.colab.output.renderOutput(dataTable, element);\n",
              "        const docLink = document.createElement('div');\n",
              "        docLink.innerHTML = docLinkHtml;\n",
              "        element.appendChild(docLink);\n",
              "      }\n",
              "    </script>\n",
              "  </div>\n",
              "\n",
              "\n",
              "<div id=\"df-547eb9fd-6954-4e3e-8e76-9a3c534a354f\">\n",
              "  <button class=\"colab-df-quickchart\" onclick=\"quickchart('df-547eb9fd-6954-4e3e-8e76-9a3c534a354f')\"\n",
              "            title=\"Suggest charts\"\n",
              "            style=\"display:none;\">\n",
              "\n",
              "<svg xmlns=\"http://www.w3.org/2000/svg\" height=\"24px\"viewBox=\"0 0 24 24\"\n",
              "     width=\"24px\">\n",
              "    <g>\n",
              "        <path d=\"M19 3H5c-1.1 0-2 .9-2 2v14c0 1.1.9 2 2 2h14c1.1 0 2-.9 2-2V5c0-1.1-.9-2-2-2zM9 17H7v-7h2v7zm4 0h-2V7h2v10zm4 0h-2v-4h2v4z\"/>\n",
              "    </g>\n",
              "</svg>\n",
              "  </button>\n",
              "\n",
              "<style>\n",
              "  .colab-df-quickchart {\n",
              "      --bg-color: #E8F0FE;\n",
              "      --fill-color: #1967D2;\n",
              "      --hover-bg-color: #E2EBFA;\n",
              "      --hover-fill-color: #174EA6;\n",
              "      --disabled-fill-color: #AAA;\n",
              "      --disabled-bg-color: #DDD;\n",
              "  }\n",
              "\n",
              "  [theme=dark] .colab-df-quickchart {\n",
              "      --bg-color: #3B4455;\n",
              "      --fill-color: #D2E3FC;\n",
              "      --hover-bg-color: #434B5C;\n",
              "      --hover-fill-color: #FFFFFF;\n",
              "      --disabled-bg-color: #3B4455;\n",
              "      --disabled-fill-color: #666;\n",
              "  }\n",
              "\n",
              "  .colab-df-quickchart {\n",
              "    background-color: var(--bg-color);\n",
              "    border: none;\n",
              "    border-radius: 50%;\n",
              "    cursor: pointer;\n",
              "    display: none;\n",
              "    fill: var(--fill-color);\n",
              "    height: 32px;\n",
              "    padding: 0;\n",
              "    width: 32px;\n",
              "  }\n",
              "\n",
              "  .colab-df-quickchart:hover {\n",
              "    background-color: var(--hover-bg-color);\n",
              "    box-shadow: 0 1px 2px rgba(60, 64, 67, 0.3), 0 1px 3px 1px rgba(60, 64, 67, 0.15);\n",
              "    fill: var(--button-hover-fill-color);\n",
              "  }\n",
              "\n",
              "  .colab-df-quickchart-complete:disabled,\n",
              "  .colab-df-quickchart-complete:disabled:hover {\n",
              "    background-color: var(--disabled-bg-color);\n",
              "    fill: var(--disabled-fill-color);\n",
              "    box-shadow: none;\n",
              "  }\n",
              "\n",
              "  .colab-df-spinner {\n",
              "    border: 2px solid var(--fill-color);\n",
              "    border-color: transparent;\n",
              "    border-bottom-color: var(--fill-color);\n",
              "    animation:\n",
              "      spin 1s steps(1) infinite;\n",
              "  }\n",
              "\n",
              "  @keyframes spin {\n",
              "    0% {\n",
              "      border-color: transparent;\n",
              "      border-bottom-color: var(--fill-color);\n",
              "      border-left-color: var(--fill-color);\n",
              "    }\n",
              "    20% {\n",
              "      border-color: transparent;\n",
              "      border-left-color: var(--fill-color);\n",
              "      border-top-color: var(--fill-color);\n",
              "    }\n",
              "    30% {\n",
              "      border-color: transparent;\n",
              "      border-left-color: var(--fill-color);\n",
              "      border-top-color: var(--fill-color);\n",
              "      border-right-color: var(--fill-color);\n",
              "    }\n",
              "    40% {\n",
              "      border-color: transparent;\n",
              "      border-right-color: var(--fill-color);\n",
              "      border-top-color: var(--fill-color);\n",
              "    }\n",
              "    60% {\n",
              "      border-color: transparent;\n",
              "      border-right-color: var(--fill-color);\n",
              "    }\n",
              "    80% {\n",
              "      border-color: transparent;\n",
              "      border-right-color: var(--fill-color);\n",
              "      border-bottom-color: var(--fill-color);\n",
              "    }\n",
              "    90% {\n",
              "      border-color: transparent;\n",
              "      border-bottom-color: var(--fill-color);\n",
              "    }\n",
              "  }\n",
              "</style>\n",
              "\n",
              "  <script>\n",
              "    async function quickchart(key) {\n",
              "      const quickchartButtonEl =\n",
              "        document.querySelector('#' + key + ' button');\n",
              "      quickchartButtonEl.disabled = true;  // To prevent multiple clicks.\n",
              "      quickchartButtonEl.classList.add('colab-df-spinner');\n",
              "      try {\n",
              "        const charts = await google.colab.kernel.invokeFunction(\n",
              "            'suggestCharts', [key], {});\n",
              "      } catch (error) {\n",
              "        console.error('Error during call to suggestCharts:', error);\n",
              "      }\n",
              "      quickchartButtonEl.classList.remove('colab-df-spinner');\n",
              "      quickchartButtonEl.classList.add('colab-df-quickchart-complete');\n",
              "    }\n",
              "    (() => {\n",
              "      let quickchartButtonEl =\n",
              "        document.querySelector('#df-547eb9fd-6954-4e3e-8e76-9a3c534a354f button');\n",
              "      quickchartButtonEl.style.display =\n",
              "        google.colab.kernel.accessAllowed ? 'block' : 'none';\n",
              "    })();\n",
              "  </script>\n",
              "</div>\n",
              "    </div>\n",
              "  </div>\n"
            ],
            "application/vnd.google.colaboratory.intrinsic+json": {
              "type": "dataframe",
              "variable_name": "books_df"
            }
          },
          "metadata": {},
          "execution_count": 134
        }
      ]
    },
    {
      "cell_type": "code",
      "source": [
        "rating_df = pd.read_csv(\"/content/Ratings.csv\")"
      ],
      "metadata": {
        "id": "V8mz29md0TDs"
      },
      "execution_count": 135,
      "outputs": []
    },
    {
      "cell_type": "code",
      "source": [
        "rating_df.head()"
      ],
      "metadata": {
        "colab": {
          "base_uri": "https://localhost:8080/",
          "height": 206
        },
        "id": "E9PwC7U70YdH",
        "outputId": "b2f7403c-3cb0-4aba-b907-85be714aae5c"
      },
      "execution_count": 136,
      "outputs": [
        {
          "output_type": "execute_result",
          "data": {
            "text/plain": [
              "   User-ID        ISBN  Book-Rating\n",
              "0   276725  034545104X            0\n",
              "1   276726  0155061224            5\n",
              "2   276727  0446520802            0\n",
              "3   276729  052165615X            3\n",
              "4   276729  0521795028            6"
            ],
            "text/html": [
              "\n",
              "  <div id=\"df-218662eb-73e3-4eb6-826e-9a236401d280\" class=\"colab-df-container\">\n",
              "    <div>\n",
              "<style scoped>\n",
              "    .dataframe tbody tr th:only-of-type {\n",
              "        vertical-align: middle;\n",
              "    }\n",
              "\n",
              "    .dataframe tbody tr th {\n",
              "        vertical-align: top;\n",
              "    }\n",
              "\n",
              "    .dataframe thead th {\n",
              "        text-align: right;\n",
              "    }\n",
              "</style>\n",
              "<table border=\"1\" class=\"dataframe\">\n",
              "  <thead>\n",
              "    <tr style=\"text-align: right;\">\n",
              "      <th></th>\n",
              "      <th>User-ID</th>\n",
              "      <th>ISBN</th>\n",
              "      <th>Book-Rating</th>\n",
              "    </tr>\n",
              "  </thead>\n",
              "  <tbody>\n",
              "    <tr>\n",
              "      <th>0</th>\n",
              "      <td>276725</td>\n",
              "      <td>034545104X</td>\n",
              "      <td>0</td>\n",
              "    </tr>\n",
              "    <tr>\n",
              "      <th>1</th>\n",
              "      <td>276726</td>\n",
              "      <td>0155061224</td>\n",
              "      <td>5</td>\n",
              "    </tr>\n",
              "    <tr>\n",
              "      <th>2</th>\n",
              "      <td>276727</td>\n",
              "      <td>0446520802</td>\n",
              "      <td>0</td>\n",
              "    </tr>\n",
              "    <tr>\n",
              "      <th>3</th>\n",
              "      <td>276729</td>\n",
              "      <td>052165615X</td>\n",
              "      <td>3</td>\n",
              "    </tr>\n",
              "    <tr>\n",
              "      <th>4</th>\n",
              "      <td>276729</td>\n",
              "      <td>0521795028</td>\n",
              "      <td>6</td>\n",
              "    </tr>\n",
              "  </tbody>\n",
              "</table>\n",
              "</div>\n",
              "    <div class=\"colab-df-buttons\">\n",
              "\n",
              "  <div class=\"colab-df-container\">\n",
              "    <button class=\"colab-df-convert\" onclick=\"convertToInteractive('df-218662eb-73e3-4eb6-826e-9a236401d280')\"\n",
              "            title=\"Convert this dataframe to an interactive table.\"\n",
              "            style=\"display:none;\">\n",
              "\n",
              "  <svg xmlns=\"http://www.w3.org/2000/svg\" height=\"24px\" viewBox=\"0 -960 960 960\">\n",
              "    <path d=\"M120-120v-720h720v720H120Zm60-500h600v-160H180v160Zm220 220h160v-160H400v160Zm0 220h160v-160H400v160ZM180-400h160v-160H180v160Zm440 0h160v-160H620v160ZM180-180h160v-160H180v160Zm440 0h160v-160H620v160Z\"/>\n",
              "  </svg>\n",
              "    </button>\n",
              "\n",
              "  <style>\n",
              "    .colab-df-container {\n",
              "      display:flex;\n",
              "      gap: 12px;\n",
              "    }\n",
              "\n",
              "    .colab-df-convert {\n",
              "      background-color: #E8F0FE;\n",
              "      border: none;\n",
              "      border-radius: 50%;\n",
              "      cursor: pointer;\n",
              "      display: none;\n",
              "      fill: #1967D2;\n",
              "      height: 32px;\n",
              "      padding: 0 0 0 0;\n",
              "      width: 32px;\n",
              "    }\n",
              "\n",
              "    .colab-df-convert:hover {\n",
              "      background-color: #E2EBFA;\n",
              "      box-shadow: 0px 1px 2px rgba(60, 64, 67, 0.3), 0px 1px 3px 1px rgba(60, 64, 67, 0.15);\n",
              "      fill: #174EA6;\n",
              "    }\n",
              "\n",
              "    .colab-df-buttons div {\n",
              "      margin-bottom: 4px;\n",
              "    }\n",
              "\n",
              "    [theme=dark] .colab-df-convert {\n",
              "      background-color: #3B4455;\n",
              "      fill: #D2E3FC;\n",
              "    }\n",
              "\n",
              "    [theme=dark] .colab-df-convert:hover {\n",
              "      background-color: #434B5C;\n",
              "      box-shadow: 0px 1px 3px 1px rgba(0, 0, 0, 0.15);\n",
              "      filter: drop-shadow(0px 1px 2px rgba(0, 0, 0, 0.3));\n",
              "      fill: #FFFFFF;\n",
              "    }\n",
              "  </style>\n",
              "\n",
              "    <script>\n",
              "      const buttonEl =\n",
              "        document.querySelector('#df-218662eb-73e3-4eb6-826e-9a236401d280 button.colab-df-convert');\n",
              "      buttonEl.style.display =\n",
              "        google.colab.kernel.accessAllowed ? 'block' : 'none';\n",
              "\n",
              "      async function convertToInteractive(key) {\n",
              "        const element = document.querySelector('#df-218662eb-73e3-4eb6-826e-9a236401d280');\n",
              "        const dataTable =\n",
              "          await google.colab.kernel.invokeFunction('convertToInteractive',\n",
              "                                                    [key], {});\n",
              "        if (!dataTable) return;\n",
              "\n",
              "        const docLinkHtml = 'Like what you see? Visit the ' +\n",
              "          '<a target=\"_blank\" href=https://colab.research.google.com/notebooks/data_table.ipynb>data table notebook</a>'\n",
              "          + ' to learn more about interactive tables.';\n",
              "        element.innerHTML = '';\n",
              "        dataTable['output_type'] = 'display_data';\n",
              "        await google.colab.output.renderOutput(dataTable, element);\n",
              "        const docLink = document.createElement('div');\n",
              "        docLink.innerHTML = docLinkHtml;\n",
              "        element.appendChild(docLink);\n",
              "      }\n",
              "    </script>\n",
              "  </div>\n",
              "\n",
              "\n",
              "<div id=\"df-b17c3864-7af2-4ff0-96b6-3bc3c8cf1da8\">\n",
              "  <button class=\"colab-df-quickchart\" onclick=\"quickchart('df-b17c3864-7af2-4ff0-96b6-3bc3c8cf1da8')\"\n",
              "            title=\"Suggest charts\"\n",
              "            style=\"display:none;\">\n",
              "\n",
              "<svg xmlns=\"http://www.w3.org/2000/svg\" height=\"24px\"viewBox=\"0 0 24 24\"\n",
              "     width=\"24px\">\n",
              "    <g>\n",
              "        <path d=\"M19 3H5c-1.1 0-2 .9-2 2v14c0 1.1.9 2 2 2h14c1.1 0 2-.9 2-2V5c0-1.1-.9-2-2-2zM9 17H7v-7h2v7zm4 0h-2V7h2v10zm4 0h-2v-4h2v4z\"/>\n",
              "    </g>\n",
              "</svg>\n",
              "  </button>\n",
              "\n",
              "<style>\n",
              "  .colab-df-quickchart {\n",
              "      --bg-color: #E8F0FE;\n",
              "      --fill-color: #1967D2;\n",
              "      --hover-bg-color: #E2EBFA;\n",
              "      --hover-fill-color: #174EA6;\n",
              "      --disabled-fill-color: #AAA;\n",
              "      --disabled-bg-color: #DDD;\n",
              "  }\n",
              "\n",
              "  [theme=dark] .colab-df-quickchart {\n",
              "      --bg-color: #3B4455;\n",
              "      --fill-color: #D2E3FC;\n",
              "      --hover-bg-color: #434B5C;\n",
              "      --hover-fill-color: #FFFFFF;\n",
              "      --disabled-bg-color: #3B4455;\n",
              "      --disabled-fill-color: #666;\n",
              "  }\n",
              "\n",
              "  .colab-df-quickchart {\n",
              "    background-color: var(--bg-color);\n",
              "    border: none;\n",
              "    border-radius: 50%;\n",
              "    cursor: pointer;\n",
              "    display: none;\n",
              "    fill: var(--fill-color);\n",
              "    height: 32px;\n",
              "    padding: 0;\n",
              "    width: 32px;\n",
              "  }\n",
              "\n",
              "  .colab-df-quickchart:hover {\n",
              "    background-color: var(--hover-bg-color);\n",
              "    box-shadow: 0 1px 2px rgba(60, 64, 67, 0.3), 0 1px 3px 1px rgba(60, 64, 67, 0.15);\n",
              "    fill: var(--button-hover-fill-color);\n",
              "  }\n",
              "\n",
              "  .colab-df-quickchart-complete:disabled,\n",
              "  .colab-df-quickchart-complete:disabled:hover {\n",
              "    background-color: var(--disabled-bg-color);\n",
              "    fill: var(--disabled-fill-color);\n",
              "    box-shadow: none;\n",
              "  }\n",
              "\n",
              "  .colab-df-spinner {\n",
              "    border: 2px solid var(--fill-color);\n",
              "    border-color: transparent;\n",
              "    border-bottom-color: var(--fill-color);\n",
              "    animation:\n",
              "      spin 1s steps(1) infinite;\n",
              "  }\n",
              "\n",
              "  @keyframes spin {\n",
              "    0% {\n",
              "      border-color: transparent;\n",
              "      border-bottom-color: var(--fill-color);\n",
              "      border-left-color: var(--fill-color);\n",
              "    }\n",
              "    20% {\n",
              "      border-color: transparent;\n",
              "      border-left-color: var(--fill-color);\n",
              "      border-top-color: var(--fill-color);\n",
              "    }\n",
              "    30% {\n",
              "      border-color: transparent;\n",
              "      border-left-color: var(--fill-color);\n",
              "      border-top-color: var(--fill-color);\n",
              "      border-right-color: var(--fill-color);\n",
              "    }\n",
              "    40% {\n",
              "      border-color: transparent;\n",
              "      border-right-color: var(--fill-color);\n",
              "      border-top-color: var(--fill-color);\n",
              "    }\n",
              "    60% {\n",
              "      border-color: transparent;\n",
              "      border-right-color: var(--fill-color);\n",
              "    }\n",
              "    80% {\n",
              "      border-color: transparent;\n",
              "      border-right-color: var(--fill-color);\n",
              "      border-bottom-color: var(--fill-color);\n",
              "    }\n",
              "    90% {\n",
              "      border-color: transparent;\n",
              "      border-bottom-color: var(--fill-color);\n",
              "    }\n",
              "  }\n",
              "</style>\n",
              "\n",
              "  <script>\n",
              "    async function quickchart(key) {\n",
              "      const quickchartButtonEl =\n",
              "        document.querySelector('#' + key + ' button');\n",
              "      quickchartButtonEl.disabled = true;  // To prevent multiple clicks.\n",
              "      quickchartButtonEl.classList.add('colab-df-spinner');\n",
              "      try {\n",
              "        const charts = await google.colab.kernel.invokeFunction(\n",
              "            'suggestCharts', [key], {});\n",
              "      } catch (error) {\n",
              "        console.error('Error during call to suggestCharts:', error);\n",
              "      }\n",
              "      quickchartButtonEl.classList.remove('colab-df-spinner');\n",
              "      quickchartButtonEl.classList.add('colab-df-quickchart-complete');\n",
              "    }\n",
              "    (() => {\n",
              "      let quickchartButtonEl =\n",
              "        document.querySelector('#df-b17c3864-7af2-4ff0-96b6-3bc3c8cf1da8 button');\n",
              "      quickchartButtonEl.style.display =\n",
              "        google.colab.kernel.accessAllowed ? 'block' : 'none';\n",
              "    })();\n",
              "  </script>\n",
              "</div>\n",
              "    </div>\n",
              "  </div>\n"
            ],
            "application/vnd.google.colaboratory.intrinsic+json": {
              "type": "dataframe",
              "variable_name": "rating_df"
            }
          },
          "metadata": {},
          "execution_count": 136
        }
      ]
    },
    {
      "cell_type": "code",
      "source": [
        "# Merging the dataframes based on 'ISBN' and including the specified additional columns\n",
        "merged_df = pd.merge(books_df[['ISBN', 'Book-Title', 'Book-Author', 'Year-Of-Publication', 'Publisher', 'Image-URL-S', 'Image-URL-M', 'Image-URL-L']], rating_df, on='ISBN', how='inner')[['User-ID', 'ISBN', 'Book-Title', 'Book-Author', 'Year-Of-Publication', 'Publisher', 'Image-URL-S', 'Image-URL-M', 'Image-URL-L', 'Book-Rating']]\n",
        "\n",
        "# Display the first few rows of the merged dataframe and its shape to confirm the structure\n",
        "merged_df.head(), merged_df.shape"
      ],
      "metadata": {
        "colab": {
          "base_uri": "https://localhost:8080/"
        },
        "id": "wr4SJ7VuSMis",
        "outputId": "bef7274d-d345-428d-cf3f-20372b4e78b0"
      },
      "execution_count": 137,
      "outputs": [
        {
          "output_type": "execute_result",
          "data": {
            "text/plain": [
              "(   User-ID        ISBN           Book-Title           Book-Author  \\\n",
              " 0        2  0195153448  Classical Mythology    Mark P. O. Morford   \n",
              " 1        8  0002005018         Clara Callan  Richard Bruce Wright   \n",
              " 2    11400  0002005018         Clara Callan  Richard Bruce Wright   \n",
              " 3    11676  0002005018         Clara Callan  Richard Bruce Wright   \n",
              " 4    41385  0002005018         Clara Callan  Richard Bruce Wright   \n",
              " \n",
              "   Year-Of-Publication                Publisher  \\\n",
              " 0                2002  Oxford University Press   \n",
              " 1                2001    HarperFlamingo Canada   \n",
              " 2                2001    HarperFlamingo Canada   \n",
              " 3                2001    HarperFlamingo Canada   \n",
              " 4                2001    HarperFlamingo Canada   \n",
              " \n",
              "                                          Image-URL-S  \\\n",
              " 0  http://images.amazon.com/images/P/0195153448.0...   \n",
              " 1  http://images.amazon.com/images/P/0002005018.0...   \n",
              " 2  http://images.amazon.com/images/P/0002005018.0...   \n",
              " 3  http://images.amazon.com/images/P/0002005018.0...   \n",
              " 4  http://images.amazon.com/images/P/0002005018.0...   \n",
              " \n",
              "                                          Image-URL-M  \\\n",
              " 0  http://images.amazon.com/images/P/0195153448.0...   \n",
              " 1  http://images.amazon.com/images/P/0002005018.0...   \n",
              " 2  http://images.amazon.com/images/P/0002005018.0...   \n",
              " 3  http://images.amazon.com/images/P/0002005018.0...   \n",
              " 4  http://images.amazon.com/images/P/0002005018.0...   \n",
              " \n",
              "                                          Image-URL-L  Book-Rating  \n",
              " 0  http://images.amazon.com/images/P/0195153448.0...            0  \n",
              " 1  http://images.amazon.com/images/P/0002005018.0...            5  \n",
              " 2  http://images.amazon.com/images/P/0002005018.0...            0  \n",
              " 3  http://images.amazon.com/images/P/0002005018.0...            8  \n",
              " 4  http://images.amazon.com/images/P/0002005018.0...            0  ,\n",
              " (1031136, 10))"
            ]
          },
          "metadata": {},
          "execution_count": 137
        }
      ]
    },
    {
      "cell_type": "code",
      "source": [
        "# Save the merged dataframe to a new CSV file\n",
        "merged_csv_path = '/content/merged_books_ratings.csv'\n",
        "merged_df.to_csv(merged_csv_path, index=False)\n",
        "\n",
        "merged_csv_path"
      ],
      "metadata": {
        "colab": {
          "base_uri": "https://localhost:8080/",
          "height": 35
        },
        "id": "MmKSpMcISthX",
        "outputId": "1e307667-76aa-42f8-ab0f-8f1131648005"
      },
      "execution_count": 138,
      "outputs": [
        {
          "output_type": "execute_result",
          "data": {
            "text/plain": [
              "'/content/merged_books_ratings.csv'"
            ],
            "application/vnd.google.colaboratory.intrinsic+json": {
              "type": "string"
            }
          },
          "metadata": {},
          "execution_count": 138
        }
      ]
    },
    {
      "cell_type": "code",
      "source": [
        "rating_df = pd.read_csv(merged_csv_path)"
      ],
      "metadata": {
        "id": "c0thukfnUYJx",
        "colab": {
          "base_uri": "https://localhost:8080/"
        },
        "outputId": "8cf660d4-1dfd-4284-fb6c-387dc6efcfd7"
      },
      "execution_count": 139,
      "outputs": [
        {
          "output_type": "stream",
          "name": "stderr",
          "text": [
            "<ipython-input-139-eda9a4e816fd>:1: DtypeWarning: Columns (4) have mixed types. Specify dtype option on import or set low_memory=False.\n",
            "  rating_df = pd.read_csv(merged_csv_path)\n"
          ]
        }
      ]
    },
    {
      "cell_type": "code",
      "source": [
        "rating_df.shape"
      ],
      "metadata": {
        "colab": {
          "base_uri": "https://localhost:8080/"
        },
        "id": "aroOy_5dUwKW",
        "outputId": "aef2e5f0-262c-4c6e-d408-ee0b07d80874"
      },
      "execution_count": 140,
      "outputs": [
        {
          "output_type": "execute_result",
          "data": {
            "text/plain": [
              "(1031136, 10)"
            ]
          },
          "metadata": {},
          "execution_count": 140
        }
      ]
    },
    {
      "cell_type": "code",
      "source": [
        "rating_df.isnull().sum()"
      ],
      "metadata": {
        "colab": {
          "base_uri": "https://localhost:8080/"
        },
        "id": "6e34Pl6IUy8j",
        "outputId": "6d76e99d-2713-4df0-c611-53e5bbfadde7"
      },
      "execution_count": 141,
      "outputs": [
        {
          "output_type": "execute_result",
          "data": {
            "text/plain": [
              "User-ID                0\n",
              "ISBN                   0\n",
              "Book-Title             0\n",
              "Book-Author            1\n",
              "Year-Of-Publication    0\n",
              "Publisher              2\n",
              "Image-URL-S            0\n",
              "Image-URL-M            0\n",
              "Image-URL-L            4\n",
              "Book-Rating            0\n",
              "dtype: int64"
            ]
          },
          "metadata": {},
          "execution_count": 141
        }
      ]
    },
    {
      "cell_type": "code",
      "source": [
        "rating_df = rating_df.dropna()"
      ],
      "metadata": {
        "id": "sToyXh3WflU1"
      },
      "execution_count": 142,
      "outputs": []
    },
    {
      "cell_type": "code",
      "source": [
        "rating_df.isnull().sum()"
      ],
      "metadata": {
        "colab": {
          "base_uri": "https://localhost:8080/"
        },
        "id": "mzIZ77cUftOv",
        "outputId": "2c870262-c6aa-46b5-a13f-6cd5ce2fd62a"
      },
      "execution_count": 143,
      "outputs": [
        {
          "output_type": "execute_result",
          "data": {
            "text/plain": [
              "User-ID                0\n",
              "ISBN                   0\n",
              "Book-Title             0\n",
              "Book-Author            0\n",
              "Year-Of-Publication    0\n",
              "Publisher              0\n",
              "Image-URL-S            0\n",
              "Image-URL-M            0\n",
              "Image-URL-L            0\n",
              "Book-Rating            0\n",
              "dtype: int64"
            ]
          },
          "metadata": {},
          "execution_count": 143
        }
      ]
    },
    {
      "cell_type": "code",
      "source": [
        "rating_df.duplicated().sum()"
      ],
      "metadata": {
        "colab": {
          "base_uri": "https://localhost:8080/"
        },
        "id": "4O1dFTqEUy5K",
        "outputId": "d9c6347c-ad4f-43c3-8713-0e456ecf056e"
      },
      "execution_count": 144,
      "outputs": [
        {
          "output_type": "execute_result",
          "data": {
            "text/plain": [
              "0"
            ]
          },
          "metadata": {},
          "execution_count": 144
        }
      ]
    },
    {
      "cell_type": "code",
      "source": [
        "zero_ratings = rating_df['Book-Rating'].value_counts()[0]\n",
        "zero_ratings"
      ],
      "metadata": {
        "colab": {
          "base_uri": "https://localhost:8080/"
        },
        "id": "kf06y2MDUy1P",
        "outputId": "2b634cab-705a-474d-cf22-b1c9509d9e20"
      },
      "execution_count": 145,
      "outputs": [
        {
          "output_type": "execute_result",
          "data": {
            "text/plain": [
              "647291"
            ]
          },
          "metadata": {},
          "execution_count": 145
        }
      ]
    },
    {
      "cell_type": "code",
      "source": [
        "unique_users = rating_df['User-ID'].nunique()\n",
        "unique_users"
      ],
      "metadata": {
        "colab": {
          "base_uri": "https://localhost:8080/"
        },
        "id": "Jo1dwSgyUyy5",
        "outputId": "65035c4e-fab6-4508-d7fb-bd4edebfef01"
      },
      "execution_count": 146,
      "outputs": [
        {
          "output_type": "execute_result",
          "data": {
            "text/plain": [
              "92106"
            ]
          },
          "metadata": {},
          "execution_count": 146
        }
      ]
    },
    {
      "cell_type": "code",
      "source": [
        "unique_books = rating_df['ISBN'].nunique()\n",
        "unique_books"
      ],
      "metadata": {
        "colab": {
          "base_uri": "https://localhost:8080/"
        },
        "id": "W7VdBNARVAKx",
        "outputId": "ff9fae28-6150-4560-a9c0-5b741749747c"
      },
      "execution_count": 147,
      "outputs": [
        {
          "output_type": "execute_result",
          "data": {
            "text/plain": [
              "270145"
            ]
          },
          "metadata": {},
          "execution_count": 147
        }
      ]
    },
    {
      "cell_type": "code",
      "source": [
        "import matplotlib.pyplot as plt\n",
        "\n",
        "# Ratings distribution\n",
        "ratings_distribution = rating_df['Book-Rating'].value_counts().sort_index()\n",
        "ratings_distribution"
      ],
      "metadata": {
        "colab": {
          "base_uri": "https://localhost:8080/"
        },
        "id": "CM0Fh1-TVAHX",
        "outputId": "71ea9025-354e-4c9b-c1d9-8aca2eeb82d3"
      },
      "execution_count": 148,
      "outputs": [
        {
          "output_type": "execute_result",
          "data": {
            "text/plain": [
              "0     647291\n",
              "1       1481\n",
              "2       2375\n",
              "3       5118\n",
              "4       7617\n",
              "5      45355\n",
              "6      31687\n",
              "7      66401\n",
              "8      91803\n",
              "9      60776\n",
              "10     71225\n",
              "Name: Book-Rating, dtype: int64"
            ]
          },
          "metadata": {},
          "execution_count": 148
        }
      ]
    },
    {
      "cell_type": "code",
      "source": [
        "# Plotting ratings distribution\n",
        "plt.figure(figsize=(10, 6))\n",
        "ratings_distribution.plot(kind='bar')\n",
        "plt.title('Ratings Distribution')\n",
        "plt.xlabel('Rating')\n",
        "plt.ylabel('Frequency')\n",
        "plt.show()"
      ],
      "metadata": {
        "colab": {
          "base_uri": "https://localhost:8080/",
          "height": 568
        },
        "id": "K1BwAKNFVAFd",
        "outputId": "cedc361e-6d6f-413e-d6d5-340cdf6a9afe"
      },
      "execution_count": 149,
      "outputs": [
        {
          "output_type": "display_data",
          "data": {
            "text/plain": [
              "<Figure size 1000x600 with 1 Axes>"
            ],
            "image/png": "[encoded data removed]"
          },
          "metadata": {}
        }
      ]
    },
    {
      "cell_type": "code",
      "source": [
        "# Ratings per user\n",
        "ratings_per_user = rating_df.groupby('User-ID')['Book-Rating'].count().sort_index()\n",
        "ratings_per_user"
      ],
      "metadata": {
        "colab": {
          "base_uri": "https://localhost:8080/"
        },
        "id": "lqJFIju3VADb",
        "outputId": "b396cfda-03fd-462a-81e1-c0aa2a91daf1"
      },
      "execution_count": 150,
      "outputs": [
        {
          "output_type": "execute_result",
          "data": {
            "text/plain": [
              "User-ID\n",
              "2          1\n",
              "8         17\n",
              "9          3\n",
              "10         1\n",
              "12         1\n",
              "          ..\n",
              "278846     1\n",
              "278849     4\n",
              "278851    23\n",
              "278852     1\n",
              "278854     8\n",
              "Name: Book-Rating, Length: 92106, dtype: int64"
            ]
          },
          "metadata": {},
          "execution_count": 150
        }
      ]
    },
    {
      "cell_type": "code",
      "source": [
        "plt.figure(figsize=(10, 6))\n",
        "plt.hist(ratings_per_user.values, bins=30, log=True)\n",
        "plt.title('Ratings per User')\n",
        "plt.xlabel('Number of Ratings')\n",
        "plt.ylabel('Count of Users')\n",
        "plt.show()"
      ],
      "metadata": {
        "colab": {
          "base_uri": "https://localhost:8080/",
          "height": 564
        },
        "id": "WDJhmVx8VjFb",
        "outputId": "793286be-1524-46ea-8a89-530fc3878138"
      },
      "execution_count": 151,
      "outputs": [
        {
          "output_type": "display_data",
          "data": {
            "text/plain": [
              "<Figure size 1000x600 with 1 Axes>"
            ],
            "image/png": "[encoded data removed]"
          },
          "metadata": {}
        }
      ]
    },
    {
      "cell_type": "code",
      "source": [
        "# Ratings per book\n",
        "ratings_per_book = rating_df.groupby('ISBN')['Book-Rating'].count().sort_index()\n",
        "ratings_per_book.head()"
      ],
      "metadata": {
        "colab": {
          "base_uri": "https://localhost:8080/"
        },
        "id": "DWiPOzZaVjCB",
        "outputId": "6e15838f-23f9-4482-bb5c-d2fda871a6df"
      },
      "execution_count": 152,
      "outputs": [
        {
          "output_type": "execute_result",
          "data": {
            "text/plain": [
              "ISBN\n",
              "0000913154    1\n",
              "0001010565    2\n",
              "0001046438    1\n",
              "0001046713    1\n",
              "000104687X    1\n",
              "Name: Book-Rating, dtype: int64"
            ]
          },
          "metadata": {},
          "execution_count": 152
        }
      ]
    },
    {
      "cell_type": "code",
      "source": [
        "# Plotting ratings per book\n",
        "plt.figure(figsize=(10, 6))\n",
        "plt.hist(ratings_per_book.values, bins=30, log=True)\n",
        "plt.title('Ratings per Book')\n",
        "plt.xlabel('Number of Ratings')\n",
        "plt.ylabel('Count of Books')\n",
        "plt.show()"
      ],
      "metadata": {
        "colab": {
          "base_uri": "https://localhost:8080/",
          "height": 564
        },
        "id": "QTwkmdoVVjAZ",
        "outputId": "2c9125d9-144c-4775-edd4-1573046b1710"
      },
      "execution_count": 153,
      "outputs": [
        {
          "output_type": "display_data",
          "data": {
            "text/plain": [
              "<Figure size 1000x600 with 1 Axes>"
            ],
            "image/png": "[encoded data removed]"
          },
          "metadata": {}
        }
      ]
    },
    {
      "cell_type": "code",
      "source": [
        "from scipy.sparse import csr_matrix\n",
        "\n",
        "# Assuming 'df' is your original ratings DataFrame\n",
        "user_ids = rating_df['User-ID'].astype(\"category\").cat.codes\n",
        "item_ids = rating_df['ISBN'].astype(\"category\").cat.codes\n",
        "ratings = rating_df['Book-Rating']\n",
        "\n",
        "# Create a sparse matrix\n",
        "user_item_matrix_sparse = csr_matrix((ratings, (user_ids, item_ids)), shape=(user_ids.max() + 1, item_ids.max() + 1))\n",
        "\n",
        "print(user_item_matrix_sparse)\n"
      ],
      "metadata": {
        "colab": {
          "base_uri": "https://localhost:8080/"
        },
        "id": "pzv0RZWx0Z7x",
        "outputId": "d1eea166-83a4-4b86-c1ea-06338878df1f"
      },
      "execution_count": 154,
      "outputs": [
        {
          "output_type": "stream",
          "name": "stdout",
          "text": [
            "  (0, 24927)\t0\n",
            "  (1, 73)\t5\n",
            "  (1, 8175)\t0\n",
            "  (1, 59963)\t0\n",
            "  (1, 71447)\t0\n",
            "  (1, 77555)\t0\n",
            "  (1, 82278)\t0\n",
            "  (1, 141124)\t0\n",
            "  (1, 143074)\t0\n",
            "  (1, 157286)\t5\n",
            "  (1, 166205)\t0\n",
            "  (1, 176656)\t0\n",
            "  (1, 202760)\t5\n",
            "  (1, 218666)\t5\n",
            "  (1, 221772)\t0\n",
            "  (1, 227000)\t6\n",
            "  (1, 230854)\t6\n",
            "  (1, 241536)\t7\n",
            "  (2, 87241)\t0\n",
            "  (2, 103362)\t6\n",
            "  (2, 129457)\t0\n",
            "  (3, 236547)\t0\n",
            "  (4, 241114)\t10\n",
            "  (5, 9807)\t5\n",
            "  (5, 83699)\t5\n",
            "  :\t:\n",
            "  (92103, 88332)\t5\n",
            "  (92103, 115631)\t0\n",
            "  (92103, 118105)\t0\n",
            "  (92103, 136632)\t7\n",
            "  (92103, 156891)\t0\n",
            "  (92103, 165573)\t5\n",
            "  (92103, 171397)\t5\n",
            "  (92103, 190666)\t7\n",
            "  (92103, 201534)\t7\n",
            "  (92103, 205167)\t5\n",
            "  (92103, 207838)\t7\n",
            "  (92103, 208284)\t8\n",
            "  (92103, 221371)\t8\n",
            "  (92103, 226514)\t0\n",
            "  (92103, 228174)\t10\n",
            "  (92103, 242207)\t7\n",
            "  (92104, 97747)\t8\n",
            "  (92105, 37984)\t7\n",
            "  (92105, 61716)\t7\n",
            "  (92105, 81712)\t7\n",
            "  (92105, 81798)\t7\n",
            "  (92105, 107646)\t0\n",
            "  (92105, 118016)\t6\n",
            "  (92105, 121631)\t0\n",
            "  (92105, 121696)\t8\n"
          ]
        }
      ]
    },
    {
      "cell_type": "code",
      "source": [
        "from sklearn.metrics.pairwise import cosine_similarity\n",
        "\n",
        "# Assuming user_item_matrix_sparse is your sparse matrix\n",
        "user_similarity = cosine_similarity(user_item_matrix_sparse, dense_output=False)\n",
        "item_similarity = cosine_similarity(user_item_matrix_sparse.T, dense_output=False)\n"
      ],
      "metadata": {
        "id": "heH6FCLI0zch"
      },
      "execution_count": 155,
      "outputs": []
    },
    {
      "cell_type": "code",
      "source": [
        "print(user_similarity)"
      ],
      "metadata": {
        "colab": {
          "base_uri": "https://localhost:8080/"
        },
        "id": "zguGY7Xs2ubq",
        "outputId": "d71b5214-c65d-4049-babe-771e8210adb1"
      },
      "execution_count": 156,
      "outputs": [
        {
          "output_type": "stream",
          "name": "stdout",
          "text": [
            "  (1, 74675)\t0.06598795479344474\n",
            "  (1, 87044)\t0.03784080109036774\n",
            "  (1, 72126)\t0.05898804727117089\n",
            "  (1, 69462)\t0.14823417800568506\n",
            "  (1, 65830)\t0.2852126942296184\n",
            "  (1, 40854)\t0.3363363969981562\n",
            "  (1, 38623)\t0.048873909204594515\n",
            "  (1, 22455)\t0.12655946698124634\n",
            "  (1, 3629)\t0.004234516427955321\n",
            "  (1, 1)\t0.9999999999999999\n",
            "  (2, 89662)\t0.14488189694993617\n",
            "  (2, 89655)\t0.5598925109558544\n",
            "  (2, 89200)\t0.23863697995167382\n",
            "  (2, 87944)\t0.17908612711114455\n",
            "  (2, 87390)\t0.14436106547701633\n",
            "  (2, 85410)\t0.27146264489895156\n",
            "  (2, 84057)\t0.27934688485989034\n",
            "  (2, 83556)\t0.3606678538669729\n",
            "  (2, 82895)\t0.4691574316284183\n",
            "  (2, 82854)\t0.2564682254550006\n",
            "  (2, 79618)\t0.3862269678805871\n",
            "  (2, 79333)\t0.11717917486340808\n",
            "  (2, 79311)\t0.8320502943378436\n",
            "  (2, 76437)\t0.43726946944662604\n",
            "  (2, 73843)\t0.10375027518676229\n",
            "  :\t:\n",
            "  (92105, 24595)\t0.05642226451917658\n",
            "  (92105, 22832)\t0.4068667356033675\n",
            "  (92105, 22102)\t0.12938336315540333\n",
            "  (92105, 21524)\t0.04348208197492612\n",
            "  (92105, 21249)\t0.19735935605211033\n",
            "  (92105, 20271)\t0.32549338848269405\n",
            "  (92105, 19987)\t0.4068667356033675\n",
            "  (92105, 18492)\t0.0790666237244296\n",
            "  (92105, 15370)\t0.018741351451440413\n",
            "  (92105, 14859)\t0.08238843851176633\n",
            "  (92105, 14428)\t0.04458428705299415\n",
            "  (92105, 12171)\t0.4037248605099307\n",
            "  (92105, 11847)\t0.022817388676291836\n",
            "  (92105, 10238)\t0.06188526380753408\n",
            "  (92105, 9756)\t0.16808406305254597\n",
            "  (92105, 8742)\t0.24412004136202048\n",
            "  (92105, 8317)\t0.4068667356033675\n",
            "  (92105, 7561)\t0.027923149554213603\n",
            "  (92105, 6104)\t0.05898462718239675\n",
            "  (92105, 5253)\t0.014412383027208929\n",
            "  (92105, 3629)\t0.0032015637678488797\n",
            "  (92105, 3603)\t0.05227853365141338\n",
            "  (92105, 2643)\t0.08144974208081358\n",
            "  (92105, 92105)\t1.0\n",
            "  (92105, 31603)\t0.03936969321472819\n"
          ]
        }
      ]
    },
    {
      "cell_type": "code",
      "source": [
        "print(item_similarity)"
      ],
      "metadata": {
        "colab": {
          "base_uri": "https://localhost:8080/"
        },
        "id": "RraAahix3ZV1",
        "outputId": "de215ee9-a7d2-4b76-a044-a61cccc54484"
      },
      "execution_count": 157,
      "outputs": [
        {
          "output_type": "stream",
          "name": "stdout",
          "text": [
            "  (0, 262466)\t1.0\n",
            "  (0, 261956)\t1.0\n",
            "  (0, 243726)\t0.7682212795973759\n",
            "  (0, 241197)\t1.0\n",
            "  (0, 240750)\t0.3866945956182654\n",
            "  (0, 239794)\t0.375\n",
            "  (0, 239674)\t1.0\n",
            "  (0, 239449)\t1.0\n",
            "  (0, 239059)\t0.554700196225229\n",
            "  (0, 238463)\t1.0\n",
            "  (0, 237969)\t1.0\n",
            "  (0, 237717)\t0.21925149171034317\n",
            "  (0, 237697)\t1.0\n",
            "  (0, 237691)\t0.5832118435198043\n",
            "  (0, 235747)\t0.12469593727770992\n",
            "  (0, 235667)\t1.0\n",
            "  (0, 234613)\t1.0\n",
            "  (0, 234234)\t0.5185629788417315\n",
            "  (0, 234228)\t0.5261522196019802\n",
            "  (0, 234227)\t0.5734623443633283\n",
            "  (0, 234164)\t1.0\n",
            "  (0, 233237)\t1.0\n",
            "  (0, 232885)\t1.0\n",
            "  (0, 232608)\t1.0\n",
            "  (0, 232251)\t1.0\n",
            "  :\t:\n",
            "  (270139, 11210)\t0.1938736881594737\n",
            "  (270139, 11151)\t0.8320502943378436\n",
            "  (270139, 10765)\t0.423999152002544\n",
            "  (270139, 10527)\t0.4142242984627982\n",
            "  (270139, 9794)\t0.6246950475544243\n",
            "  (270139, 9353)\t0.48686449556014766\n",
            "  (270139, 9332)\t1.0\n",
            "  (270139, 9319)\t0.4437601569801833\n",
            "  (270139, 9312)\t0.5397841295136605\n",
            "  (270139, 9296)\t0.2656844656620286\n",
            "  (270139, 9207)\t0.4472135954999579\n",
            "  (270139, 8436)\t0.5059644256269407\n",
            "  (270139, 8399)\t0.2414022747926338\n",
            "  (270139, 8130)\t0.2546428056316921\n",
            "  (270139, 7756)\t0.6137949055234262\n",
            "  (270139, 7715)\t0.443079020497369\n",
            "  (270139, 7546)\t1.0\n",
            "  (270139, 7350)\t0.4437601569801833\n",
            "  (270139, 6616)\t1.0\n",
            "  (270139, 5114)\t0.46188021535170054\n",
            "  (270139, 4689)\t0.3853373177942262\n",
            "  (270139, 4553)\t0.5025707110324167\n",
            "  (270139, 4203)\t0.2075689697621009\n",
            "  (270139, 3948)\t1.0\n",
            "  (270139, 1843)\t0.49424165057217234\n"
          ]
        }
      ]
    },
    {
      "cell_type": "code",
      "source": [
        "# Convert ISBN to category and obtain category codes\n",
        "rating_df['ISBN_code'] = rating_df['ISBN'].astype('category').cat.codes\n",
        "\n",
        "# Create item mapping from indices to original ISBNs\n",
        "item_mapping = dict(enumerate(rating_df['ISBN'].astype('category').cat.categories))\n",
        "\n",
        "# Now, item_mapping is a dictionary where keys are numerical indices and values are the original ISBNs\n",
        "\n",
        "def user_user_recommendations_sparse(user_id, user_similarity=user_similarity, user_item_matrix=user_item_matrix_sparse, item_mapping=item_mapping, top_n=5):\n",
        "    # Ensure the user_item_matrix is in CSR format for efficient row querying\n",
        "    if not isinstance(user_item_matrix, csr_matrix):\n",
        "        user_item_matrix = csr_matrix(user_item_matrix)\n",
        "\n",
        "    # Get the similarity scores for the target user directly from the sparse matrix\n",
        "    similarity_scores = user_similarity.getrow(user_id).toarray().flatten()\n",
        "\n",
        "    # Predict scores by multiplying the similarity scores with the user-item matrix\n",
        "    pred_scores = user_item_matrix.T.dot(similarity_scores).flatten() # Removed .toarray() here\n",
        "\n",
        "    # Get indices of already rated items to filter them out from recommendations\n",
        "    rated_items = user_item_matrix.getrow(user_id).nonzero()[1]\n",
        "\n",
        "    # Recommend items that the user hasn't rated yet\n",
        "    recommendations = [(item, score) for item, score in enumerate(pred_scores) if item not in rated_items]\n",
        "\n",
        "    # Sort the recommendations based on scores and return the top N\n",
        "    recommendations.sort(key=lambda x: x[1], reverse=True)\n",
        "\n",
        "    # Map indices to original ISBN numbers\n",
        "    recommended_isbns = [item_mapping[item] for item, score in recommendations[:top_n]]\n",
        "\n",
        "    return recommended_isbns\n",
        "\n",
        "# Example usage:\n",
        "# Assuming user_id is an integer corresponding to the index in the user_similarity matrix\n",
        "# and user_item_matrix_sparse is the original sparse matrix you created\n",
        "user_recommendations = user_user_recommendations_sparse(10, user_similarity, user_item_matrix_sparse,item_mapping, top_n=5)\n",
        "print(user_recommendations)\n"
      ],
      "metadata": {
        "colab": {
          "base_uri": "https://localhost:8080/"
        },
        "id": "pckm_xxn3eA0",
        "outputId": "992b9f9a-651e-41e1-ea91-5d8ff1037495"
      },
      "execution_count": 158,
      "outputs": [
        {
          "output_type": "stream",
          "name": "stdout",
          "text": [
            "['0000913154', '0001010565', '0001046438', '0001046713', '000104687X']\n"
          ]
        }
      ]
    },
    {
      "cell_type": "code",
      "source": [
        "# Filter the DataFrame to include only 'User-ID', 'ISBN', and 'Book-Rating' columns\n",
        "ratings_filtered_df = rating_df[['User-ID', 'ISBN', 'Book-Rating']]\n",
        "\n",
        "# Display the first few rows of the filtered DataFrame and its shape to confirm\n",
        "ratings_filtered_df.head(), ratings_filtered_df.shape"
      ],
      "metadata": {
        "colab": {
          "base_uri": "https://localhost:8080/"
        },
        "id": "fgfOkpnTyZ0P",
        "outputId": "bfe8e1ab-705c-481b-c3fd-7a6c136c0e0c"
      },
      "execution_count": 159,
      "outputs": [
        {
          "output_type": "execute_result",
          "data": {
            "text/plain": [
              "(   User-ID        ISBN  Book-Rating\n",
              " 0        2  0195153448            0\n",
              " 1        8  0002005018            5\n",
              " 2    11400  0002005018            0\n",
              " 3    11676  0002005018            8\n",
              " 4    41385  0002005018            0,\n",
              " (1031129, 3))"
            ]
          },
          "metadata": {},
          "execution_count": 159
        }
      ]
    },
    {
      "cell_type": "code",
      "source": [
        "import numpy as np\n",
        "\n",
        "def train_test_split(ratings, test_size=0.2):\n",
        "    # Ensure deterministic results\n",
        "    np.random.seed(42)\n",
        "\n",
        "    # Create a mask of the same size as the ratings dataset, initially set to False\n",
        "    test_mask = np.zeros(len(ratings), dtype=bool)\n",
        "\n",
        "    # For each user, randomly select test_size percentage of ratings to be included in the test set\n",
        "    for user_id in ratings['User-ID'].unique():\n",
        "        user_ratings = ratings[ratings['User-ID'] == user_id]\n",
        "        test_indices = np.random.choice(user_ratings.index, size=int(len(user_ratings) * test_size), replace=False)\n",
        "        test_mask[test_indices] = True\n",
        "\n",
        "    # Split the dataset\n",
        "    test_ratings = ratings[test_mask]\n",
        "    train_ratings = ratings[~test_mask]\n",
        "\n",
        "    return train_ratings, test_ratings\n",
        "\n",
        "# Assuming ratings_df is your DataFrame\n",
        "train_df, test_df = train_test_split(ratings_filtered_df, test_size=0.2)\n",
        "\n",
        "# Display the first few rows of the train and test datasets to verify\n",
        "train_df.head(), test_df.head(), train_df.shape, test_df.shape\n"
      ],
      "metadata": {
        "colab": {
          "base_uri": "https://localhost:8080/"
        },
        "id": "44inP8q6yZw0",
        "outputId": "6385072d-b2b7-48de-ee05-fe1442e84f9c"
      },
      "execution_count": 160,
      "outputs": [
        {
          "output_type": "execute_result",
          "data": {
            "text/plain": [
              "(   User-ID        ISBN  Book-Rating\n",
              " 0        2  0195153448            0\n",
              " 4    41385  0002005018            0\n",
              " 5    67544  0002005018            8\n",
              " 6    85526  0002005018            0\n",
              " 7    96054  0002005018            0,\n",
              "     User-ID        ISBN  Book-Rating\n",
              " 1         8  0002005018            5\n",
              " 2     11400  0002005018            0\n",
              " 3     11676  0002005018            8\n",
              " 10   177458  0002005018            0\n",
              " 15        8  0060973129            0,\n",
              " (852952, 3),\n",
              " (178177, 3))"
            ]
          },
          "metadata": {},
          "execution_count": 160
        }
      ]
    },
    {
      "cell_type": "code",
      "source": [
        " # Create a sparse user-item matrix for the training set\n",
        "# Map User-ID and ISBN to categorical codes to work with sparse matrix\n",
        "user_ids = train_df['User-ID'].astype(\"category\").cat.codes\n",
        "isbn_codes = train_df['ISBN'].astype(\"category\").cat.codes\n",
        "\n",
        "# Create a sparse matrix with users as rows, items as columns, and ratings as values\n",
        "train_matrix = csr_matrix((train_df['Book-Rating'], (user_ids, isbn_codes)))\n",
        "\n",
        "# Compute the cosine similarity between users\n",
        "users_similarity = cosine_similarity(train_matrix, dense_output=False)"
      ],
      "metadata": {
        "id": "uxXLIJ55yZqa"
      },
      "execution_count": 161,
      "outputs": []
    },
    {
      "cell_type": "code",
      "source": [
        "users_similarity.shape"
      ],
      "metadata": {
        "colab": {
          "base_uri": "https://localhost:8080/"
        },
        "id": "bJfSzW-x1CnB",
        "outputId": "8c527327-ed3b-476a-fc67-c152f74c628c"
      },
      "execution_count": 162,
      "outputs": [
        {
          "output_type": "execute_result",
          "data": {
            "text/plain": [
              "(90762, 90762)"
            ]
          },
          "metadata": {},
          "execution_count": 162
        }
      ]
    },
    {
      "cell_type": "code",
      "source": [
        "user_mapping = dict(enumerate(train_df['User-ID'].astype(\"category\").cat.categories))"
      ],
      "metadata": {
        "id": "yARkxKgh3Tkz"
      },
      "execution_count": 163,
      "outputs": []
    },
    {
      "cell_type": "code",
      "source": [
        "def predict_user_rating(user_id, isbn, users_similarity, train_matrix, user_mapping, item_mapping):\n",
        "    \"\"\"\n",
        "    Predicts the rating a user would give to an item.\n",
        "\n",
        "    Parameters:\n",
        "    - user_id: The ID of the user (as per original dataset).\n",
        "    - isbn: The ISBN of the book (as per original dataset).\n",
        "    - user_similarity: A sparse matrix of user-user similarities.\n",
        "    - train_matrix: A sparse matrix of user-item ratings from the training set.\n",
        "    - user_mapping: A dictionary mapping the user matrix index to the User-ID.\n",
        "    - item_mapping: A dictionary mapping the item matrix index to the ISBN.\n",
        "\n",
        "    Returns:\n",
        "    - The predicted rating for the user-item pair.\n",
        "    \"\"\"\n",
        "    # Find the matrix indices for the user and item\n",
        "    user_index = {v: k for k, v in user_mapping.items()}.get(user_id, None)\n",
        "    item_index = {v: k for k, v in item_mapping.items()}.get(isbn, None)\n",
        "\n",
        "    if user_index is None or item_index is None:\n",
        "        # User or item not found in the training set, return a default prediction\n",
        "        return 0\n",
        "\n",
        "    # Get the similarity scores for this user and all other users\n",
        "    similarity_scores = user_similarity[user_index].toarray().flatten()\n",
        "\n",
        "    # Get all ratings for the item\n",
        "    item_ratings = train_matrix[:, item_index].toarray().flatten()\n",
        "\n",
        "    # Compute the predicted rating\n",
        "    weighted_scores = similarity_scores * item_ratings\n",
        "    if weighted_scores.sum() > 0:\n",
        "        predicted_rating = np.dot(item_ratings, similarity_scores) / np.sum(similarity_scores[item_ratings > 0])\n",
        "    else:\n",
        "        predicted_rating = 0  # Fallback prediction if no similar users have rated this item\n",
        "\n",
        "    return predicted_rating\n"
      ],
      "metadata": {
        "id": "BLbjCBu73Tha"
      },
      "execution_count": 164,
      "outputs": []
    },
    {
      "cell_type": "code",
      "source": [
        "# # Example usage:\n",
        "# test_user_id = test_df.iloc[0]['User-ID']\n",
        "# test_isbn = test_df.iloc[0]['ISBN']\n",
        "# predicted_rating = predict_user_rating(test_user_id, test_isbn, users_similarity, train_matrix, user_mapping, item_mapping)\n",
        "# print(f\"Predicted rating for User-ID {test_user_id} and ISBN {test_isbn}: {predicted_rating}\")"
      ],
      "metadata": {
        "id": "HkJjSBIr3Tfu"
      },
      "execution_count": 165,
      "outputs": []
    },
    {
      "cell_type": "code",
      "source": [],
      "metadata": {
        "id": "JEq_poVD3Tdu"
      },
      "execution_count": 165,
      "outputs": []
    },
    {
      "cell_type": "code",
      "source": [],
      "metadata": {
        "id": "I4iJOZIe3Tbt"
      },
      "execution_count": 165,
      "outputs": []
    },
    {
      "cell_type": "code",
      "source": [
        "def get_books_details(isbn_list, rating_df=rating_df):\n",
        "    # Filter the books dataframe for the given ISBNs\n",
        "    filtered_books = rating_df[rating_df['ISBN'].isin(isbn_list)]\n",
        "\n",
        "    # Select required columns\n",
        "    filtered_books = filtered_books[['ISBN', 'Book-Title', 'Book-Author', 'Year-Of-Publication', 'Publisher', 'Image-URL-S', 'Image-URL-M', 'Image-URL-L']]\n",
        "\n",
        "    # Convert the dataframe to a dictionary format that matches the desired output\n",
        "    books_details = filtered_books.to_dict(orient='records')\n",
        "\n",
        "    return books_details\n",
        "\n",
        "# Example ISBN list from user-user based collaborative filtering for user ID = 10\n",
        "# isbn_list = ['0000913154', '0001010565', '0001046438', '0001046713', '000104687X']\n",
        "\n",
        "# Assuming books_df is your dataframe containing all book details\n",
        "books_details = get_books_details(user_recommendations, rating_df)\n",
        "\n",
        "# Print or use the books_details for your API work\n",
        "print(books_details)\n"
      ],
      "metadata": {
        "colab": {
          "base_uri": "https://localhost:8080/"
        },
        "id": "DxQjOp64nvWZ",
        "outputId": "502f1e6f-297f-41df-aa8e-32fc17176afa"
      },
      "execution_count": 166,
      "outputs": [
        {
          "output_type": "stream",
          "name": "stdout",
          "text": [
            "[{'ISBN': '0001046438', 'Book-Title': 'Liar', 'Book-Author': 'Stephen Fry', 'Year-Of-Publication': 0, 'Publisher': 'Harpercollins Uk', 'Image-URL-S': 'http://images.amazon.com/images/P/0001046438.01.THUMBZZZ.jpg', 'Image-URL-M': 'http://images.amazon.com/images/P/0001046438.01.MZZZZZZZ.jpg', 'Image-URL-L': 'http://images.amazon.com/images/P/0001046438.01.LZZZZZZZ.jpg'}, {'ISBN': '000104687X', 'Book-Title': 'T.S. Eliot Reading \\\\The Wasteland\\\\\" and Other Poems\"', 'Book-Author': 'T.S. Eliot', 'Year-Of-Publication': 1993, 'Publisher': 'HarperCollins Publishers', 'Image-URL-S': 'http://images.amazon.com/images/P/000104687X.01.THUMBZZZ.jpg', 'Image-URL-M': 'http://images.amazon.com/images/P/000104687X.01.MZZZZZZZ.jpg', 'Image-URL-L': 'http://images.amazon.com/images/P/000104687X.01.LZZZZZZZ.jpg'}, {'ISBN': '0001046713', 'Book-Title': 'Twopence to Cross the Mersey', 'Book-Author': 'Helen Forrester', 'Year-Of-Publication': 1992, 'Publisher': 'HarperCollins Publishers', 'Image-URL-S': 'http://images.amazon.com/images/P/0001046713.01.THUMBZZZ.jpg', 'Image-URL-M': 'http://images.amazon.com/images/P/0001046713.01.MZZZZZZZ.jpg', 'Image-URL-L': 'http://images.amazon.com/images/P/0001046713.01.LZZZZZZZ.jpg'}, {'ISBN': '0001010565', 'Book-Title': \"Mog's Christmas\", 'Book-Author': 'Judith Kerr', 'Year-Of-Publication': '1992', 'Publisher': 'Collins', 'Image-URL-S': 'http://images.amazon.com/images/P/0001010565.01.THUMBZZZ.jpg', 'Image-URL-M': 'http://images.amazon.com/images/P/0001010565.01.MZZZZZZZ.jpg', 'Image-URL-L': 'http://images.amazon.com/images/P/0001010565.01.LZZZZZZZ.jpg'}, {'ISBN': '0001010565', 'Book-Title': \"Mog's Christmas\", 'Book-Author': 'Judith Kerr', 'Year-Of-Publication': '1992', 'Publisher': 'Collins', 'Image-URL-S': 'http://images.amazon.com/images/P/0001010565.01.THUMBZZZ.jpg', 'Image-URL-M': 'http://images.amazon.com/images/P/0001010565.01.MZZZZZZZ.jpg', 'Image-URL-L': 'http://images.amazon.com/images/P/0001010565.01.LZZZZZZZ.jpg'}, {'ISBN': '0000913154', 'Book-Title': 'The Way Things Work: An Illustrated Encyclopedia of Technology', 'Book-Author': 'C. van Amerongen (translator)', 'Year-Of-Publication': 1967, 'Publisher': 'Simon &amp; Schuster', 'Image-URL-S': 'http://images.amazon.com/images/P/0000913154.01.THUMBZZZ.jpg', 'Image-URL-M': 'http://images.amazon.com/images/P/0000913154.01.MZZZZZZZ.jpg', 'Image-URL-L': 'http://images.amazon.com/images/P/0000913154.01.LZZZZZZZ.jpg'}]\n"
          ]
        }
      ]
    },
    {
      "cell_type": "code",
      "source": [
        "isbn_to_index_mapping = {v: k for k, v in item_mapping.items()}"
      ],
      "metadata": {
        "id": "kEhCvI6ID7kd"
      },
      "execution_count": 180,
      "outputs": []
    },
    {
      "cell_type": "code",
      "source": [
        "# Create a mapping from book titles to ISBNs\n",
        "title_to_isbn_mapping = pd.Series(books_df['ISBN'].values, index=books_df['Book-Title']).to_dict()\n"
      ],
      "metadata": {
        "id": "-b9Py770Hi-_"
      },
      "execution_count": 189,
      "outputs": []
    },
    {
      "cell_type": "code",
      "source": [
        "def item_item_recommendations_sparse_by_title(book_title, title_to_isbn_mapping, item_similarity, user_item_matrix, isbn_to_index_mapping, item_mapping, top_n=5):\n",
        "    # Convert book title to ISBN\n",
        "    isbn = title_to_isbn_mapping.get(book_title)\n",
        "    if isbn is None:\n",
        "        return []  # Book title not found\n",
        "\n",
        "    # Convert ISBN to item index\n",
        "    item_index = isbn_to_index_mapping.get(isbn)\n",
        "    if item_index is None:\n",
        "        return []  # ISBN not found in the index mapping\n",
        "\n",
        "    # Follow the existing process to get similarity scores and generate recommendations\n",
        "    similarity_scores = item_similarity.getcol(item_index).toarray().flatten()\n",
        "    recommendations = [(item, score) for item, score in enumerate(similarity_scores) if item != item_index]\n",
        "    recommendations.sort(key=lambda x: x[1], reverse=True)\n",
        "    recommended_isbns = [item_mapping[item] for item, score in recommendations[:top_n]]\n",
        "\n",
        "    return recommended_isbns\n"
      ],
      "metadata": {
        "id": "HjSv-tI0JI07"
      },
      "execution_count": 190,
      "outputs": []
    },
    {
      "cell_type": "code",
      "source": [
        "example_title = 'Forms of Devotion: Stories and Pictures'  # Replace this with an actual book title from your dataset\n",
        "\n",
        "recommended_isbns = item_item_recommendations_sparse_by_title(\n",
        "    example_title,\n",
        "    title_to_isbn_mapping,\n",
        "    item_similarity,\n",
        "    user_item_matrix_sparse,\n",
        "    isbn_to_index_mapping,\n",
        "    item_mapping,\n",
        "    top_n=5\n",
        ")\n",
        "\n",
        "print(f\"Recommended items for book title '{example_title}': {recommended_isbns}\")\n"
      ],
      "metadata": {
        "colab": {
          "base_uri": "https://localhost:8080/"
        },
        "id": "n_rE-qq6JK-Z",
        "outputId": "9689c1ee-f929-4168-9a56-82875f73cb1e"
      },
      "execution_count": 191,
      "outputs": [
        {
          "output_type": "stream",
          "name": "stdout",
          "text": [
            "Recommended items for book title 'Forms of Devotion: Stories and Pictures': ['0000913154', '0001010565', '0001046438', '0001046713', '000104687X']\n"
          ]
        }
      ]
    },
    {
      "cell_type": "code",
      "source": [
        "import pickle\n",
        "\n",
        "recommendation_functions = {\n",
        "    'user_similarity': user_similarity,\n",
        "    'item_similarity':item_similarity,\n",
        "    'rating_df':rating_df,\n",
        "    'top_n':5,\n",
        "    'user_item_matrix_sparse':user_item_matrix_sparse,\n",
        "    'item_mapping':item_mapping,\n",
        "    'title_to_isbn_mapping':title_to_isbn_mapping,\n",
        "    'isbn_to_index_mapping':isbn_to_index_mapping\n",
        "\n",
        "}\n",
        "\n",
        "with open(\"recommendation.pkl\", \"wb\") as pickle_out:\n",
        "    pickle.dump(recommendation_functions, pickle_out)\n",
        "\n",
        "\n"
      ],
      "metadata": {
        "id": "IPvHEFt-JjBR"
      },
      "execution_count": 204,
      "outputs": []
    },
    {
      "cell_type": "code",
      "source": [
        "def user_user_recommendations_sparse(user_id, user_similarity, user_item_matrix, item_mapping, top_n=5):\n",
        "    # Ensure the user_item_matrix is in CSR format for efficient row querying\n",
        "    if not isinstance(user_item_matrix, csr_matrix):\n",
        "        user_item_matrix = csr_matrix(user_item_matrix)\n",
        "\n",
        "    # Get the similarity scores for the target user directly from the sparse matrix\n",
        "    similarity_scores = user_similarity.getrow(user_id).toarray().flatten()\n",
        "\n",
        "    print(user_item_matrix.shape)\n",
        "    print(similarity_scores.shape)\n",
        "    # Predict scores by multiplying the similarity scores with the user-item matrix\n",
        "    pred_scores = user_item_matrix.T.dot(similarity_scores).flatten()\n",
        "\n",
        "    # Get indices of already rated items to filter them out from recommendations\n",
        "    rated_items = user_item_matrix.getrow(user_id).nonzero()[1]\n",
        "\n",
        "    # Recommend items that the user hasn't rated yet\n",
        "    recommendations = [(item, score) for item, score in enumerate(pred_scores) if item not in rated_items]\n",
        "\n",
        "    # Sort the recommendations based on scores and return the top N\n",
        "    recommendations.sort(key=lambda x: x[1], reverse=True)\n",
        "\n",
        "    # Map indices to original ISBN numbers\n",
        "    recommended_isbns = [item_mapping[item] for item, score in recommendations[:top_n]]\n",
        "\n",
        "    return recommended_isbns\n",
        "\n"
      ],
      "metadata": {
        "id": "UZn1hDsbKmUg"
      },
      "execution_count": 201,
      "outputs": []
    },
    {
      "cell_type": "code",
      "source": [
        "user_recommendations = user_user_recommendations_sparse(10, user_similarity, user_item_matrix_sparse,item_mapping, top_n=5)\n",
        "print(user_recommendations)"
      ],
      "metadata": {
        "colab": {
          "base_uri": "https://localhost:8080/"
        },
        "id": "rAqZMz8XofMH",
        "outputId": "9e45f9aa-fb0e-4254-ea98-a6796b49a220"
      },
      "execution_count": 202,
      "outputs": [
        {
          "output_type": "stream",
          "name": "stdout",
          "text": [
            "(92106, 270145)\n",
            "(92106,)\n",
            "['0000913154', '0001010565', '0001046438', '0001046713', '000104687X']\n"
          ]
        }
      ]
    },
    {
      "cell_type": "code",
      "source": [],
      "metadata": {
        "id": "7n-xjxUQpQGx"
      },
      "execution_count": null,
      "outputs": []
    }
  ]
}